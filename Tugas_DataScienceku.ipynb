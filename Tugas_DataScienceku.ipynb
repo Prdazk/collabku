{
  "nbformat": 4,
  "nbformat_minor": 0,
  "metadata": {
    "colab": {
      "provenance": [],
      "include_colab_link": true
    },
    "kernelspec": {
      "name": "python3",
      "display_name": "Python 3"
    },
    "language_info": {
      "name": "python"
    }
  },
  "cells": [
    {
      "cell_type": "markdown",
      "metadata": {
        "id": "view-in-github",
        "colab_type": "text"
      },
      "source": [
        "<a href=\"https://colab.research.google.com/github/Prdazk/collabku/blob/main/Tugas_DataScienceku.ipynb\" target=\"_parent\"><img src=\"https://colab.research.google.com/assets/colab-badge.svg\" alt=\"Open In Colab\"/></a>"
      ]
    },
    {
      "cell_type": "code",
      "execution_count": 1,
      "metadata": {
        "colab": {
          "base_uri": "https://localhost:8080/"
        },
        "id": "tkbi4TpPp55i",
        "outputId": "03f8a300-de6d-40c2-cdac-4312781c3a93"
      },
      "outputs": [
        {
          "output_type": "stream",
          "name": "stdout",
          "text": [
            "Mounted at /content/drive\n",
            "Folder sudah ada, tidak perlu extract lagi\n"
          ]
        }
      ],
      "source": [
        "from google.colab import drive\n",
        "import zipfile, os\n",
        "\n",
        "# Mount Google Drive\n",
        "drive.mount('/content/drive')\n",
        "\n",
        "zip_path = \"/content/sample_data/daily+and+sports+activities (1).zip\"\n",
        "extract_path = \"/content/drive/MyDrive/datasetku\"\n",
        "\n",
        "# Hanya extract kalau folder belum ada\n",
        "if not os.path.exists(extract_path):\n",
        "    with zipfile.ZipFile(zip_path, 'r') as zip_ref:\n",
        "        zip_ref.extractall(extract_path)\n",
        "    print(\"File diextract ke Drive\")\n",
        "else:\n",
        "    print(\"Folder sudah ada, tidak perlu extract lagi\")\n"
      ]
    },
    {
      "cell_type": "code",
      "source": [
        "import os\n",
        "\n",
        "extract_path = \"/content/drive/MyDrive/datasetku\"\n",
        "print(os.listdir(extract_path))\n"
      ],
      "metadata": {
        "colab": {
          "base_uri": "https://localhost:8080/"
        },
        "id": "ev5VN3RJtX8b",
        "outputId": "7c2b0a7b-89c9-4b1d-83d9-6e914e8e43c7"
      },
      "execution_count": 3,
      "outputs": [
        {
          "output_type": "stream",
          "name": "stdout",
          "text": [
            "['data']\n"
          ]
        }
      ]
    },
    {
      "cell_type": "code",
      "source": [
        "import os\n",
        "\n",
        "data_path = \"/content/drive/MyDrive/datasetku/data\"\n",
        "print(os.listdir(data_path))\n"
      ],
      "metadata": {
        "colab": {
          "base_uri": "https://localhost:8080/"
        },
        "id": "wMLAnvsntpRU",
        "outputId": "adc5db56-c623-411e-da77-73f1439348df"
      },
      "execution_count": 4,
      "outputs": [
        {
          "output_type": "stream",
          "name": "stdout",
          "text": [
            "['a08', 'a09', 'a10', 'a01', 'a02', 'a03', 'a04', 'a05', 'a06', 'a07', 'a11', 'a12']\n"
          ]
        }
      ]
    },
    {
      "cell_type": "code",
      "source": [
        "import os\n",
        "\n",
        "sub_path = \"/content/drive/MyDrive/datasetku/data/a01\"\n",
        "print(os.listdir(sub_path))\n"
      ],
      "metadata": {
        "colab": {
          "base_uri": "https://localhost:8080/"
        },
        "id": "0ku2mf4_tt8A",
        "outputId": "239e4ea1-f871-41e2-db3f-527ee40fbbe7"
      },
      "execution_count": 5,
      "outputs": [
        {
          "output_type": "stream",
          "name": "stdout",
          "text": [
            "['p4', 'p8', 'p7', 'p1', 'p2', 'p3', 'p5', 'p6']\n"
          ]
        }
      ]
    },
    {
      "cell_type": "code",
      "source": [
        "import os\n",
        "\n",
        "deep_path = \"/content/drive/MyDrive/datasetku/data/a01/p1\"\n",
        "print(os.listdir(deep_path))\n"
      ],
      "metadata": {
        "colab": {
          "base_uri": "https://localhost:8080/"
        },
        "id": "1oLVDlsttzRf",
        "outputId": "b3c65d39-f1a5-47cb-cff2-c90b0024cc78"
      },
      "execution_count": 6,
      "outputs": [
        {
          "output_type": "stream",
          "name": "stdout",
          "text": [
            "['s26.txt', 's01.txt', 's02.txt', 's03.txt', 's04.txt', 's05.txt', 's06.txt', 's07.txt', 's08.txt', 's09.txt', 's10.txt', 's11.txt', 's12.txt', 's13.txt', 's14.txt', 's15.txt', 's16.txt', 's17.txt', 's18.txt', 's19.txt', 's20.txt', 's21.txt', 's22.txt', 's23.txt', 's24.txt', 's25.txt', 's27.txt', 's28.txt', 's29.txt', 's30.txt', 's31.txt', 's32.txt', 's33.txt', 's34.txt', 's35.txt', 's36.txt', 's37.txt', 's38.txt', 's39.txt', 's40.txt', 's41.txt', 's42.txt', 's43.txt', 's44.txt', 's45.txt', 's46.txt', 's47.txt', 's48.txt', 's49.txt', 's50.txt', 's51.txt', 's52.txt', 's53.txt', 's54.txt', 's55.txt', 's56.txt', 's57.txt', 's58.txt', 's59.txt', 's60.txt']\n"
          ]
        }
      ]
    },
    {
      "cell_type": "code",
      "source": [
        "import pandas as pd\n",
        "\n",
        "file_path = \"/content/drive/MyDrive/datasetku/data/a01/p1/s01.txt\"\n",
        "\n",
        "# Dataset ini biasanya dipisah dengan spasi\n",
        "df = pd.read_csv(file_path, delim_whitespace=True, header=None)\n",
        "\n",
        "print(df.head())       # lihat 5 baris pertama\n",
        "print(df.shape)        # ukuran data\n"
      ],
      "metadata": {
        "colab": {
          "base_uri": "https://localhost:8080/"
        },
        "id": "UHkD0b67t44z",
        "outputId": "e803ddfb-6cbf-49f4-c095-069a5b391b62"
      },
      "execution_count": 7,
      "outputs": [
        {
          "output_type": "stream",
          "name": "stderr",
          "text": [
            "/tmp/ipython-input-1022867245.py:6: FutureWarning: The 'delim_whitespace' keyword in pd.read_csv is deprecated and will be removed in a future version. Use ``sep='\\s+'`` instead\n",
            "  df = pd.read_csv(file_path, delim_whitespace=True, header=None)\n"
          ]
        },
        {
          "output_type": "stream",
          "name": "stdout",
          "text": [
            "                                                   0\n",
            "0  8.1305,1.0349,5.4217,-0.009461,0.001915,-0.003...\n",
            "1  8.1305,1.0202,5.3843,-0.009368,0.023485,0.0019...\n",
            "2  8.1604,1.0201,5.3622,0.015046,0.01433,0.000204...\n",
            "3  8.1603,1.0052,5.377,0.006892,0.018045,0.005649...\n",
            "4  8.1605,1.0275,5.3473,0.008811,0.030433,-0.0053...\n",
            "(125, 1)\n"
          ]
        }
      ]
    },
    {
      "cell_type": "code",
      "source": [
        "import pandas as pd\n",
        "\n",
        "# Contoh ambil salah satu file\n",
        "file_path = \"/content/drive/MyDrive/datasetku/data/a01/p1/s01.txt\"\n",
        "\n",
        "# Baca file txt (pakai koma sebagai pemisah)\n",
        "df = pd.read_csv(file_path, sep=\",\", header=None)\n",
        "\n",
        "# Kolom terakhir = target prediksi\n",
        "target_col = df.columns[-1]\n",
        "\n",
        "print(\"Target yang ingin diprediksi adalah kolom terakhir:\", target_col)\n",
        "print(\"Contoh nilai target:\", df[target_col].unique()[:10])\n"
      ],
      "metadata": {
        "colab": {
          "base_uri": "https://localhost:8080/"
        },
        "id": "kYc5opUYuE1H",
        "outputId": "6067a13c-1435-4622-c582-2e94602d8747"
      },
      "execution_count": 8,
      "outputs": [
        {
          "output_type": "stream",
          "name": "stdout",
          "text": [
            "Target yang ingin diprediksi adalah kolom terakhir: 44\n",
            "Contoh nilai target: [-0.05773  -0.057514 -0.057219 -0.05775  -0.057527 -0.056939 -0.057682\n",
            " -0.055743 -0.057126 -0.057727]\n"
          ]
        }
      ]
    },
    {
      "cell_type": "code",
      "source": [
        "import pandas as pd\n",
        "\n",
        "file_path = \"/content/drive/MyDrive/datasetku/data/a01/p1/s01.txt\"\n",
        "\n",
        "# Baca salah satu file\n",
        "df = pd.read_csv(file_path, sep=\",\", header=None)\n",
        "\n",
        "print(\"Jumlah kolom (fitur sensor):\", df.shape[1])\n",
        "print(\"Contoh 5 baris data sensor:\")\n",
        "print(df.head())\n"
      ],
      "metadata": {
        "colab": {
          "base_uri": "https://localhost:8080/"
        },
        "id": "AadFSvoXuN8k",
        "outputId": "cbd6fca9-bb31-464e-c2c1-0c1f08f52690"
      },
      "execution_count": 9,
      "outputs": [
        {
          "output_type": "stream",
          "name": "stdout",
          "text": [
            "Jumlah kolom (fitur sensor): 45\n",
            "Contoh 5 baris data sensor:\n",
            "       0       1       2         3         4         5        6         7   \\\n",
            "0  8.1305  1.0349  5.4217 -0.009461  0.001915 -0.003424 -0.78712 -0.069654   \n",
            "1  8.1305  1.0202  5.3843 -0.009368  0.023485  0.001953 -0.78717 -0.068275   \n",
            "2  8.1604  1.0201  5.3622  0.015046  0.014330  0.000204 -0.78664 -0.068277   \n",
            "3  8.1603  1.0052  5.3770  0.006892  0.018045  0.005649 -0.78529 -0.069849   \n",
            "4  8.1605  1.0275  5.3473  0.008811  0.030433 -0.005346 -0.78742 -0.068796   \n",
            "\n",
            "        8        9   ...        35      36      37      38        39  \\\n",
            "0  0.15730  0.70097  ... -0.036453 -2.8071 -9.0812  2.6220 -0.000232   \n",
            "1  0.15890  0.71829  ... -0.034005 -2.8146 -9.0737  2.6218 -0.014784   \n",
            "2  0.15879  0.69849  ... -0.036489 -2.8221 -9.0886  2.6366 -0.012770   \n",
            "3  0.15912  0.72799  ... -0.036151 -2.8071 -9.0811  2.6070 -0.005725   \n",
            "4  0.15916  0.71572  ... -0.033807 -2.8146 -9.0737  2.6218 -0.003929   \n",
            "\n",
            "         40        41       42       43        44  \n",
            "0 -0.012092 -0.004457  0.74017  0.30053 -0.057730  \n",
            "1 -0.016477  0.002789  0.73937  0.30183 -0.057514  \n",
            "2  0.005717 -0.007918  0.73955  0.30052 -0.057219  \n",
            "3  0.009620  0.006555  0.74029  0.30184 -0.057750  \n",
            "4 -0.008371  0.002816  0.73845  0.30090 -0.057527  \n",
            "\n",
            "[5 rows x 45 columns]\n"
          ]
        }
      ]
    },
    {
      "cell_type": "code",
      "source": [
        "import pandas as pd\n",
        "import os\n",
        "\n",
        "# 1) Evaluasi sukses: pakai akurasi\n",
        "print(\"Evaluasi sukses: menggunakan akurasi klasifikasi (prediksi benar / total data)\")\n",
        "\n",
        "# 2) Hitung jumlah data (N) dengan estimasi cepat\n",
        "# Ambil 1 file contoh\n",
        "file_path = \"/content/drive/MyDrive/datasetku/data/a01/p1/s01.txt\"\n",
        "df = pd.read_csv(file_path, sep=\",\", header=None)\n",
        "\n",
        "rows_per_file = len(df)\n",
        "\n",
        "# Hitung total file txt\n",
        "base_path = \"/content/drive/MyDrive/datasetku/data\"\n",
        "total_files = sum([len(files) for r, d, files in os.walk(base_path)])\n",
        "\n",
        "N = rows_per_file * total_files\n",
        "print(\"Estimasi total data (N):\", N)\n"
      ],
      "metadata": {
        "colab": {
          "base_uri": "https://localhost:8080/"
        },
        "id": "osHZcy_SuXov",
        "outputId": "981fef38-4371-43ec-e7c0-d540c3424258"
      },
      "execution_count": 11,
      "outputs": [
        {
          "output_type": "stream",
          "name": "stdout",
          "text": [
            "Evaluasi sukses: menggunakan akurasi klasifikasi (prediksi benar / total data)\n",
            "Estimasi total data (N): 1140000\n"
          ]
        }
      ]
    },
    {
      "cell_type": "code",
      "source": [
        "import pandas as pd\n",
        "import os\n",
        "\n",
        "# 1) Evaluasi sukses\n",
        "print(\"Evaluasi sukses: menggunakan akurasi klasifikasi (prediksi benar / total data)\")\n",
        "\n",
        "# 2) Hitung jumlah data (N) dengan estimasi cepat\n",
        "# Contoh 1 file txt\n",
        "file_path = \"/content/drive/MyDrive/datasetku/data/a01/p1/s01.txt\"\n",
        "df = pd.read_csv(file_path, sep=\",\", header=None)\n",
        "\n",
        "rows_per_file = len(df)\n",
        "\n",
        "# Hitung jumlah semua file txt dalam dataset\n",
        "base_path = \"/content/drive/MyDrive/datasetku/data\"\n",
        "total_files = sum([len(files) for _, _, files in os.walk(base_path)])\n",
        "\n",
        "# Estimasi total data\n",
        "N = rows_per_file * total_files\n",
        "print(\"Jumlah data per file:\", rows_per_file)\n",
        "print(\"Jumlah file:\", total_files)\n",
        "print(\"Estimasi total data (N):\", N)\n"
      ],
      "metadata": {
        "colab": {
          "base_uri": "https://localhost:8080/"
        },
        "id": "QM7BmHC3yaNC",
        "outputId": "75c22ad7-51a3-411b-cd52-cb8a1a8799a7"
      },
      "execution_count": 12,
      "outputs": [
        {
          "output_type": "stream",
          "name": "stdout",
          "text": [
            "Evaluasi sukses: menggunakan akurasi klasifikasi (prediksi benar / total data)\n",
            "Jumlah data per file: 125\n",
            "Jumlah file: 9120\n",
            "Estimasi total data (N): 1140000\n"
          ]
        }
      ]
    },
    {
      "cell_type": "code",
      "source": [
        "import pandas as pd\n",
        "\n",
        "# Ambil 1 file contoh\n",
        "file_path = \"/content/drive/MyDrive/datasetku/data/a01/p1/s01.txt\"\n",
        "df = pd.read_csv(file_path, sep=\",\", header=None)\n",
        "\n",
        "# Ambil semua kolom kecuali target (kolom terakhir)\n",
        "fitur = df.columns[:-1]\n",
        "\n",
        "print(\"Jumlah fitur:\", len(fitur))\n",
        "print(\"Daftar fitur (indeks kolom):\")\n",
        "print(list(fitur))\n"
      ],
      "metadata": {
        "colab": {
          "base_uri": "https://localhost:8080/"
        },
        "id": "1aoB0flhynAc",
        "outputId": "052ba9f4-98c4-4f93-8531-4dcb162a1124"
      },
      "execution_count": 13,
      "outputs": [
        {
          "output_type": "stream",
          "name": "stdout",
          "text": [
            "Jumlah fitur: 44\n",
            "Daftar fitur (indeks kolom):\n",
            "[0, 1, 2, 3, 4, 5, 6, 7, 8, 9, 10, 11, 12, 13, 14, 15, 16, 17, 18, 19, 20, 21, 22, 23, 24, 25, 26, 27, 28, 29, 30, 31, 32, 33, 34, 35, 36, 37, 38, 39, 40, 41, 42, 43]\n"
          ]
        }
      ]
    },
    {
      "cell_type": "code",
      "source": [
        "import pandas as pd\n",
        "\n",
        "# Ambil 1 file contoh\n",
        "file_path = \"/content/drive/MyDrive/datasetku/data/a01/p1/s01.txt\"\n",
        "df = pd.read_csv(file_path, sep=\",\", header=None)\n",
        "\n",
        "# Cek tipe data tiap kolom\n",
        "print(\"Tipe data setiap kolom:\")\n",
        "print(df.dtypes)\n",
        "\n",
        "# Cek apakah semuanya numerik\n",
        "if all(df.dtypes.apply(lambda x: pd.api.types.is_numeric_dtype(x))):\n",
        "    print(\"\\n✅ Semua kolom berupa data numerik\")\n",
        "else:\n",
        "    print(\"\\n⚠️ Ada kolom non-numerik\")\n"
      ],
      "metadata": {
        "colab": {
          "base_uri": "https://localhost:8080/"
        },
        "id": "BjH9ChISywZ-",
        "outputId": "be1c434b-164d-4b28-df6c-2782ee7e2999"
      },
      "execution_count": 14,
      "outputs": [
        {
          "output_type": "stream",
          "name": "stdout",
          "text": [
            "Tipe data setiap kolom:\n",
            "0     float64\n",
            "1     float64\n",
            "2     float64\n",
            "3     float64\n",
            "4     float64\n",
            "5     float64\n",
            "6     float64\n",
            "7     float64\n",
            "8     float64\n",
            "9     float64\n",
            "10    float64\n",
            "11    float64\n",
            "12    float64\n",
            "13    float64\n",
            "14    float64\n",
            "15    float64\n",
            "16    float64\n",
            "17    float64\n",
            "18    float64\n",
            "19    float64\n",
            "20    float64\n",
            "21    float64\n",
            "22    float64\n",
            "23    float64\n",
            "24    float64\n",
            "25    float64\n",
            "26    float64\n",
            "27    float64\n",
            "28    float64\n",
            "29    float64\n",
            "30    float64\n",
            "31    float64\n",
            "32    float64\n",
            "33    float64\n",
            "34    float64\n",
            "35    float64\n",
            "36    float64\n",
            "37    float64\n",
            "38    float64\n",
            "39    float64\n",
            "40    float64\n",
            "41    float64\n",
            "42    float64\n",
            "43    float64\n",
            "44    float64\n",
            "dtype: object\n",
            "\n",
            "✅ Semua kolom berupa data numerik\n"
          ]
        }
      ]
    },
    {
      "cell_type": "code",
      "source": [
        "# Cek missing values\n",
        "missing = df.isnull().sum().sum()\n",
        "if missing == 0:\n",
        "    print(\"✅ Tidak ada missing values\")\n",
        "else:\n",
        "    print(\"Jumlah missing values:\", missing)\n"
      ],
      "metadata": {
        "colab": {
          "base_uri": "https://localhost:8080/"
        },
        "id": "FlfXC8Y1y4vS",
        "outputId": "deb42132-128d-48f0-8557-96f8c4f93f0f"
      },
      "execution_count": 15,
      "outputs": [
        {
          "output_type": "stream",
          "name": "stdout",
          "text": [
            "✅ Tidak ada missing values\n"
          ]
        }
      ]
    },
    {
      "cell_type": "code",
      "source": [
        "import pandas as pd\n",
        "\n",
        "# load 1 file contoh\n",
        "file_path = \"/content/drive/MyDrive/datasetku/data/a01/p1/s01.txt\"\n",
        "df = pd.read_csv(file_path, sep=\",\", header=None)\n",
        "\n",
        "# ambil kolom terakhir sebagai label\n",
        "labels = df.iloc[:, -1]\n",
        "\n",
        "# tampilkan contoh dan jumlah nilai unik\n",
        "print(\"Contoh label:\", labels.head(10).values)\n",
        "print(\"Jumlah nilai unik:\", labels.nunique())\n",
        "\n",
        "# kalau jumlah unik kecil → klasifikasi\n",
        "# kalau jumlah unik besar → regresi\n",
        "print(\"Beberapa nilai unik:\", labels.unique()[:20])\n"
      ],
      "metadata": {
        "colab": {
          "base_uri": "https://localhost:8080/"
        },
        "id": "EBhKMfhRzI9K",
        "outputId": "41db11c6-d8f0-493f-c944-a9776a2d6514"
      },
      "execution_count": 16,
      "outputs": [
        {
          "output_type": "stream",
          "name": "stdout",
          "text": [
            "Contoh label: [-0.05773  -0.057514 -0.057219 -0.05775  -0.057527 -0.056939 -0.057682\n",
            " -0.055743 -0.057126 -0.057727]\n",
            "Jumlah nilai unik: 122\n",
            "Beberapa nilai unik: [-0.05773  -0.057514 -0.057219 -0.05775  -0.057527 -0.056939 -0.057682\n",
            " -0.055743 -0.057126 -0.057727 -0.05735  -0.056472 -0.056974 -0.055973\n",
            " -0.056655 -0.057411 -0.056878 -0.056852 -0.057099 -0.0571  ]\n"
          ]
        }
      ]
    },
    {
      "cell_type": "code",
      "source": [
        "import pandas as pd\n",
        "\n",
        "# load 1 file contoh\n",
        "file_path = \"/content/drive/MyDrive/datasetku/data/a01/p1/s01.txt\"\n",
        "df = pd.read_csv(file_path, sep=\",\", header=None)\n",
        "\n",
        "# ambil kolom terakhir sebagai label\n",
        "labels = df.iloc[:, -1]\n",
        "\n",
        "# cek jumlah nilai unik\n",
        "n_unique = labels.nunique()\n",
        "print(\"Jumlah nilai unik:\", n_unique)\n",
        "\n",
        "# aturan sederhana:\n",
        "# - kalau unik sedikit dibanding total data → diskrit (klasifikasi)\n",
        "# - kalau unik banyak & berupa float → kontinu (regresi)\n",
        "\n",
        "if labels.dtype == 'float64' and n_unique > 20:\n",
        "    print(\"👉 Label bersifat kontinu (regresi)\")\n",
        "else:\n",
        "    print(\"👉 Label bersifat diskrit (klasifikasi)\")\n"
      ],
      "metadata": {
        "colab": {
          "base_uri": "https://localhost:8080/"
        },
        "id": "wyG16QT70c9r",
        "outputId": "765850ff-106b-4ea6-f8bc-c76d728f26dc"
      },
      "execution_count": 17,
      "outputs": [
        {
          "output_type": "stream",
          "name": "stdout",
          "text": [
            "Jumlah nilai unik: 122\n",
            "👉 Label bersifat kontinu (regresi)\n"
          ]
        }
      ]
    },
    {
      "cell_type": "code",
      "source": [
        "import pandas as pd\n",
        "import matplotlib.pyplot as plt\n",
        "\n",
        "# load 1 file contoh\n",
        "file_path = \"/content/drive/MyDrive/datasetku/data/a01/p1/s01.txt\"\n",
        "df = pd.read_csv(file_path, sep=\",\", header=None)\n",
        "\n",
        "# ambil kolom terakhir sebagai label\n",
        "labels = df.iloc[:, -1]\n",
        "\n",
        "# statistik distribusi\n",
        "print(\"Statistik deskriptif label:\")\n",
        "print(labels.describe())\n",
        "\n",
        "# histogram distribusi\n",
        "plt.hist(labels, bins=30, edgecolor='black')\n",
        "plt.xlabel(\"Nilai Label\")\n",
        "plt.ylabel(\"Frekuensi\")\n",
        "plt.title(\"Distribusi Label\")\n",
        "plt.show()\n"
      ],
      "metadata": {
        "colab": {
          "base_uri": "https://localhost:8080/",
          "height": 646
        },
        "id": "WVj3FvDi0mir",
        "outputId": "5db8a2ac-a5e4-4d61-c757-c898b8866bf5"
      },
      "execution_count": 18,
      "outputs": [
        {
          "output_type": "stream",
          "name": "stdout",
          "text": [
            "Statistik deskriptif label:\n",
            "count    125.000000\n",
            "mean      -0.057119\n",
            "std        0.000823\n",
            "min       -0.059241\n",
            "25%       -0.057598\n",
            "50%       -0.057208\n",
            "75%       -0.056500\n",
            "max       -0.054963\n",
            "Name: 44, dtype: float64\n"
          ]
        },
        {
          "output_type": "display_data",
          "data": {
            "text/plain": [
              "<Figure size 640x480 with 1 Axes>"
            ],
            "image/png": "[encoded data removed]"
          },
          "metadata": {}
        }
      ]
    },
    {
      "cell_type": "code",
      "source": [
        "# cek missing values khusus kolom label\n",
        "missing_labels = df.iloc[:, -1].isnull().sum()\n",
        "\n",
        "if missing_labels == 0:\n",
        "    print(\"✅ Tidak ada label yang hilang atau salah\")\n",
        "else:\n",
        "    print(\"Jumlah label hilang:\", missing_labels)\n"
      ],
      "metadata": {
        "colab": {
          "base_uri": "https://localhost:8080/"
        },
        "id": "ykZjAdqE05S6",
        "outputId": "c0184ae9-66af-448b-aba7-a61bb17ab3cb"
      },
      "execution_count": 19,
      "outputs": [
        {
          "output_type": "stream",
          "name": "stdout",
          "text": [
            "✅ Tidak ada label yang hilang atau salah\n"
          ]
        }
      ]
    },
    {
      "cell_type": "code",
      "source": [
        "import matplotlib.pyplot as plt\n",
        "\n",
        "# contoh plot 3 sensor pertama\n",
        "df.iloc[:, :3].plot(figsize=(12,6))\n",
        "plt.title(\"Contoh 3 Sensor Pertama\")\n",
        "plt.xlabel(\"Index (waktu)\")\n",
        "plt.ylabel(\"Nilai Sensor\")\n",
        "plt.show()\n"
      ],
      "metadata": {
        "colab": {
          "base_uri": "https://localhost:8080/",
          "height": 513
        },
        "id": "DB2I_WmG1BlK",
        "outputId": "96b3ef58-d21b-4c37-e292-9a21a3eabe9a"
      },
      "execution_count": 20,
      "outputs": [
        {
          "output_type": "display_data",
          "data": {
            "text/plain": [
              "<Figure size 1200x600 with 1 Axes>"
            ],
            "image/png": "[encoded data removed]"
          },
          "metadata": {}
        }
      ]
    },
    {
      "cell_type": "code",
      "source": [
        "import pandas as pd\n",
        "\n",
        "# load 1 file contoh\n",
        "file_path = \"/content/drive/MyDrive/datasetku/data/a01/p1/s01.txt\"\n",
        "df = pd.read_csv(file_path, sep=\",\", header=None)\n",
        "\n",
        "# Pisahkan fitur dan label\n",
        "X = df.iloc[:, :-1]  # kolom 0-43\n",
        "y = df.iloc[:, -1]   # kolom 44\n",
        "\n",
        "# Tampilkan 5 baris pertama fitur\n",
        "print(\"5 baris pertama fitur (X):\")\n",
        "print(X.head())\n",
        "\n",
        "# Informasi tambahan\n",
        "print(\"\\nJumlah fitur (D):\", X.shape[1])\n",
        "print(\"Jumlah sampel:\", X.shape[0])\n"
      ],
      "metadata": {
        "colab": {
          "base_uri": "https://localhost:8080/"
        },
        "id": "sSBQLDBn1rHG",
        "outputId": "ae166719-07c5-4229-9ef3-eeb2636ad6d5"
      },
      "execution_count": 21,
      "outputs": [
        {
          "output_type": "stream",
          "name": "stdout",
          "text": [
            "5 baris pertama fitur (X):\n",
            "       0       1       2         3         4         5        6         7   \\\n",
            "0  8.1305  1.0349  5.4217 -0.009461  0.001915 -0.003424 -0.78712 -0.069654   \n",
            "1  8.1305  1.0202  5.3843 -0.009368  0.023485  0.001953 -0.78717 -0.068275   \n",
            "2  8.1604  1.0201  5.3622  0.015046  0.014330  0.000204 -0.78664 -0.068277   \n",
            "3  8.1603  1.0052  5.3770  0.006892  0.018045  0.005649 -0.78529 -0.069849   \n",
            "4  8.1605  1.0275  5.3473  0.008811  0.030433 -0.005346 -0.78742 -0.068796   \n",
            "\n",
            "        8        9   ...       34        35      36      37      38        39  \\\n",
            "0  0.15730  0.70097  ... -0.25366 -0.036453 -2.8071 -9.0812  2.6220 -0.000232   \n",
            "1  0.15890  0.71829  ... -0.25236 -0.034005 -2.8146 -9.0737  2.6218 -0.014784   \n",
            "2  0.15879  0.69849  ... -0.25249 -0.036489 -2.8221 -9.0886  2.6366 -0.012770   \n",
            "3  0.15912  0.72799  ... -0.25176 -0.036151 -2.8071 -9.0811  2.6070 -0.005725   \n",
            "4  0.15916  0.71572  ... -0.25235 -0.033807 -2.8146 -9.0737  2.6218 -0.003929   \n",
            "\n",
            "         40        41       42       43  \n",
            "0 -0.012092 -0.004457  0.74017  0.30053  \n",
            "1 -0.016477  0.002789  0.73937  0.30183  \n",
            "2  0.005717 -0.007918  0.73955  0.30052  \n",
            "3  0.009620  0.006555  0.74029  0.30184  \n",
            "4 -0.008371  0.002816  0.73845  0.30090  \n",
            "\n",
            "[5 rows x 44 columns]\n",
            "\n",
            "Jumlah fitur (D): 44\n",
            "Jumlah sampel: 125\n"
          ]
        }
      ]
    },
    {
      "cell_type": "code",
      "source": [
        "import pandas as pd\n",
        "from sklearn.preprocessing import MinMaxScaler\n",
        "\n",
        "# Load 1 file contoh\n",
        "file_path = \"/content/drive/MyDrive/datasetku/data/a01/p1/s01.txt\"\n",
        "df = pd.read_csv(file_path, sep=\",\", header=None)\n",
        "\n",
        "# Pisahkan fitur dan label\n",
        "X = df.iloc[:, :-1]  # kolom 0-43\n",
        "y = df.iloc[:, -1]   # kolom 44\n",
        "\n",
        "# Normalisasi fitur ke rentang [0, 1]\n",
        "scaler = MinMaxScaler()\n",
        "X_scaled = pd.DataFrame(scaler.fit_transform(X), columns=X.columns)\n",
        "\n",
        "# Tampilkan 5 baris pertama hasil normalisasi\n",
        "print(\"5 baris pertama fitur setelah normalisasi:\")\n",
        "print(X_scaled.head())\n"
      ],
      "metadata": {
        "colab": {
          "base_uri": "https://localhost:8080/"
        },
        "id": "v-k1_LYW17x7",
        "outputId": "4f99057b-cc14-4bb5-bbf2-d6f78aa32fb2"
      },
      "execution_count": 22,
      "outputs": [
        {
          "output_type": "stream",
          "name": "stdout",
          "text": [
            "5 baris pertama fitur setelah normalisasi:\n",
            "         0         1         2         3         4         5         6   \\\n",
            "0  0.937265  0.201658  0.121226  0.353034  0.279466  0.589415  0.821463   \n",
            "1  0.937265  0.122524  0.077964  0.354131  0.352486  0.705379  0.816585   \n",
            "2  0.999791  0.121985  0.052400  0.642025  0.321494  0.667659  0.868293   \n",
            "3  0.999582  0.041774  0.069520  0.545872  0.334070  0.785089  1.000000   \n",
            "4  1.000000  0.161822  0.035165  0.568501  0.376007  0.547964  0.792195   \n",
            "\n",
            "         7         8         9   ...        34        35        36        37  \\\n",
            "0  0.266704  0.962500  0.664539  ...  0.044503  0.463931  0.503753  0.459499   \n",
            "1  0.457463  0.994758  0.764148  ...  0.384817  0.856364  0.441201  0.569956   \n",
            "2  0.457186  0.992540  0.650276  ...  0.350785  0.458160  0.378649  0.350515   \n",
            "3  0.239729  0.999194  0.819933  ...  0.541885  0.512344  0.503753  0.460972   \n",
            "4  0.385392  1.000000  0.749367  ...  0.387435  0.888105  0.441201  0.569956   \n",
            "\n",
            "         38        39        40        41        42        43  \n",
            "0  0.516751  0.603212  0.180149  0.483573  0.545267  0.227273  \n",
            "1  0.514721  0.244240  0.069123  0.688796  0.380658  0.574866  \n",
            "2  0.664975  0.293922  0.631067  0.385550  0.417695  0.224599  \n",
            "3  0.364467  0.467709  0.729890  0.795457  0.569959  0.577540  \n",
            "4  0.514721  0.512013  0.274364  0.689560  0.191358  0.326203  \n",
            "\n",
            "[5 rows x 44 columns]\n"
          ]
        }
      ]
    },
    {
      "cell_type": "code",
      "source": [
        "import pandas as pd\n",
        "from sklearn.model_selection import train_test_split\n",
        "from sklearn.preprocessing import MinMaxScaler\n",
        "from sklearn.linear_model import LinearRegression\n",
        "from sklearn.metrics import mean_squared_error, r2_score\n",
        "\n",
        "# Load 1 file contoh (atau gabungkan beberapa file sesuai kebutuhan)\n",
        "file_path = \"/content/drive/MyDrive/datasetku/data/a01/p1/s01.txt\"\n",
        "df = pd.read_csv(file_path, sep=\",\", header=None)\n",
        "\n",
        "# Pisahkan fitur dan label\n",
        "X = df.iloc[:, :-1]  # kolom 0-43\n",
        "y = df.iloc[:, -1]   # kolom 44\n",
        "\n",
        "# Normalisasi fitur\n",
        "scaler = MinMaxScaler()\n",
        "X_scaled = scaler.fit_transform(X)\n",
        "\n",
        "# Split data train-test\n",
        "X_train, X_test, y_train, y_test = train_test_split(\n",
        "    X_scaled, y, test_size=0.2, random_state=42\n",
        ")\n",
        "\n",
        "# Buat model Linear Regression\n",
        "model = LinearRegression()\n",
        "model.fit(X_train, y_train)\n",
        "\n",
        "# Prediksi dan evaluasi\n",
        "y_pred = model.predict(X_test)\n",
        "mse = mean_squared_error(y_test, y_pred)\n",
        "r2 = r2_score(y_test, y_pred)\n",
        "\n",
        "print(\"MSE:\", mse)\n",
        "print(\"R^2:\", r2)\n"
      ],
      "metadata": {
        "colab": {
          "base_uri": "https://localhost:8080/"
        },
        "id": "L-BD08tQ2Wbe",
        "outputId": "f48701e1-3c7e-4263-8466-daee9e6b8bd7"
      },
      "execution_count": 23,
      "outputs": [
        {
          "output_type": "stream",
          "name": "stdout",
          "text": [
            "MSE: 8.006125329047866e-07\n",
            "R^2: -0.9651782852347208\n"
          ]
        }
      ]
    },
    {
      "cell_type": "code",
      "source": [
        "import pandas as pd\n",
        "from sklearn.preprocessing import MinMaxScaler\n",
        "from sklearn.decomposition import PCA\n",
        "\n",
        "# Load 1 file contoh\n",
        "file_path = \"/content/drive/MyDrive/datasetku/data/a01/p1/s01.txt\"\n",
        "df = pd.read_csv(file_path, sep=\",\", header=None)\n",
        "\n",
        "# Pisahkan fitur dan label\n",
        "X = df.iloc[:, :-1]  # kolom 0-43\n",
        "y = df.iloc[:, -1]   # kolom 44\n",
        "\n",
        "# Normalisasi fitur\n",
        "scaler = MinMaxScaler()\n",
        "X_scaled = scaler.fit_transform(X)\n",
        "\n",
        "# Terapkan PCA untuk mengurangi dimensi ke 10 komponen utama\n",
        "pca = PCA(n_components=10)\n",
        "X_pca = pca.fit_transform(X_scaled)\n",
        "\n",
        "# Tampilkan hasil\n",
        "print(\"Bentuk X asli:\", X_scaled.shape)\n",
        "print(\"Bentuk X setelah PCA:\", X_pca.shape)\n",
        "print(\"Variansi yang dijelaskan oleh tiap komponen:\", pca.explained_variance_ratio_)\n",
        "print(\"Total variansi yang dijelaskan:\", pca.explained_variance_ratio_.sum())\n"
      ],
      "metadata": {
        "colab": {
          "base_uri": "https://localhost:8080/"
        },
        "id": "QXhD0Z7R2pB7",
        "outputId": "7c6c32f1-4882-499a-aa23-289c2d656a78"
      },
      "execution_count": 24,
      "outputs": [
        {
          "output_type": "stream",
          "name": "stdout",
          "text": [
            "Bentuk X asli: (125, 44)\n",
            "Bentuk X setelah PCA: (125, 10)\n",
            "Variansi yang dijelaskan oleh tiap komponen: [0.25389816 0.13850264 0.06279057 0.04682526 0.04249199 0.03963418\n",
            " 0.03554052 0.03317856 0.02761544 0.02426121]\n",
            "Total variansi yang dijelaskan: 0.7047385262089337\n"
          ]
        }
      ]
    },
    {
      "cell_type": "code",
      "source": [
        "import pandas as pd\n",
        "from sklearn.preprocessing import MinMaxScaler\n",
        "from sklearn.model_selection import train_test_split\n",
        "from sklearn.linear_model import LinearRegression\n",
        "from sklearn.ensemble import RandomForestRegressor\n",
        "from sklearn.neural_network import MLPRegressor\n",
        "from sklearn.metrics import mean_squared_error, r2_score\n",
        "\n",
        "# ----------------------------\n",
        "# Load subset data\n",
        "# ----------------------------\n",
        "file_path = \"/content/drive/MyDrive/datasetku/data/a01/p1/s01.txt\"\n",
        "df = pd.read_csv(file_path, sep=\",\", header=None)\n",
        "\n",
        "X = df.iloc[:, :-1]\n",
        "y = df.iloc[:, -1]\n",
        "\n",
        "# Normalisasi\n",
        "scaler = MinMaxScaler()\n",
        "X_scaled = scaler.fit_transform(X)\n",
        "\n",
        "# Train-test split\n",
        "X_train, X_test, y_train, y_test = train_test_split(\n",
        "    X_scaled, y, test_size=0.2, random_state=42\n",
        ")\n",
        "\n",
        "# ----------------------------\n",
        "# i. Model Linear\n",
        "# ----------------------------\n",
        "lr_model = LinearRegression()\n",
        "lr_model.fit(X_train, y_train)\n",
        "y_pred_lr = lr_model.predict(X_test)\n",
        "print(\"Linear Regression - MSE:\", mean_squared_error(y_test, y_pred_lr))\n",
        "print(\"Linear Regression - R2:\", r2_score(y_test, y_pred_lr))\n",
        "\n",
        "# ----------------------------\n",
        "# ii. Model Non-linear\n",
        "# ----------------------------\n",
        "# Random Forest\n",
        "rf_model = RandomForestRegressor(n_estimators=20, random_state=42)\n",
        "rf_model.fit(X_train, y_train)\n",
        "y_pred_rf = rf_model.predict(X_test)\n",
        "print(\"Random Forest - MSE:\", mean_squared_error(y_test, y_pred_rf))\n",
        "print(\"Random Forest - R2:\", r2_score(y_test, y_pred_rf))\n",
        "\n",
        "# MLP Regressor\n",
        "mlp_model = MLPRegressor(hidden_layer_sizes=(64,32), activation='relu', max_iter=50, random_state=42)\n",
        "mlp_model.fit(X_train, y_train)\n",
        "y_pred_mlp = mlp_model.predict(X_test)\n",
        "print(\"MLP Regressor - MSE:\", mean_squared_error(y_test, y_pred_mlp))\n",
        "print(\"MLP Regressor - R2:\", r2_score(y_test, y_pred_mlp))\n"
      ],
      "metadata": {
        "colab": {
          "base_uri": "https://localhost:8080/"
        },
        "id": "dAVn-_LQ3Acq",
        "outputId": "ca55a3ba-5370-46d0-a42f-62d6747b70c4"
      },
      "execution_count": 27,
      "outputs": [
        {
          "output_type": "stream",
          "name": "stdout",
          "text": [
            "Linear Regression - MSE: 8.006125329047866e-07\n",
            "Linear Regression - R2: -0.9651782852347208\n",
            "Random Forest - MSE: 6.141457549000025e-07\n",
            "Random Forest - R2: -0.5074781519090985\n",
            "MLP Regressor - MSE: 0.005371566944986365\n",
            "MLP Regressor - R2: -13184.01307951321\n"
          ]
        }
      ]
    },
    {
      "cell_type": "code",
      "source": [
        "import pandas as pd\n",
        "from sklearn.preprocessing import MinMaxScaler\n",
        "from sklearn.model_selection import train_test_split\n",
        "from sklearn.neural_network import MLPRegressor\n",
        "from sklearn.metrics import mean_squared_error, r2_score\n",
        "\n",
        "# ----------------------------\n",
        "# Load subset data\n",
        "# ----------------------------\n",
        "file_path = \"/content/drive/MyDrive/datasetku/data/a01/p1/s01.txt\"\n",
        "df = pd.read_csv(file_path, sep=\",\", header=None)\n",
        "\n",
        "X = df.iloc[:, :-1]\n",
        "y = df.iloc[:, -1]\n",
        "\n",
        "# Normalisasi fitur\n",
        "scaler = MinMaxScaler()\n",
        "X_scaled = scaler.fit_transform(X)\n",
        "\n",
        "# Split train-test\n",
        "X_train, X_test, y_train, y_test = train_test_split(\n",
        "    X_scaled, y, test_size=0.2, random_state=42\n",
        ")\n",
        "\n",
        "# ----------------------------\n",
        "# Neural Network - MLP Regressor\n",
        "# ----------------------------\n",
        "mlp_model = MLPRegressor(\n",
        "    hidden_layer_sizes=(64, 32),  # 2 hidden layer: 64 dan 32 neuron\n",
        "    activation='relu',            # fungsi aktivasi ReLU\n",
        "    max_iter=50,                  # iterasi cepat untuk subset\n",
        "    random_state=42\n",
        ")\n",
        "mlp_model.fit(X_train, y_train)\n",
        "\n",
        "# Prediksi dan evaluasi\n",
        "y_pred = mlp_model.predict(X_test)\n",
        "mse = mean_squared_error(y_test, y_pred)\n",
        "r2 = r2_score(y_test, y_pred)\n",
        "\n",
        "print(\"MLP Regressor - MSE:\", mse)\n",
        "print(\"MLP Regressor - R2:\", r2)\n"
      ],
      "metadata": {
        "colab": {
          "base_uri": "https://localhost:8080/"
        },
        "id": "EBoQLclv4bFR",
        "outputId": "42ca539b-eeff-4567-f34d-ce560e7e174a"
      },
      "execution_count": 28,
      "outputs": [
        {
          "output_type": "stream",
          "name": "stdout",
          "text": [
            "MLP Regressor - MSE: 0.005371566944986365\n",
            "MLP Regressor - R2: -13184.01307951321\n"
          ]
        }
      ]
    },
    {
      "cell_type": "code",
      "source": [
        "import matplotlib.pyplot as plt\n",
        "\n",
        "# Ambil model MLP sebagai contoh\n",
        "y_true = y_test\n",
        "y_pred_mlp = mlp_model.predict(X_test)\n",
        "\n",
        "# 1. Plot Prediksi vs Asli\n",
        "plt.figure(figsize=(8,6))\n",
        "plt.scatter(y_true, y_pred_mlp, alpha=0.5)\n",
        "plt.xlabel(\"Label Asli\")\n",
        "plt.ylabel(\"Prediksi MLP\")\n",
        "plt.title(\"Prediksi vs Label Asli\")\n",
        "plt.plot([y_true.min(), y_true.max()], [y_true.min(), y_true.max()], 'r--')  # garis ideal\n",
        "plt.show()\n",
        "\n",
        "# 2. Plot Histogram Error\n",
        "errors = y_pred_mlp - y_true\n",
        "plt.figure(figsize=(8,6))\n",
        "plt.hist(errors, bins=50, color='skyblue', edgecolor='black')\n",
        "plt.xlabel(\"Error\")\n",
        "plt.ylabel(\"Frekuensi\")\n",
        "plt.title(\"Distribusi Error Prediksi MLP\")\n",
        "plt.show()\n"
      ],
      "metadata": {
        "colab": {
          "base_uri": "https://localhost:8080/",
          "height": 1000
        },
        "id": "8_YaRbz24mUo",
        "outputId": "5ad5a5c1-d4a5-443f-99ca-fc1c3ee439f9"
      },
      "execution_count": 29,
      "outputs": [
        {
          "output_type": "display_data",
          "data": {
            "text/plain": [
              "<Figure size 800x600 with 1 Axes>"
            ],
            "image/png": "[encoded data removed]"
          },
          "metadata": {}
        },
        {
          "output_type": "display_data",
          "data": {
            "text/plain": [
              "<Figure size 800x600 with 1 Axes>"
            ],
            "image/png": "[encoded data removed]"
          },
          "metadata": {}
        }
      ]
    }
  ]
}