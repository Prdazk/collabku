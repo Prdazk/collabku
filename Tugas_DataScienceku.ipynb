{
  "nbformat": 4,
  "nbformat_minor": 0,
  "metadata": {
    "colab": {
      "provenance": [],
      "include_colab_link": true
    },
    "kernelspec": {
      "name": "python3",
      "display_name": "Python 3"
    },
    "language_info": {
      "name": "python"
    }
  },
  "cells": [
    {
      "cell_type": "markdown",
      "metadata": {
        "id": "view-in-github",
        "colab_type": "text"
      },
      "source": [
        "<a href=\"https://colab.research.google.com/github/Prdazk/collabku/blob/main/Tugas_DataScienceku.ipynb\" target=\"_parent\"><img src=\"https://colab.research.google.com/assets/colab-badge.svg\" alt=\"Open In Colab\"/></a>"
      ]
    },
    {
      "cell_type": "code",
      "execution_count": 1,
      "metadata": {
        "colab": {
          "base_uri": "https://localhost:8080/"
        },
        "id": "tkbi4TpPp55i",
        "outputId": "b77b94ea-ab00-40f6-c66b-69eec5b47e51"
      },
      "outputs": [
        {
          "output_type": "stream",
          "name": "stdout",
          "text": [
            "Mounted at /content/drive\n",
            "Folder sudah ada, tidak perlu extract lagi\n"
          ]
        }
      ],
      "source": [
        "from google.colab import drive\n",
        "import zipfile, os\n",
        "\n",
        "# Mount Google Drive\n",
        "drive.mount('/content/drive')\n",
        "\n",
        "zip_path = \"/content/sample_data/daily+and+sports+activities (1).zip\"\n",
        "extract_path = \"/content/drive/MyDrive/datasetku\"\n",
        "\n",
        "# Hanya extract kalau folder belum ada\n",
        "if not os.path.exists(extract_path):\n",
        "    with zipfile.ZipFile(zip_path, 'r') as zip_ref:\n",
        "        zip_ref.extractall(extract_path)\n",
        "    print(\"File diextract ke Drive\")\n",
        "else:\n",
        "    print(\"Folder sudah ada, tidak perlu extract lagi\")\n"
      ]
    },
    {
      "cell_type": "code",
      "source": [
        "import os\n",
        "\n",
        "extract_path = \"/content/drive/MyDrive/datasetku\"\n",
        "print(os.listdir(extract_path))\n"
      ],
      "metadata": {
        "colab": {
          "base_uri": "https://localhost:8080/"
        },
        "id": "ev5VN3RJtX8b",
        "outputId": "ccf9dd40-f545-453f-df87-a1598a2eda5b"
      },
      "execution_count": 2,
      "outputs": [
        {
          "output_type": "stream",
          "name": "stdout",
          "text": [
            "['data']\n"
          ]
        }
      ]
    },
    {
      "cell_type": "code",
      "source": [
        "#data apa yang ingin di prediksi?\n",
        "import os\n",
        "\n",
        "data_path = \"/content/drive/MyDrive/datasetku/data\"\n",
        "print(os.listdir(data_path))\n"
      ],
      "metadata": {
        "colab": {
          "base_uri": "https://localhost:8080/"
        },
        "id": "wMLAnvsntpRU",
        "outputId": "9e6eab6c-dcf9-4313-b9d2-8e6ff042f9ca"
      },
      "execution_count": 26,
      "outputs": [
        {
          "output_type": "stream",
          "name": "stdout",
          "text": [
            "['a01', 'a02', 'a03', 'a04', 'a05', 'a06', 'a07', 'a08', 'a09', 'a10', 'a11', 'a12', 'a13', 'a14', 'a15', 'a16', 'a17', 'a18', 'a19']\n"
          ]
        }
      ]
    },
    {
      "cell_type": "code",
      "source": [
        "#data apa yang kita punya?\n",
        "import os\n",
        "\n",
        "sub_path = \"/content/drive/MyDrive/datasetku/data/a01\"\n",
        "print(os.listdir(sub_path))\n"
      ],
      "metadata": {
        "colab": {
          "base_uri": "https://localhost:8080/"
        },
        "id": "0ku2mf4_tt8A",
        "outputId": "73e3fd7c-8ad3-404c-acdf-7e569388c055"
      },
      "execution_count": 4,
      "outputs": [
        {
          "output_type": "stream",
          "name": "stdout",
          "text": [
            "['p1', 'p2', 'p3', 'p4', 'p5', 'p6', 'p7', 'p8']\n"
          ]
        }
      ]
    },
    {
      "cell_type": "code",
      "source": [
        "#How would we evaluate success?\n",
        "import os\n",
        "\n",
        "deep_path = \"/content/drive/MyDrive/datasetku/data/a01/p1\"\n",
        "print(os.listdir(deep_path))\n"
      ],
      "metadata": {
        "colab": {
          "base_uri": "https://localhost:8080/"
        },
        "id": "1oLVDlsttzRf",
        "outputId": "aed332b2-0141-42bc-b2fe-969fcffe0d62"
      },
      "execution_count": 5,
      "outputs": [
        {
          "output_type": "stream",
          "name": "stdout",
          "text": [
            "['s01.txt', 's02.txt', 's03.txt', 's04.txt', 's05.txt', 's06.txt', 's07.txt', 's08.txt', 's09.txt', 's10.txt', 's11.txt', 's12.txt', 's13.txt', 's14.txt', 's15.txt', 's16.txt', 's17.txt', 's18.txt', 's19.txt', 's20.txt', 's21.txt', 's22.txt', 's23.txt', 's24.txt', 's25.txt', 's26.txt', 's27.txt', 's28.txt', 's29.txt', 's30.txt', 's31.txt', 's32.txt', 's33.txt', 's34.txt', 's35.txt', 's36.txt', 's37.txt', 's38.txt', 's39.txt', 's40.txt', 's41.txt', 's42.txt', 's43.txt', 's44.txt', 's45.txt', 's46.txt', 's47.txt', 's48.txt', 's49.txt', 's50.txt', 's51.txt', 's52.txt', 's53.txt', 's54.txt', 's55.txt', 's56.txt', 's57.txt', 's58.txt', 's59.txt', 's60.txt']\n"
          ]
        }
      ]
    },
    {
      "cell_type": "code",
      "source": [
        "#berapa banyak data yang memiliki nilai (N=?)\n",
        "import os\n",
        "\n",
        "data_path = \"/content/drive/MyDrive/datasetku/data\"\n",
        "total_files = sum(len(files) for _, _, files in os.walk(data_path))\n",
        "\n",
        "print(f\"Total jumlah data (N) = {total_files}\")\n"
      ],
      "metadata": {
        "colab": {
          "base_uri": "https://localhost:8080/"
        },
        "id": "h41KP2I4njw_",
        "outputId": "a990228a-9d61-4b76-efbf-90f34efc74d9"
      },
      "execution_count": 32,
      "outputs": [
        {
          "output_type": "stream",
          "name": "stdout",
          "text": [
            "Total jumlah data (N) = 9120\n"
          ]
        }
      ]
    },
    {
      "cell_type": "code",
      "source": [
        "#Apa saja fiturnya?\n",
        "import pandas as pd\n",
        "\n",
        "file_path = \"/content/drive/MyDrive/datasetku/data/a01/p1/s01.txt\"\n",
        "df = pd.read_csv(file_path, sep=\",\", header=None)\n",
        "\n",
        "print(\"Jumlah fitur:\", df.shape[1])\n",
        "print(\"Nama kolom fitur:\", df.columns.tolist())\n",
        "\n"
      ],
      "metadata": {
        "colab": {
          "base_uri": "https://localhost:8080/"
        },
        "id": "rXIaXSgxpSlp",
        "outputId": "3abad83d-8abc-4812-af08-9c88cc1feaf2"
      },
      "execution_count": 36,
      "outputs": [
        {
          "output_type": "stream",
          "name": "stdout",
          "text": [
            "Jumlah fitur: 45\n",
            "Nama kolom fitur: [0, 1, 2, 3, 4, 5, 6, 7, 8, 9, 10, 11, 12, 13, 14, 15, 16, 17, 18, 19, 20, 21, 22, 23, 24, 25, 26, 27, 28, 29, 30, 31, 32, 33, 34, 35, 36, 37, 38, 39, 40, 41, 42, 43, 44]\n"
          ]
        }
      ]
    },
    {
      "cell_type": "code",
      "source": [
        "#Apakah semuanya berupa data numerik?\n",
        "import pandas as pd\n",
        "\n",
        "file_path = \"/content/drive/MyDrive/datasetku/data/a01/p1/s01.txt\"\n",
        "df = pd.read_csv(file_path, sep=\",\", header=None)\n",
        "\n",
        "# Mengecek apakah semua kolom numerik\n",
        "print(\"Semua data numerik?:\", df.dtypes.apply(lambda x: x.kind in 'if').all())\n",
        "print(df.dtypes.unique())\n",
        "\n"
      ],
      "metadata": {
        "colab": {
          "base_uri": "https://localhost:8080/"
        },
        "id": "U4g73cjHrGaK",
        "outputId": "df821f6b-56f2-4ca4-a48c-f813f081a0a6"
      },
      "execution_count": 41,
      "outputs": [
        {
          "output_type": "stream",
          "name": "stdout",
          "text": [
            "Semua data numerik?: True\n",
            "[dtype('float64')]\n"
          ]
        }
      ]
    },
    {
      "cell_type": "code",
      "source": [
        "#Apakah ada nilai yang hilang (missing values)?\n",
        "import pandas as pd\n",
        "\n",
        "file_path = \"/content/drive/MyDrive/datasetku/data/a01/p1/s01.txt\"\n",
        "df = pd.read_csv(file_path, sep=\",\", header=None)\n",
        "\n",
        "# Mengecek apakah ada nilai yang hilang\n",
        "print(\"Total missing values:\", df.isnull().sum().sum())\n",
        "print(\"Apakah ada missing values?:\", df.isnull().values.any())\n"
      ],
      "metadata": {
        "colab": {
          "base_uri": "https://localhost:8080/"
        },
        "id": "7t65qeQesYf9",
        "outputId": "c2a3b392-9579-41ff-e966-e877e425c4b9"
      },
      "execution_count": 42,
      "outputs": [
        {
          "output_type": "stream",
          "name": "stdout",
          "text": [
            "Total missing values: 0\n",
            "Apakah ada missing values?: False\n"
          ]
        }
      ]
    },
    {
      "cell_type": "code",
      "source": [
        "#Apa saja labelnya (apakah ada label)?\n",
        "import os\n",
        "\n",
        "data_path = \"/content/drive/MyDrive/datasetku/data\"\n",
        "labels = sorted(os.listdir(data_path))\n",
        "print(\"Label aktivitas yang tersedia:\")\n",
        "print(labels)\n",
        "print(\"Jumlah label aktivitas:\", len(labels))\n"
      ],
      "metadata": {
        "colab": {
          "base_uri": "https://localhost:8080/"
        },
        "id": "kqDIpghks_07",
        "outputId": "527d83dd-2c03-4517-a374-5c5a31dbb9d0"
      },
      "execution_count": 43,
      "outputs": [
        {
          "output_type": "stream",
          "name": "stdout",
          "text": [
            "Label aktivitas yang tersedia:\n",
            "['a01', 'a02', 'a03', 'a04', 'a05', 'a06', 'a07', 'a08', 'a09', 'a10', 'a11', 'a12', 'a13', 'a14', 'a15', 'a16', 'a17', 'a18', 'a19']\n",
            "Jumlah label aktivitas: 19\n"
          ]
        }
      ]
    },
    {
      "cell_type": "code",
      "source": [
        "#Apakah label tersebut bersifat diskrit?\n",
        "import os\n",
        "\n",
        "data_path = \"/content/drive/MyDrive/datasetku/data\"\n",
        "labels = sorted(os.listdir(data_path))\n",
        "\n",
        "print(\"Daftar label:\", labels)\n",
        "print(\"Jumlah kelas unik:\", len(labels))\n",
        "print(\"Tipe label: Diskrit (kategorikal)\")\n"
      ],
      "metadata": {
        "colab": {
          "base_uri": "https://localhost:8080/"
        },
        "id": "IwD7fSHItgle",
        "outputId": "ba36f0f9-ed50-4144-ff52-cfdc6b4e7692"
      },
      "execution_count": 45,
      "outputs": [
        {
          "output_type": "stream",
          "name": "stdout",
          "text": [
            "Daftar label: ['a01', 'a02', 'a03', 'a04', 'a05', 'a06', 'a07', 'a08', 'a09', 'a10', 'a11', 'a12', 'a13', 'a14', 'a15', 'a16', 'a17', 'a18', 'a19']\n",
            "Jumlah kelas unik: 19\n",
            "Tipe label: Diskrit (kategorikal)\n"
          ]
        }
      ]
    },
    {
      "cell_type": "code",
      "source": [
        "#Bagaimana distribusi labelnya?\n",
        "import os\n",
        "import pandas as pd\n",
        "\n",
        "data_path = \"/content/drive/MyDrive/datasetku/data\"\n",
        "\n",
        "# Hitung jumlah file di setiap label aktivitas\n",
        "label_counts = {label: len(os.listdir(os.path.join(data_path, label))) for label in sorted(os.listdir(data_path))}\n",
        "\n",
        "# Ubah ke DataFrame biar tampil seperti tabel\n",
        "df_label = pd.DataFrame(list(label_counts.items()), columns=[\"Label\", \"Jumlah_Sampel\"])\n",
        "\n",
        "print(df_label)\n",
        "\n"
      ],
      "metadata": {
        "colab": {
          "base_uri": "https://localhost:8080/"
        },
        "id": "ubF8tP3EucYR",
        "outputId": "f0623cbc-77ef-4b40-8fa3-1202979306b3"
      },
      "execution_count": 50,
      "outputs": [
        {
          "output_type": "stream",
          "name": "stdout",
          "text": [
            "   Label  Jumlah_Sampel\n",
            "0    a01              8\n",
            "1    a02              8\n",
            "2    a03              8\n",
            "3    a04              8\n",
            "4    a05              8\n",
            "5    a06              8\n",
            "6    a07              8\n",
            "7    a08              8\n",
            "8    a09              8\n",
            "9    a10              8\n",
            "10   a11              8\n",
            "11   a12              8\n",
            "12   a13              8\n",
            "13   a14              8\n",
            "14   a15              8\n",
            "15   a16              8\n",
            "16   a17              8\n",
            "17   a18              8\n",
            "18   a19              8\n"
          ]
        }
      ]
    },
    {
      "cell_type": "code",
      "source": [
        "#Apakah ada label yang hilang atau kesalahan pada label?\n",
        "import os\n",
        "import pandas as pd\n",
        "\n",
        "# Path utama dataset\n",
        "base_path = \"/content/drive/MyDrive/datasetku/data\"\n",
        "\n",
        "# Ambil semua folder aktivitas (label)\n",
        "labels = sorted(os.listdir(base_path))\n",
        "\n",
        "# Cek jumlah file dalam tiap label\n",
        "data = []\n",
        "for label in labels:\n",
        "    count = len(os.listdir(os.path.join(base_path, label)))\n",
        "    data.append((label, count))\n",
        "\n",
        "df_label = pd.DataFrame(data, columns=[\"Label\", \"Jumlah_Sampel\"])\n",
        "\n",
        "# Cek apakah ada label kosong atau tidak sesuai\n",
        "missing_labels = df_label[df_label[\"Jumlah_Sampel\"] == 0]\n",
        "\n",
        "print(df_label)\n",
        "print(\"\\nAda label yang hilang?:\", not missing_labels.empty)\n"
      ],
      "metadata": {
        "colab": {
          "base_uri": "https://localhost:8080/"
        },
        "id": "xPRdDzNCwyk5",
        "outputId": "3d02a184-71be-4e73-aab9-47912625edee"
      },
      "execution_count": 52,
      "outputs": [
        {
          "output_type": "stream",
          "name": "stdout",
          "text": [
            "   Label  Jumlah_Sampel\n",
            "0    a01              8\n",
            "1    a02              8\n",
            "2    a03              8\n",
            "3    a04              8\n",
            "4    a05              8\n",
            "5    a06              8\n",
            "6    a07              8\n",
            "7    a08              8\n",
            "8    a09              8\n",
            "9    a10              8\n",
            "10   a11              8\n",
            "11   a12              8\n",
            "12   a13              8\n",
            "13   a14              8\n",
            "14   a15              8\n",
            "15   a16              8\n",
            "16   a17              8\n",
            "17   a18              8\n",
            "18   a19              8\n",
            "\n",
            "Ada label yang hilang?: False\n"
          ]
        }
      ]
    },
    {
      "cell_type": "code",
      "source": [
        "# Perhatikan data dengan seksama!! (contoh data, baca data, buat grafik, dll)\n",
        "# Learning Setting ???\n",
        "import pandas as pd\n",
        "import matplotlib.pyplot as plt\n",
        "\n",
        "# Baca satu file contoh\n",
        "file_path = \"/content/drive/MyDrive/datasetku/data/a01/p1/s01.txt\"\n",
        "df = pd.read_csv(file_path, sep=\",\", header=None)\n",
        "\n",
        "# Lihat 5 baris pertama\n",
        "print(df.head())\n",
        "\n",
        "# Plot 3 fitur pertama untuk gambaran sinyal\n",
        "df.iloc[:, :3].plot(title=\"Contoh Sinyal Sensor (3 Fitur Pertama)\")\n",
        "plt.xlabel(\"Waktu\")\n",
        "plt.ylabel(\"Nilai Sensor\")\n",
        "plt.show()\n"
      ],
      "metadata": {
        "colab": {
          "base_uri": "https://localhost:8080/",
          "height": 854
        },
        "id": "nQPeuKwSx5lO",
        "outputId": "8c19df9f-c8aa-45e1-c874-b7ee394de150"
      },
      "execution_count": 53,
      "outputs": [
        {
          "output_type": "stream",
          "name": "stdout",
          "text": [
            "       0       1       2         3         4         5        6         7   \\\n",
            "0  8.1305  1.0349  5.4217 -0.009461  0.001915 -0.003424 -0.78712 -0.069654   \n",
            "1  8.1305  1.0202  5.3843 -0.009368  0.023485  0.001953 -0.78717 -0.068275   \n",
            "2  8.1604  1.0201  5.3622  0.015046  0.014330  0.000204 -0.78664 -0.068277   \n",
            "3  8.1603  1.0052  5.3770  0.006892  0.018045  0.005649 -0.78529 -0.069849   \n",
            "4  8.1605  1.0275  5.3473  0.008811  0.030433 -0.005346 -0.78742 -0.068796   \n",
            "\n",
            "        8        9   ...        35      36      37      38        39  \\\n",
            "0  0.15730  0.70097  ... -0.036453 -2.8071 -9.0812  2.6220 -0.000232   \n",
            "1  0.15890  0.71829  ... -0.034005 -2.8146 -9.0737  2.6218 -0.014784   \n",
            "2  0.15879  0.69849  ... -0.036489 -2.8221 -9.0886  2.6366 -0.012770   \n",
            "3  0.15912  0.72799  ... -0.036151 -2.8071 -9.0811  2.6070 -0.005725   \n",
            "4  0.15916  0.71572  ... -0.033807 -2.8146 -9.0737  2.6218 -0.003929   \n",
            "\n",
            "         40        41       42       43        44  \n",
            "0 -0.012092 -0.004457  0.74017  0.30053 -0.057730  \n",
            "1 -0.016477  0.002789  0.73937  0.30183 -0.057514  \n",
            "2  0.005717 -0.007918  0.73955  0.30052 -0.057219  \n",
            "3  0.009620  0.006555  0.74029  0.30184 -0.057750  \n",
            "4 -0.008371  0.002816  0.73845  0.30090 -0.057527  \n",
            "\n",
            "[5 rows x 45 columns]\n"
          ]
        },
        {
          "output_type": "display_data",
          "data": {
            "text/plain": [
              "<Figure size 640x480 with 1 Axes>"
            ],
            "image/png": "[encoded data removed]"
          },
          "metadata": {}
        }
      ]
    },
    {
      "cell_type": "code",
      "source": [
        "#Train-Test Split\n",
        "from sklearn.model_selection import train_test_split\n",
        "import pandas as pd\n",
        "\n",
        "file_path = \"/content/drive/MyDrive/datasetku/data/a01/p1/s01.txt\"\n",
        "df = pd.read_csv(file_path, sep=\",\", header=None)\n",
        "\n",
        "# Karena data ini berasal dari aktivitas a01, maka labelnya adalah 'a01'\n",
        "X = df.values\n",
        "y = [\"a01\"] * len(df)\n",
        "\n",
        "# Membagi data menjadi 80% data latih dan 20% data uji\n",
        "X_train, X_test, y_train, y_test = train_test_split(\n",
        "    X, y, test_size=0.2, random_state=42\n",
        ")\n",
        "\n",
        "print(\"Jumlah data latih:\", len(X_train))\n",
        "print(\"Jumlah data uji:\", len(X_test))\n",
        "\n"
      ],
      "metadata": {
        "colab": {
          "base_uri": "https://localhost:8080/"
        },
        "id": "Kv1jRoJCzSR4",
        "outputId": "46e2406d-8b4f-41dc-c7c5-8d4d5f18a726"
      },
      "execution_count": 55,
      "outputs": [
        {
          "output_type": "stream",
          "name": "stdout",
          "text": [
            "Jumlah data latih: 100\n",
            "Jumlah data uji: 25\n"
          ]
        }
      ]
    },
    {
      "cell_type": "code",
      "source": [
        "# === MODEL DESIGN ===\n",
        "# Feature Engineering\n",
        "# Deskripsikan fitur apa saja yang digunakan\n",
        "\n",
        "import pandas as pd\n",
        "\n",
        "# Membaca salah satu file data aktivitas (contoh: aktivitas a01)\n",
        "file_path = \"/content/drive/MyDrive/datasetku/data/a01/p1/s01.txt\"\n",
        "\n",
        "# Membaca dataset tanpa header karena setiap kolom mewakili fitur sensor\n",
        "df = pd.read_csv(file_path, sep=\",\", header=None)\n",
        "\n",
        "# Menampilkan informasi umum fitur\n",
        "print(\"=== INFORMASI FITUR ===\")\n",
        "print(f\"Jumlah fitur yang digunakan: {df.shape[1]} kolom\")\n",
        "\n",
        "# Menampilkan nama kolom fitur (hanya sebagian agar tidak terlalu panjang)\n",
        "print(\"\\nDaftar kolom fitur (20 pertama):\")\n",
        "for i in range(min(20, len(df.columns))):\n",
        "    print(f\"Fitur ke-{i}: Kolom {i}\")\n",
        "\n",
        "# Cek tipe data tiap fitur untuk memastikan semuanya numerik\n",
        "print(\"\\nTipe data tiap fitur:\")\n",
        "print(df.dtypes.unique())\n",
        "\n",
        "\n",
        "\n"
      ],
      "metadata": {
        "colab": {
          "base_uri": "https://localhost:8080/"
        },
        "id": "p4Yv8jb30a_b",
        "outputId": "6952db09-5bdf-40b7-f5c3-d4177761ac9f"
      },
      "execution_count": 62,
      "outputs": [
        {
          "output_type": "stream",
          "name": "stdout",
          "text": [
            "=== INFORMASI FITUR ===\n",
            "Jumlah fitur yang digunakan: 45 kolom\n",
            "\n",
            "Daftar kolom fitur (20 pertama):\n",
            "Fitur ke-0: Kolom 0\n",
            "Fitur ke-1: Kolom 1\n",
            "Fitur ke-2: Kolom 2\n",
            "Fitur ke-3: Kolom 3\n",
            "Fitur ke-4: Kolom 4\n",
            "Fitur ke-5: Kolom 5\n",
            "Fitur ke-6: Kolom 6\n",
            "Fitur ke-7: Kolom 7\n",
            "Fitur ke-8: Kolom 8\n",
            "Fitur ke-9: Kolom 9\n",
            "Fitur ke-10: Kolom 10\n",
            "Fitur ke-11: Kolom 11\n",
            "Fitur ke-12: Kolom 12\n",
            "Fitur ke-13: Kolom 13\n",
            "Fitur ke-14: Kolom 14\n",
            "Fitur ke-15: Kolom 15\n",
            "Fitur ke-16: Kolom 16\n",
            "Fitur ke-17: Kolom 17\n",
            "Fitur ke-18: Kolom 18\n",
            "Fitur ke-19: Kolom 19\n",
            "\n",
            "Tipe data tiap fitur:\n",
            "[dtype('float64')]\n"
          ]
        }
      ]
    },
    {
      "cell_type": "code",
      "source": [
        "# Jelaskan proses transformasi fitur (misal: normalisasi, standarisasi, encoding, ekstraksi fitur baru).\n",
        "\n",
        "from sklearn.preprocessing import StandardScaler\n",
        "import pandas as pd\n",
        "\n",
        "# Baca data\n",
        "file_path = \"/content/drive/MyDrive/datasetku/data/a01/p1/s01.txt\"\n",
        "df = pd.read_csv(file_path, sep=\",\", header=None)\n",
        "\n",
        "# Standarisasi fitur\n",
        "scaler = StandardScaler()\n",
        "data_scaled = scaler.fit_transform(df)\n",
        "\n",
        "print(\"=== TRANSFORMASI FITUR ===\")\n",
        "print(\"Proses: Standarisasi (StandardScaler)\")\n",
        "print(\"Setiap fitur diubah agar memiliki rata-rata = 0 dan standar deviasi = 1.\")\n",
        "print(\"Contoh hasil transformasi (5 baris pertama):\")\n",
        "print(data_scaled[:5])\n"
      ],
      "metadata": {
        "colab": {
          "base_uri": "https://localhost:8080/"
        },
        "id": "gu3AXZf921Rt",
        "outputId": "b6dd2ec2-a54f-41ca-b652-dc6fc9460049"
      },
      "execution_count": 63,
      "outputs": [
        {
          "output_type": "stream",
          "name": "stdout",
          "text": [
            "=== TRANSFORMASI FITUR ===\n",
            "Proses: Standarisasi (StandardScaler)\n",
            "Setiap fitur diubah agar memiliki rata-rata = 0 dan standar deviasi = 1.\n",
            "Contoh hasil transformasi (5 baris pertama):\n",
            "[[ 1.29527940e+00 -1.03101225e+00 -1.02682576e+00 -9.24572216e-01\n",
            "  -6.69949342e-01  3.83346209e-02  1.26174028e+00 -6.67103112e-01\n",
            "   1.35093921e+00  5.57525960e-01 -4.93019762e-01  1.27409896e+00\n",
            "  -9.07694827e-01 -5.58981230e-01  2.13457937e-01 -4.83745048e-01\n",
            "   7.52788664e-01 -1.70039532e-01  4.03303308e-01  9.97849432e-01\n",
            "   4.61921725e-01 -2.20278302e-02 -8.13969829e-01 -9.22253665e-01\n",
            "   1.72663935e-01 -2.28110880e-01  6.70364194e-01  9.63678051e-01\n",
            "  -1.10913281e+00  7.45502421e-02  5.51734052e-01  2.31180854e-02\n",
            "  -1.25768433e+00 -4.63726001e-01 -1.78436920e+00 -5.22376821e-01\n",
            "   3.90295232e-01  2.99516904e-01  2.02629358e-01  6.31830823e-01\n",
            "  -1.95822552e+00 -1.84812796e-01  6.55728517e-01 -9.94514398e-01\n",
            "  -7.45377572e-01]\n",
            " [ 1.29527940e+00 -1.34512063e+00 -1.23424693e+00 -9.18583617e-01\n",
            "  -7.29979899e-02  7.19947729e-01  1.24424566e+00  1.23452852e-01\n",
            "   1.45192891e+00  9.99742643e-01 -1.83874748e+00  1.03993780e+00\n",
            "  -1.96748250e-03 -5.62752379e-01 -9.33303838e-03 -5.12622558e-01\n",
            "   1.41115104e+00 -3.34900318e-01  7.74227692e-01  1.43706605e-01\n",
            "   7.06394867e-02 -7.75785847e-01 -1.79493989e-01  3.00758281e-01\n",
            "  -5.49560331e-01  3.48823253e-01  1.36196408e+00 -1.39844646e-01\n",
            "   1.64692322e+00  5.31207211e-02  1.80216335e+00 -5.66216771e-01\n",
            "  -1.02219027e+00  1.90610244e+00 -2.41290093e-01  1.76602717e+00\n",
            "   1.17500427e-02  8.70939568e-01  1.91944410e-01 -1.28219263e+00\n",
            "  -2.56046511e+00  8.43583917e-01 -2.88989128e-01  6.54216368e-01\n",
            "  -4.81972587e-01]\n",
            " [ 1.54548907e+00 -1.34725742e+00 -1.35681399e+00  6.53520236e-01\n",
            "  -3.26363295e-01  4.98236491e-01  1.42968867e+00  1.22306288e-01\n",
            "   1.44498587e+00  4.94206250e-01 -8.47416503e-01  7.02745735e-01\n",
            "   8.82694092e-01 -1.26041491e+00  1.78891696e+00 -5.82753654e-01\n",
            "   1.10411208e+00 -3.36412803e-01  6.50586231e-01  3.74418773e-04\n",
            "   1.02710718e+00  4.13152676e-01 -8.01493094e-01 -5.14160081e-01\n",
            "  -3.71621019e-01 -4.33366293e-01  4.63304654e-01 -1.34961802e-01\n",
            "   2.64286416e-01  3.81998267e-01 -1.29227624e+00  3.21523957e-01\n",
            "  -5.36135957e-01 -1.36350043e+00 -3.95598004e-01 -5.56029821e-01\n",
            "  -3.66795146e-01 -2.64286792e-01  9.82630578e-01 -1.01729137e+00\n",
            "   4.87677556e-01 -6.76019119e-01 -7.64276575e-02 -1.00719694e+00\n",
            "  -1.22229669e-01]\n",
            " [ 1.54465225e+00 -1.66563938e+00 -1.27473289e+00  1.28455322e-01\n",
            "  -2.23550394e-01  1.18846959e+00  1.90204352e+00 -7.78893114e-01\n",
            "   1.46581500e+00  1.24740441e+00 -1.20507957e+00  1.15935999e+00\n",
            "   3.58670448e-01  3.95658161e-01  6.31265838e-01 -4.85387491e+00\n",
            "  -1.98103896e+00 -5.15670019e+00  1.01898732e+00  1.42199570e+00\n",
            "  -1.02060320e+00  4.10350908e-01  3.44625611e-01 -4.08387946e-01\n",
            "  -5.80961386e-01 -2.89132760e-01  9.82530098e-01 -1.34961802e-01\n",
            "  -4.27031985e-01 -2.74007476e-01  6.50130648e-02  2.55731823e-02\n",
            "   1.79711693e-01  7.40197536e-01  4.70900264e-01 -2.40065544e-01\n",
            "   3.90295232e-01  3.07135873e-01 -5.98741758e-01 -9.06630507e-02\n",
            "   1.02371887e+00  1.37807771e+00  7.97436164e-01  6.66898912e-01\n",
            "  -7.69766922e-01]\n",
            " [ 1.54632590e+00 -1.18913483e+00 -1.43944970e+00  2.52026523e-01\n",
            "   1.19288426e-01 -2.05306888e-01  1.15677254e+00 -1.75227102e-01\n",
            "   1.46833974e+00  9.34125041e-01 -1.12668767e+00  1.04462103e+00\n",
            "  -1.26954228e+00 -3.15876814e-01  6.43596558e-01  9.51802733e-02\n",
            "   5.07747959e-01 -4.07499564e-01  1.14262878e+00  1.40781459e-01\n",
            "  -2.38038723e-01 -6.29269858e-01  3.49364836e-01  3.02719160e-01\n",
            "  -1.29271863e+00 -1.39351783e-01  1.75190869e+00  2.26368638e-01\n",
            "   1.64692322e+00  5.96807785e-02 -1.32982513e+00 -1.15153420e+00\n",
            "   1.12847451e+00  1.69917966e-01 -2.29420254e-01  1.95111867e+00\n",
            "   1.17500427e-02  8.70939568e-01  1.91944410e-01  1.45564693e-01\n",
            "  -1.44718024e+00  8.47415922e-01 -1.37541442e+00 -5.25260257e-01\n",
            "  -4.97825665e-01]]\n"
          ]
        }
      ]
    },
    {
      "cell_type": "code",
      "source": [
        "# Jika menggunakan teknik khusus (PCA, embedding, dll), jelaskan proses dan tujuannya.\n",
        "\n",
        "from sklearn.decomposition import PCA\n",
        "from sklearn.preprocessing import StandardScaler\n",
        "import pandas as pd\n",
        "\n",
        "# Baca data\n",
        "file_path = \"/content/drive/MyDrive/datasetku/data/a01/p1/s01.txt\"\n",
        "df = pd.read_csv(file_path, sep=\",\", header=None)\n",
        "\n",
        "# Standarisasi data sebelum PCA\n",
        "scaler = StandardScaler()\n",
        "scaled_data = scaler.fit_transform(df)\n",
        "\n",
        "# Terapkan PCA (ambil 10 komponen utama)\n",
        "pca = PCA(n_components=10)\n",
        "pca_result = pca.fit_transform(scaled_data)\n",
        "\n",
        "# Tampilkan hasil\n",
        "print(\"=== HASIL PCA ===\")\n",
        "print(\"Jumlah komponen utama:\", pca.n_components_)\n",
        "print(\"Persentase varian yang dijelaskan:\", sum(pca.explained_variance_ratio_) * 100, \"%\")\n",
        "print(\"Bentuk data setelah PCA:\", pca_result.shape)\n"
      ],
      "metadata": {
        "colab": {
          "base_uri": "https://localhost:8080/"
        },
        "id": "AkzQSqQl3_1d",
        "outputId": "6e8a13d2-3283-46bd-b606-3491706c8ab0"
      },
      "execution_count": 64,
      "outputs": [
        {
          "output_type": "stream",
          "name": "stdout",
          "text": [
            "=== HASIL PCA ===\n",
            "Jumlah komponen utama: 10\n",
            "Persentase varian yang dijelaskan: 65.21821265172407 %\n",
            "Bentuk data setelah PCA: (125, 10)\n"
          ]
        }
      ]
    },
    {
      "cell_type": "code",
      "source": [
        "# === MODEL FAMILY / ARCHITECTURE ===\n",
        "\n",
        "# Linear Model\n",
        "from sklearn.linear_model import LogisticRegression\n",
        "model_linear = LogisticRegression()\n",
        "print(\"Linear =\", type(model_linear).__name__)\n",
        "\n",
        "# Non-Linear Model\n",
        "from sklearn.ensemble import RandomForestClassifier\n",
        "model_nonlinear = RandomForestClassifier()\n",
        "print(\"Non Linear =\", type(model_nonlinear).__name__)\n",
        "\n"
      ],
      "metadata": {
        "colab": {
          "base_uri": "https://localhost:8080/"
        },
        "id": "hHp4loEC4sRJ",
        "outputId": "46701ccd-c061-40b4-eed7-28167a67fa2a"
      },
      "execution_count": 76,
      "outputs": [
        {
          "output_type": "stream",
          "name": "stdout",
          "text": [
            "Linear = LogisticRegression\n",
            "Non Linear = RandomForestClassifier\n"
          ]
        }
      ]
    },
    {
      "cell_type": "code",
      "source": [
        "# Model Family / Architecture\n",
        "# B\n",
        "from tensorflow.keras.models import Sequential\n",
        "from tensorflow.keras.layers import Dense, Input\n",
        "\n",
        "# Arsitektur Neural Network\n",
        "model_nn = Sequential([\n",
        "    Input(shape=(45,)),                # Input layer: 45 fitur\n",
        "    Dense(64, activation='relu'),      # Hidden layer 1\n",
        "    Dense(32, activation='relu'),      # Hidden layer 2\n",
        "    Dense(19, activation='softmax')    # Output layer: 19 kelas aktivitas\n",
        "])\n",
        "\n",
        "# Tampilkan ringkasan model\n",
        "model_nn.summary()\n",
        "\n"
      ],
      "metadata": {
        "colab": {
          "base_uri": "https://localhost:8080/",
          "height": 238
        },
        "id": "yqAAYLRg8qdX",
        "outputId": "cfe586f7-5b83-4cae-92fa-1d8e5fc8dd11"
      },
      "execution_count": 78,
      "outputs": [
        {
          "output_type": "display_data",
          "data": {
            "text/plain": [
              "\u001b[1mModel: \"sequential_1\"\u001b[0m\n"
            ],
            "text/html": [
              "<pre style=\"white-space:pre;overflow-x:auto;line-height:normal;font-family:Menlo,'DejaVu Sans Mono',consolas,'Courier New',monospace\"><span style=\"font-weight: bold\">Model: \"sequential_1\"</span>\n",
              "</pre>\n"
            ]
          },
          "metadata": {}
        },
        {
          "output_type": "display_data",
          "data": {
            "text/plain": [
              "┏━━━━━━━━━━━━━━━━━━━━━━━━━━━━━━━━━┳━━━━━━━━━━━━━━━━━━━━━━━━┳━━━━━━━━━━━━━━━┓\n",
              "┃\u001b[1m \u001b[0m\u001b[1mLayer (type)                   \u001b[0m\u001b[1m \u001b[0m┃\u001b[1m \u001b[0m\u001b[1mOutput Shape          \u001b[0m\u001b[1m \u001b[0m┃\u001b[1m \u001b[0m\u001b[1m      Param #\u001b[0m\u001b[1m \u001b[0m┃\n",
              "┡━━━━━━━━━━━━━━━━━━━━━━━━━━━━━━━━━╇━━━━━━━━━━━━━━━━━━━━━━━━╇━━━━━━━━━━━━━━━┩\n",
              "│ dense_3 (\u001b[38;5;33mDense\u001b[0m)                 │ (\u001b[38;5;45mNone\u001b[0m, \u001b[38;5;34m64\u001b[0m)             │         \u001b[38;5;34m2,944\u001b[0m │\n",
              "├─────────────────────────────────┼────────────────────────┼───────────────┤\n",
              "│ dense_4 (\u001b[38;5;33mDense\u001b[0m)                 │ (\u001b[38;5;45mNone\u001b[0m, \u001b[38;5;34m32\u001b[0m)             │         \u001b[38;5;34m2,080\u001b[0m │\n",
              "├─────────────────────────────────┼────────────────────────┼───────────────┤\n",
              "│ dense_5 (\u001b[38;5;33mDense\u001b[0m)                 │ (\u001b[38;5;45mNone\u001b[0m, \u001b[38;5;34m19\u001b[0m)             │           \u001b[38;5;34m627\u001b[0m │\n",
              "└─────────────────────────────────┴────────────────────────┴───────────────┘\n"
            ],
            "text/html": [
              "<pre style=\"white-space:pre;overflow-x:auto;line-height:normal;font-family:Menlo,'DejaVu Sans Mono',consolas,'Courier New',monospace\">┏━━━━━━━━━━━━━━━━━━━━━━━━━━━━━━━━━┳━━━━━━━━━━━━━━━━━━━━━━━━┳━━━━━━━━━━━━━━━┓\n",
              "┃<span style=\"font-weight: bold\"> Layer (type)                    </span>┃<span style=\"font-weight: bold\"> Output Shape           </span>┃<span style=\"font-weight: bold\">       Param # </span>┃\n",
              "┡━━━━━━━━━━━━━━━━━━━━━━━━━━━━━━━━━╇━━━━━━━━━━━━━━━━━━━━━━━━╇━━━━━━━━━━━━━━━┩\n",
              "│ dense_3 (<span style=\"color: #0087ff; text-decoration-color: #0087ff\">Dense</span>)                 │ (<span style=\"color: #00d7ff; text-decoration-color: #00d7ff\">None</span>, <span style=\"color: #00af00; text-decoration-color: #00af00\">64</span>)             │         <span style=\"color: #00af00; text-decoration-color: #00af00\">2,944</span> │\n",
              "├─────────────────────────────────┼────────────────────────┼───────────────┤\n",
              "│ dense_4 (<span style=\"color: #0087ff; text-decoration-color: #0087ff\">Dense</span>)                 │ (<span style=\"color: #00d7ff; text-decoration-color: #00d7ff\">None</span>, <span style=\"color: #00af00; text-decoration-color: #00af00\">32</span>)             │         <span style=\"color: #00af00; text-decoration-color: #00af00\">2,080</span> │\n",
              "├─────────────────────────────────┼────────────────────────┼───────────────┤\n",
              "│ dense_5 (<span style=\"color: #0087ff; text-decoration-color: #0087ff\">Dense</span>)                 │ (<span style=\"color: #00d7ff; text-decoration-color: #00d7ff\">None</span>, <span style=\"color: #00af00; text-decoration-color: #00af00\">19</span>)             │           <span style=\"color: #00af00; text-decoration-color: #00af00\">627</span> │\n",
              "└─────────────────────────────────┴────────────────────────┴───────────────┘\n",
              "</pre>\n"
            ]
          },
          "metadata": {}
        },
        {
          "output_type": "display_data",
          "data": {
            "text/plain": [
              "\u001b[1m Total params: \u001b[0m\u001b[38;5;34m5,651\u001b[0m (22.07 KB)\n"
            ],
            "text/html": [
              "<pre style=\"white-space:pre;overflow-x:auto;line-height:normal;font-family:Menlo,'DejaVu Sans Mono',consolas,'Courier New',monospace\"><span style=\"font-weight: bold\"> Total params: </span><span style=\"color: #00af00; text-decoration-color: #00af00\">5,651</span> (22.07 KB)\n",
              "</pre>\n"
            ]
          },
          "metadata": {}
        },
        {
          "output_type": "display_data",
          "data": {
            "text/plain": [
              "\u001b[1m Trainable params: \u001b[0m\u001b[38;5;34m5,651\u001b[0m (22.07 KB)\n"
            ],
            "text/html": [
              "<pre style=\"white-space:pre;overflow-x:auto;line-height:normal;font-family:Menlo,'DejaVu Sans Mono',consolas,'Courier New',monospace\"><span style=\"font-weight: bold\"> Trainable params: </span><span style=\"color: #00af00; text-decoration-color: #00af00\">5,651</span> (22.07 KB)\n",
              "</pre>\n"
            ]
          },
          "metadata": {}
        },
        {
          "output_type": "display_data",
          "data": {
            "text/plain": [
              "\u001b[1m Non-trainable params: \u001b[0m\u001b[38;5;34m0\u001b[0m (0.00 B)\n"
            ],
            "text/html": [
              "<pre style=\"white-space:pre;overflow-x:auto;line-height:normal;font-family:Menlo,'DejaVu Sans Mono',consolas,'Courier New',monospace\"><span style=\"font-weight: bold\"> Non-trainable params: </span><span style=\"color: #00af00; text-decoration-color: #00af00\">0</span> (0.00 B)\n",
              "</pre>\n"
            ]
          },
          "metadata": {}
        }
      ]
    },
    {
      "cell_type": "code",
      "source": [
        "df.info()\n"
      ],
      "metadata": {
        "colab": {
          "base_uri": "https://localhost:8080/"
        },
        "id": "RjqHkmIinCaq",
        "outputId": "172369c3-78ff-4bd4-f13f-10eb9fe6b1fa"
      },
      "execution_count": 28,
      "outputs": [
        {
          "output_type": "stream",
          "name": "stdout",
          "text": [
            "<class 'pandas.core.frame.DataFrame'>\n",
            "RangeIndex: 125 entries, 0 to 124\n",
            "Data columns (total 45 columns):\n",
            " #   Column  Non-Null Count  Dtype  \n",
            "---  ------  --------------  -----  \n",
            " 0   0       125 non-null    float64\n",
            " 1   1       125 non-null    float64\n",
            " 2   2       125 non-null    float64\n",
            " 3   3       125 non-null    float64\n",
            " 4   4       125 non-null    float64\n",
            " 5   5       125 non-null    float64\n",
            " 6   6       125 non-null    float64\n",
            " 7   7       125 non-null    float64\n",
            " 8   8       125 non-null    float64\n",
            " 9   9       125 non-null    float64\n",
            " 10  10      125 non-null    float64\n",
            " 11  11      125 non-null    float64\n",
            " 12  12      125 non-null    float64\n",
            " 13  13      125 non-null    float64\n",
            " 14  14      125 non-null    float64\n",
            " 15  15      125 non-null    float64\n",
            " 16  16      125 non-null    float64\n",
            " 17  17      125 non-null    float64\n",
            " 18  18      125 non-null    float64\n",
            " 19  19      125 non-null    float64\n",
            " 20  20      125 non-null    float64\n",
            " 21  21      125 non-null    float64\n",
            " 22  22      125 non-null    float64\n",
            " 23  23      125 non-null    float64\n",
            " 24  24      125 non-null    float64\n",
            " 25  25      125 non-null    float64\n",
            " 26  26      125 non-null    float64\n",
            " 27  27      125 non-null    float64\n",
            " 28  28      125 non-null    float64\n",
            " 29  29      125 non-null    float64\n",
            " 30  30      125 non-null    float64\n",
            " 31  31      125 non-null    float64\n",
            " 32  32      125 non-null    float64\n",
            " 33  33      125 non-null    float64\n",
            " 34  34      125 non-null    float64\n",
            " 35  35      125 non-null    float64\n",
            " 36  36      125 non-null    float64\n",
            " 37  37      125 non-null    float64\n",
            " 38  38      125 non-null    float64\n",
            " 39  39      125 non-null    float64\n",
            " 40  40      125 non-null    float64\n",
            " 41  41      125 non-null    float64\n",
            " 42  42      125 non-null    float64\n",
            " 43  43      125 non-null    float64\n",
            " 44  44      125 non-null    float64\n",
            "dtypes: float64(45)\n",
            "memory usage: 44.1 KB\n"
          ]
        }
      ]
    }
  ]
}