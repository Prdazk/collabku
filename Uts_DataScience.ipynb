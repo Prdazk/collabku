{
  "nbformat": 4,
  "nbformat_minor": 0,
  "metadata": {
    "colab": {
      "provenance": [],
      "authorship_tag": "ABX9TyN/0T4ML0YyAVgsPqImYbNw",
      "include_colab_link": true
    },
    "kernelspec": {
      "name": "python3",
      "display_name": "Python 3"
    },
    "language_info": {
      "name": "python"
    }
  },
  "cells": [
    {
      "cell_type": "markdown",
      "metadata": {
        "id": "view-in-github",
        "colab_type": "text"
      },
      "source": [
        "<a href=\"https://colab.research.google.com/github/Prdazk/collabku/blob/main/Uts_DataScience.ipynb\" target=\"_parent\"><img src=\"https://colab.research.google.com/assets/colab-badge.svg\" alt=\"Open In Colab\"/></a>"
      ]
    },
    {
      "cell_type": "code",
      "execution_count": 1,
      "metadata": {
        "colab": {
          "base_uri": "https://localhost:8080/",
          "height": 90
        },
        "id": "WBxyiruVSesw",
        "outputId": "555d03a6-b389-4f56-d403-16d12004fa5b"
      },
      "outputs": [
        {
          "output_type": "display_data",
          "data": {
            "text/plain": [
              "<IPython.core.display.HTML object>"
            ],
            "text/html": [
              "\n",
              "     <input type=\"file\" id=\"files-909762f6-f94f-49eb-bcd3-9b1000cfa942\" name=\"files[]\" multiple disabled\n",
              "        style=\"border:none\" />\n",
              "     <output id=\"result-909762f6-f94f-49eb-bcd3-9b1000cfa942\">\n",
              "      Upload widget is only available when the cell has been executed in the\n",
              "      current browser session. Please rerun this cell to enable.\n",
              "      </output>\n",
              "      <script>// Copyright 2017 Google LLC\n",
              "//\n",
              "// Licensed under the Apache License, Version 2.0 (the \"License\");\n",
              "// you may not use this file except in compliance with the License.\n",
              "// You may obtain a copy of the License at\n",
              "//\n",
              "//      http://www.apache.org/licenses/LICENSE-2.0\n",
              "//\n",
              "// Unless required by applicable law or agreed to in writing, software\n",
              "// distributed under the License is distributed on an \"AS IS\" BASIS,\n",
              "// WITHOUT WARRANTIES OR CONDITIONS OF ANY KIND, either express or implied.\n",
              "// See the License for the specific language governing permissions and\n",
              "// limitations under the License.\n",
              "\n",
              "/**\n",
              " * @fileoverview Helpers for google.colab Python module.\n",
              " */\n",
              "(function(scope) {\n",
              "function span(text, styleAttributes = {}) {\n",
              "  const element = document.createElement('span');\n",
              "  element.textContent = text;\n",
              "  for (const key of Object.keys(styleAttributes)) {\n",
              "    element.style[key] = styleAttributes[key];\n",
              "  }\n",
              "  return element;\n",
              "}\n",
              "\n",
              "// Max number of bytes which will be uploaded at a time.\n",
              "const MAX_PAYLOAD_SIZE = 100 * 1024;\n",
              "\n",
              "function _uploadFiles(inputId, outputId) {\n",
              "  const steps = uploadFilesStep(inputId, outputId);\n",
              "  const outputElement = document.getElementById(outputId);\n",
              "  // Cache steps on the outputElement to make it available for the next call\n",
              "  // to uploadFilesContinue from Python.\n",
              "  outputElement.steps = steps;\n",
              "\n",
              "  return _uploadFilesContinue(outputId);\n",
              "}\n",
              "\n",
              "// This is roughly an async generator (not supported in the browser yet),\n",
              "// where there are multiple asynchronous steps and the Python side is going\n",
              "// to poll for completion of each step.\n",
              "// This uses a Promise to block the python side on completion of each step,\n",
              "// then passes the result of the previous step as the input to the next step.\n",
              "function _uploadFilesContinue(outputId) {\n",
              "  const outputElement = document.getElementById(outputId);\n",
              "  const steps = outputElement.steps;\n",
              "\n",
              "  const next = steps.next(outputElement.lastPromiseValue);\n",
              "  return Promise.resolve(next.value.promise).then((value) => {\n",
              "    // Cache the last promise value to make it available to the next\n",
              "    // step of the generator.\n",
              "    outputElement.lastPromiseValue = value;\n",
              "    return next.value.response;\n",
              "  });\n",
              "}\n",
              "\n",
              "/**\n",
              " * Generator function which is called between each async step of the upload\n",
              " * process.\n",
              " * @param {string} inputId Element ID of the input file picker element.\n",
              " * @param {string} outputId Element ID of the output display.\n",
              " * @return {!Iterable<!Object>} Iterable of next steps.\n",
              " */\n",
              "function* uploadFilesStep(inputId, outputId) {\n",
              "  const inputElement = document.getElementById(inputId);\n",
              "  inputElement.disabled = false;\n",
              "\n",
              "  const outputElement = document.getElementById(outputId);\n",
              "  outputElement.innerHTML = '';\n",
              "\n",
              "  const pickedPromise = new Promise((resolve) => {\n",
              "    inputElement.addEventListener('change', (e) => {\n",
              "      resolve(e.target.files);\n",
              "    });\n",
              "  });\n",
              "\n",
              "  const cancel = document.createElement('button');\n",
              "  inputElement.parentElement.appendChild(cancel);\n",
              "  cancel.textContent = 'Cancel upload';\n",
              "  const cancelPromise = new Promise((resolve) => {\n",
              "    cancel.onclick = () => {\n",
              "      resolve(null);\n",
              "    };\n",
              "  });\n",
              "\n",
              "  // Wait for the user to pick the files.\n",
              "  const files = yield {\n",
              "    promise: Promise.race([pickedPromise, cancelPromise]),\n",
              "    response: {\n",
              "      action: 'starting',\n",
              "    }\n",
              "  };\n",
              "\n",
              "  cancel.remove();\n",
              "\n",
              "  // Disable the input element since further picks are not allowed.\n",
              "  inputElement.disabled = true;\n",
              "\n",
              "  if (!files) {\n",
              "    return {\n",
              "      response: {\n",
              "        action: 'complete',\n",
              "      }\n",
              "    };\n",
              "  }\n",
              "\n",
              "  for (const file of files) {\n",
              "    const li = document.createElement('li');\n",
              "    li.append(span(file.name, {fontWeight: 'bold'}));\n",
              "    li.append(span(\n",
              "        `(${file.type || 'n/a'}) - ${file.size} bytes, ` +\n",
              "        `last modified: ${\n",
              "            file.lastModifiedDate ? file.lastModifiedDate.toLocaleDateString() :\n",
              "                                    'n/a'} - `));\n",
              "    const percent = span('0% done');\n",
              "    li.appendChild(percent);\n",
              "\n",
              "    outputElement.appendChild(li);\n",
              "\n",
              "    const fileDataPromise = new Promise((resolve) => {\n",
              "      const reader = new FileReader();\n",
              "      reader.onload = (e) => {\n",
              "        resolve(e.target.result);\n",
              "      };\n",
              "      reader.readAsArrayBuffer(file);\n",
              "    });\n",
              "    // Wait for the data to be ready.\n",
              "    let fileData = yield {\n",
              "      promise: fileDataPromise,\n",
              "      response: {\n",
              "        action: 'continue',\n",
              "      }\n",
              "    };\n",
              "\n",
              "    // Use a chunked sending to avoid message size limits. See b/62115660.\n",
              "    let position = 0;\n",
              "    do {\n",
              "      const length = Math.min(fileData.byteLength - position, MAX_PAYLOAD_SIZE);\n",
              "      const chunk = new Uint8Array(fileData, position, length);\n",
              "      position += length;\n",
              "\n",
              "      const base64 = btoa(String.fromCharCode.apply(null, chunk));\n",
              "      yield {\n",
              "        response: {\n",
              "          action: 'append',\n",
              "          file: file.name,\n",
              "          data: base64,\n",
              "        },\n",
              "      };\n",
              "\n",
              "      let percentDone = fileData.byteLength === 0 ?\n",
              "          100 :\n",
              "          Math.round((position / fileData.byteLength) * 100);\n",
              "      percent.textContent = `${percentDone}% done`;\n",
              "\n",
              "    } while (position < fileData.byteLength);\n",
              "  }\n",
              "\n",
              "  // All done.\n",
              "  yield {\n",
              "    response: {\n",
              "      action: 'complete',\n",
              "    }\n",
              "  };\n",
              "}\n",
              "\n",
              "scope.google = scope.google || {};\n",
              "scope.google.colab = scope.google.colab || {};\n",
              "scope.google.colab._files = {\n",
              "  _uploadFiles,\n",
              "  _uploadFilesContinue,\n",
              "};\n",
              "})(self);\n",
              "</script> "
            ]
          },
          "metadata": {}
        },
        {
          "output_type": "stream",
          "name": "stdout",
          "text": [
            "Saving train_public.csv to train_public.csv\n",
            "Dataset shape: (313, 28)\n"
          ]
        }
      ],
      "source": [
        "# Upload file\n",
        "from google.colab import files\n",
        "uploaded = files.upload()\n",
        "\n",
        "import pandas as pd\n",
        "import numpy as np\n",
        "from sklearn.model_selection import train_test_split, cross_val_score, GridSearchCV, StratifiedKFold\n",
        "from sklearn.preprocessing import StandardScaler, RobustScaler, PowerTransformer, OneHotEncoder\n",
        "from sklearn.ensemble import RandomForestClassifier, GradientBoostingClassifier, ExtraTreesClassifier, VotingClassifier\n",
        "from sklearn.linear_model import LogisticRegression\n",
        "from sklearn.svm import SVC\n",
        "from sklearn.pipeline import Pipeline\n",
        "from sklearn.compose import ColumnTransformer\n",
        "from sklearn.impute import KNNImputer, SimpleImputer\n",
        "from sklearn.metrics import accuracy_score, classification_report\n",
        "from sklearn.feature_selection import SelectFromModel, RFE\n",
        "import joblib\n",
        "import warnings\n",
        "warnings.filterwarnings('ignore')\n",
        "\n",
        "# Load data\n",
        "df = pd.read_csv('train_public.csv')\n",
        "print(f\"Dataset shape: {df.shape}\")"
      ]
    },
    {
      "cell_type": "code",
      "source": [
        "# Pisahkan features dan target\n",
        "X = df.drop('label', axis=1)\n",
        "y = df['label']\n",
        "\n",
        "# Feature Engineering - tambahkan features baru berdasarkan domain knowledge\n",
        "def create_features(df):\n",
        "    df_eng = df.copy()\n",
        "\n",
        "    # Interaction features\n",
        "    if 'pulse' in df.columns and 'respiratory_rate' in df.columns:\n",
        "        df_eng['pulse_resp_ratio'] = df['pulse'] / (df['respiratory_rate'] + 1)\n",
        "\n",
        "    if 'packed_cell_volume' in df.columns and 'total_protein' in df.columns:\n",
        "        df_eng['pcv_tp_ratio'] = df['packed_cell_volume'] / (df['total_protein'] + 1)\n",
        "\n",
        "    # Age grouping\n",
        "    if 'age' in df.columns:\n",
        "        df_eng['age_group'] = pd.cut(df['age'], bins=[0, 5, 10, 15, 20], labels=[0, 1, 2, 3])\n",
        "\n",
        "    # Temperature status\n",
        "    if 'rectal_temperature' in df.columns:\n",
        "        df_eng['temp_status'] = np.where(df['rectal_temperature'] > 38.5, 1,\n",
        "                                       np.where(df['rectal_temperature'] < 37.5, -1, 0))\n",
        "\n",
        "    # Pulse status\n",
        "    if 'pulse' in df.columns:\n",
        "        df_eng['pulse_status'] = np.where(df['pulse'] > 80, 1,\n",
        "                                        np.where(df['pulse'] < 40, -1, 0))\n",
        "\n",
        "    return df_eng\n",
        "\n",
        "X_eng = create_features(X)\n",
        "print(f\"Shape setelah feature engineering: {X_eng.shape}\")"
      ],
      "metadata": {
        "colab": {
          "base_uri": "https://localhost:8080/"
        },
        "id": "sDcPwEs-Sunh",
        "outputId": "c366fddf-e015-40d3-ce33-d529810a0543"
      },
      "execution_count": 2,
      "outputs": [
        {
          "output_type": "stream",
          "name": "stdout",
          "text": [
            "Shape setelah feature engineering: (313, 32)\n"
          ]
        }
      ]
    },
    {
      "cell_type": "code",
      "source": [
        "# Identifikasi kolom\n",
        "numerical_features = X_eng.select_dtypes(include=['int64', 'float64']).columns.tolist()\n",
        "categorical_features = X_eng.select_dtypes(include=['object']).columns.tolist()\n",
        "\n",
        "print(f\"Numerical features: {len(numerical_features)}\")\n",
        "print(f\"Categorical features: {len(categorical_features)}\")\n",
        "\n",
        "# Hapus kolom dengan terlalu banyak missing values\n",
        "missing_percent = X_eng.isnull().sum() / len(X_eng) * 100\n",
        "cols_to_drop = missing_percent[missing_percent > 60].index.tolist()\n",
        "print(f\"Kolom yang dihapus: {cols_to_drop}\")\n",
        "\n",
        "X_final = X_eng.drop(columns=cols_to_drop)\n",
        "numerical_features = [col for col in numerical_features if col not in cols_to_drop]\n",
        "\n",
        "# Advanced preprocessing pipeline\n",
        "numerical_transformer = Pipeline(steps=[\n",
        "    ('imputer', KNNImputer(n_neighbors=10, weights='distance')),\n",
        "    ('scaler', RobustScaler()),  # Lebih robust terhadap outliers\n",
        "    ('transformer', PowerTransformer(method='yeo-johnson'))  # Handle skewness\n",
        "])\n",
        "\n",
        "if categorical_features:\n",
        "    categorical_transformer = Pipeline(steps=[\n",
        "        ('imputer', SimpleImputer(strategy='most_frequent')),\n",
        "        ('onehot', OneHotEncoder(handle_unknown='ignore', sparse_output=False, drop='first'))\n",
        "    ])\n",
        "else:\n",
        "    categorical_transformer = 'drop'\n",
        "\n",
        "preprocessor = ColumnTransformer(\n",
        "    transformers=[\n",
        "        ('num', numerical_transformer, numerical_features),\n",
        "        ('cat', categorical_transformer, categorical_features)\n",
        "    ])"
      ],
      "metadata": {
        "colab": {
          "base_uri": "https://localhost:8080/"
        },
        "id": "NN9sQ8S1Sxsw",
        "outputId": "181220a9-c7ec-446a-d6a5-b35a3b2da13b"
      },
      "execution_count": 3,
      "outputs": [
        {
          "output_type": "stream",
          "name": "stdout",
          "text": [
            "Numerical features: 31\n",
            "Categorical features: 0\n",
            "Kolom yang dihapus: ['nasogastric_reflux_ph', 'abdominocentesis_total_protein']\n"
          ]
        }
      ]
    },
    {
      "cell_type": "code",
      "source": [
        "# Split data dengan stratifikasi\n",
        "X_train, X_test, y_train, y_test = train_test_split(\n",
        "    X_final, y, test_size=0.15, random_state=42, stratify=y  # Kurangi test size\n",
        ")\n",
        "\n",
        "print(f\"Training: {X_train.shape}, Test: {X_test.shape}\")\n",
        "\n",
        "# Define advanced models\n",
        "models = {\n",
        "    'random_forest': RandomForestClassifier(\n",
        "        n_estimators=300,\n",
        "        max_depth=20,\n",
        "        min_samples_split=3,\n",
        "        min_samples_leaf=1,\n",
        "        max_features='sqrt',\n",
        "        bootstrap=True,\n",
        "        random_state=42,\n",
        "        n_jobs=-1\n",
        "    ),\n",
        "    'gradient_boosting': GradientBoostingClassifier(\n",
        "        n_estimators=200,\n",
        "        learning_rate=0.05,\n",
        "        max_depth=8,\n",
        "        min_samples_split=5,\n",
        "        min_samples_leaf=2,\n",
        "        subsample=0.8,\n",
        "        random_state=42\n",
        "    ),\n",
        "    'extra_trees': ExtraTreesClassifier(\n",
        "        n_estimators=300,\n",
        "        max_depth=20,\n",
        "        min_samples_split=3,\n",
        "        min_samples_leaf=1,\n",
        "        bootstrap=True,\n",
        "        random_state=42,\n",
        "        n_jobs=-1\n",
        "    )\n",
        "}\n",
        "\n",
        "# Training dengan cross-validation\n",
        "print(\"=== ADVANCED MODEL TRAINING ===\")\n",
        "\n",
        "best_model = None\n",
        "best_accuracy = 0\n",
        "cv = StratifiedKFold(n_splits=5, shuffle=True, random_state=42)\n",
        "\n",
        "for name, model in models.items():\n",
        "    print(f\"\\n--- Training {name} ---\")\n",
        "\n",
        "    pipeline = Pipeline(steps=[\n",
        "        ('preprocessor', preprocessor),\n",
        "        ('classifier', model)\n",
        "    ])\n",
        "\n",
        "    # Cross-validation\n",
        "    cv_scores = cross_val_score(pipeline, X_final, y, cv=cv, scoring='accuracy', n_jobs=-1)\n",
        "\n",
        "    # Train on full training set\n",
        "    pipeline.fit(X_train, y_train)\n",
        "    y_pred = pipeline.predict(X_test)\n",
        "    test_accuracy = accuracy_score(y_test, y_pred)\n",
        "\n",
        "    print(f\"CV Accuracy: {cv_scores.mean():.4f} (+/- {cv_scores.std() * 2:.4f})\")\n",
        "    print(f\"Test Accuracy: {test_accuracy:.4f}\")\n",
        "\n",
        "    if test_accuracy > best_accuracy:\n",
        "        best_accuracy = test_accuracy\n",
        "        best_model = pipeline\n",
        "        best_model_name = name\n",
        "\n",
        "print(f\"\\nBest single model: {best_model_name} - {best_accuracy:.4f}\")"
      ],
      "metadata": {
        "colab": {
          "base_uri": "https://localhost:8080/"
        },
        "id": "kPEAkr94S0nT",
        "outputId": "b9b9a702-907b-4790-9fb2-a9f80bf635f1"
      },
      "execution_count": 4,
      "outputs": [
        {
          "output_type": "stream",
          "name": "stdout",
          "text": [
            "Training: (266, 30), Test: (47, 30)\n",
            "=== ADVANCED MODEL TRAINING ===\n",
            "\n",
            "--- Training random_forest ---\n",
            "CV Accuracy: 0.8720 (+/- 0.1066)\n",
            "Test Accuracy: 0.8298\n",
            "\n",
            "--- Training gradient_boosting ---\n",
            "CV Accuracy: 0.8561 (+/- 0.1027)\n",
            "Test Accuracy: 0.8085\n",
            "\n",
            "--- Training extra_trees ---\n",
            "CV Accuracy: 0.8656 (+/- 0.0814)\n",
            "Test Accuracy: 0.8511\n",
            "\n",
            "Best single model: extra_trees - 0.8511\n"
          ]
        }
      ]
    },
    {
      "cell_type": "code",
      "source": [
        "# Buat Voting Classifier dengan model terbaik\n",
        "print(\"\\n=== BUILDING VOTING ENSEMBLE ===\")\n",
        "\n",
        "# Definisikan base models untuk voting\n",
        "rf = RandomForestClassifier(\n",
        "    n_estimators=300, max_depth=20, min_samples_split=3,\n",
        "    min_samples_leaf=1, random_state=42, n_jobs=-1\n",
        ")\n",
        "\n",
        "gb = GradientBoostingClassifier(\n",
        "    n_estimators=200, learning_rate=0.05, max_depth=8,\n",
        "    min_samples_split=5, random_state=42\n",
        ")\n",
        "\n",
        "et = ExtraTreesClassifier(\n",
        "    n_estimators=300, max_depth=20, min_samples_split=3,\n",
        "    random_state=42, n_jobs=-1\n",
        ")\n",
        "\n",
        "# Voting Classifier\n",
        "voting_clf = VotingClassifier(\n",
        "    estimators=[\n",
        "        ('rf', rf),\n",
        "        ('gb', gb),\n",
        "        ('et', et)\n",
        "    ],\n",
        "    voting='soft',  # Soft voting biasanya lebih baik\n",
        "    n_jobs=-1\n",
        ")\n",
        "\n",
        "# Pipeline dengan voting classifier\n",
        "voting_pipeline = Pipeline(steps=[\n",
        "    ('preprocessor', preprocessor),\n",
        "    ('classifier', voting_clf)\n",
        "])\n",
        "\n",
        "# Train voting classifier\n",
        "print(\"Training Voting Ensemble...\")\n",
        "voting_pipeline.fit(X_train, y_train)\n",
        "\n",
        "# Evaluate\n",
        "y_pred_voting = voting_pipeline.predict(X_test)\n",
        "voting_accuracy = accuracy_score(y_test, y_pred_voting)\n",
        "\n",
        "print(f\"Voting Ensemble Test Accuracy: {voting_accuracy:.4f}\")\n",
        "\n",
        "# Pilih model terbaik antara single dan ensemble\n",
        "if voting_accuracy > best_accuracy:\n",
        "    best_model = voting_pipeline\n",
        "    best_accuracy = voting_accuracy\n",
        "    print(\"✅ Voting Ensemble dipilih sebagai model terbaik\")\n",
        "else:\n",
        "    print(\"✅ Single model dipilih sebagai model terbaik\")"
      ],
      "metadata": {
        "colab": {
          "base_uri": "https://localhost:8080/"
        },
        "id": "IGz_B-nwS3sz",
        "outputId": "231f7b57-a618-46c7-843b-882dbeb974ad"
      },
      "execution_count": 5,
      "outputs": [
        {
          "output_type": "stream",
          "name": "stdout",
          "text": [
            "\n",
            "=== BUILDING VOTING ENSEMBLE ===\n",
            "Training Voting Ensemble...\n",
            "Voting Ensemble Test Accuracy: 0.7872\n",
            "✅ Single model dipilih sebagai model terbaik\n"
          ]
        }
      ]
    },
    {
      "cell_type": "code",
      "source": [
        "# Feature selection untuk meningkatkan performance\n",
        "print(\"\\n=== FEATURE SELECTION ===\")\n",
        "\n",
        "# Gunakan Random Forest untuk feature selection\n",
        "feature_selector = SelectFromModel(\n",
        "    RandomForestClassifier(n_estimators=100, random_state=42),\n",
        "    threshold='median'\n",
        ")\n",
        "\n",
        "# Pipeline dengan feature selection\n",
        "final_pipeline = Pipeline(steps=[\n",
        "    ('preprocessor', preprocessor),\n",
        "    ('feature_selector', feature_selector),\n",
        "    ('classifier', best_model.named_steps['classifier'])\n",
        "])\n",
        "\n",
        "# Train final model\n",
        "final_pipeline.fit(X_train, y_train)\n",
        "y_pred_final = final_pipeline.predict(X_test)\n",
        "final_accuracy = accuracy_score(y_test, y_pred_final)\n",
        "\n",
        "print(f\"Final Model Accuracy: {final_accuracy:.4f}\")\n",
        "\n",
        "# Pilih pipeline terbaik\n",
        "if final_accuracy > best_accuracy:\n",
        "    best_model = final_pipeline\n",
        "    best_accuracy = final_accuracy\n",
        "    print(\"✅ Model dengan feature selection lebih baik\")"
      ],
      "metadata": {
        "colab": {
          "base_uri": "https://localhost:8080/"
        },
        "id": "zdxAmZxsS7EG",
        "outputId": "6c8b2b90-1077-4790-fb71-f0c75658a5cd"
      },
      "execution_count": 6,
      "outputs": [
        {
          "output_type": "stream",
          "name": "stdout",
          "text": [
            "\n",
            "=== FEATURE SELECTION ===\n",
            "Final Model Accuracy: 0.8936\n",
            "✅ Model dengan feature selection lebih baik\n"
          ]
        }
      ]
    },
    {
      "cell_type": "code",
      "source": [
        "# Evaluasi final\n",
        "print(\"\\n=== FINAL EVALUATION ===\")\n",
        "\n",
        "# Cross-validation pada full dataset\n",
        "final_cv_scores = cross_val_score(best_model, X_final, y, cv=5, scoring='accuracy')\n",
        "print(f\"Final CV Accuracy: {final_cv_scores.mean():.4f} (+/- {final_cv_scores.std() * 2:.4f})\")\n",
        "\n",
        "# Detailed evaluation\n",
        "y_pred_proba = best_model.predict_proba(X_test)\n",
        "\n",
        "print(f\"\\nFinal Test Accuracy: {best_accuracy:.4f}\")\n",
        "print(\"\\nClassification Report:\")\n",
        "print(classification_report(y_test, y_pred_final))\n",
        "\n",
        "# Confidence scores\n",
        "confidence_scores = np.max(y_pred_proba, axis=1)\n",
        "print(f\"Average confidence: {np.mean(confidence_scores):.4f}\")\n",
        "print(f\"Min confidence: {np.min(confidence_scores):.4f}\")"
      ],
      "metadata": {
        "colab": {
          "base_uri": "https://localhost:8080/"
        },
        "id": "7xkWdHpJS9Xq",
        "outputId": "2b80a2d7-0328-4ee3-b8aa-5ae7edf4e56a"
      },
      "execution_count": 7,
      "outputs": [
        {
          "output_type": "stream",
          "name": "stdout",
          "text": [
            "\n",
            "=== FINAL EVALUATION ===\n",
            "Final CV Accuracy: 0.8784 (+/- 0.0604)\n",
            "\n",
            "Final Test Accuracy: 0.8936\n",
            "\n",
            "Classification Report:\n",
            "              precision    recall  f1-score   support\n",
            "\n",
            "           1       0.87      0.96      0.92        28\n",
            "           2       0.94      0.79      0.86        19\n",
            "\n",
            "    accuracy                           0.89        47\n",
            "   macro avg       0.90      0.88      0.89        47\n",
            "weighted avg       0.90      0.89      0.89        47\n",
            "\n",
            "Average confidence: 0.8002\n",
            "Min confidence: 0.5858\n"
          ]
        }
      ]
    },
    {
      "cell_type": "code",
      "source": [
        "# Simpan model terbaik\n",
        "joblib.dump(best_model, 'model.pkl')\n",
        "\n",
        "# Verifikasi\n",
        "loaded_model = joblib.load('model.pkl')\n",
        "verify_pred = loaded_model.predict(X_test[:3])\n",
        "\n",
        "print(f\"\\n✅ Model berhasil disimpan!\")\n",
        "print(f\"✅ Final Accuracy: {best_accuracy:.4f}\")\n",
        "print(f\"✅ Sample predictions: {verify_pred}\")\n",
        "print(f\"✅ Actual values: {y_test[:3].values}\")\n",
        "\n",
        "# Download model\n",
        "files.download('model.pkl')\n",
        "print(\"📥 Model downloaded sebagai 'model.pkl'\")"
      ],
      "metadata": {
        "colab": {
          "base_uri": "https://localhost:8080/",
          "height": 121
        },
        "id": "cJ8FoDoBTFWe",
        "outputId": "2a411214-cb18-42ba-8464-97757f662fb4"
      },
      "execution_count": 8,
      "outputs": [
        {
          "output_type": "stream",
          "name": "stdout",
          "text": [
            "\n",
            "✅ Model berhasil disimpan!\n",
            "✅ Final Accuracy: 0.8936\n",
            "✅ Sample predictions: [1 2 1]\n",
            "✅ Actual values: [1 2 1]\n"
          ]
        },
        {
          "output_type": "display_data",
          "data": {
            "text/plain": [
              "<IPython.core.display.Javascript object>"
            ],
            "application/javascript": [
              "\n",
              "    async function download(id, filename, size) {\n",
              "      if (!google.colab.kernel.accessAllowed) {\n",
              "        return;\n",
              "      }\n",
              "      const div = document.createElement('div');\n",
              "      const label = document.createElement('label');\n",
              "      label.textContent = `Downloading \"${filename}\": `;\n",
              "      div.appendChild(label);\n",
              "      const progress = document.createElement('progress');\n",
              "      progress.max = size;\n",
              "      div.appendChild(progress);\n",
              "      document.body.appendChild(div);\n",
              "\n",
              "      const buffers = [];\n",
              "      let downloaded = 0;\n",
              "\n",
              "      const channel = await google.colab.kernel.comms.open(id);\n",
              "      // Send a message to notify the kernel that we're ready.\n",
              "      channel.send({})\n",
              "\n",
              "      for await (const message of channel.messages) {\n",
              "        // Send a message to notify the kernel that we're ready.\n",
              "        channel.send({})\n",
              "        if (message.buffers) {\n",
              "          for (const buffer of message.buffers) {\n",
              "            buffers.push(buffer);\n",
              "            downloaded += buffer.byteLength;\n",
              "            progress.value = downloaded;\n",
              "          }\n",
              "        }\n",
              "      }\n",
              "      const blob = new Blob(buffers, {type: 'application/binary'});\n",
              "      const a = document.createElement('a');\n",
              "      a.href = window.URL.createObjectURL(blob);\n",
              "      a.download = filename;\n",
              "      div.appendChild(a);\n",
              "      a.click();\n",
              "      div.remove();\n",
              "    }\n",
              "  "
            ]
          },
          "metadata": {}
        },
        {
          "output_type": "display_data",
          "data": {
            "text/plain": [
              "<IPython.core.display.Javascript object>"
            ],
            "application/javascript": [
              "download(\"download_95496447-bdfe-4d11-98c2-dc2e8a630eb4\", \"model.pkl\", 3326907)"
            ]
          },
          "metadata": {}
        },
        {
          "output_type": "stream",
          "name": "stdout",
          "text": [
            "📥 Model downloaded sebagai 'model.pkl'\n"
          ]
        }
      ]
    },
    {
      "cell_type": "code",
      "source": [
        "# Strategy 1: Stacking Classifier\n",
        "from sklearn.ensemble import StackingClassifier\n",
        "from sklearn.linear_model import LogisticRegression\n",
        "\n",
        "# Stacking classifier\n",
        "estimators = [\n",
        "    ('rf', RandomForestClassifier(n_estimators=300, random_state=42)),\n",
        "    ('gb', GradientBoostingClassifier(n_estimators=200, random_state=42)),\n",
        "    ('et', ExtraTreesClassifier(n_estimators=300, random_state=42))\n",
        "]\n",
        "\n",
        "stacking_clf = StackingClassifier(\n",
        "    estimators=estimators,\n",
        "    final_estimator=LogisticRegression(C=0.1, random_state=42),\n",
        "    cv=5\n",
        ")\n",
        "\n",
        "stacking_pipeline = Pipeline([\n",
        "    ('preprocessor', preprocessor),\n",
        "    ('classifier', stacking_clf)\n",
        "])\n",
        "\n",
        "stacking_pipeline.fit(X_train, y_train)\n",
        "stacking_accuracy = accuracy_score(y_test, stacking_pipeline.predict(X_test))\n",
        "print(f\"Stacking Classifier Accuracy: {stacking_accuracy:.4f}\")\n",
        "\n",
        "if stacking_accuracy > best_accuracy:\n",
        "    best_model = stacking_pipeline\n",
        "    best_accuracy = stacking_accuracy\n",
        "    joblib.dump(best_model, 'model.pkl')\n",
        "    files.download('model.pkl')"
      ],
      "metadata": {
        "colab": {
          "base_uri": "https://localhost:8080/"
        },
        "id": "2SmTMl2FTIOq",
        "outputId": "f4e54704-8796-4d65-ed16-168f68ce59d9"
      },
      "execution_count": 9,
      "outputs": [
        {
          "output_type": "stream",
          "name": "stdout",
          "text": [
            "Stacking Classifier Accuracy: 0.8298\n"
          ]
        }
      ]
    }
  ]
}