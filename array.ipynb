{
  "nbformat": 4,
  "nbformat_minor": 0,
  "metadata": {
    "colab": {
      "provenance": [],
      "authorship_tag": "ABX9TyM4YHN+oMfi0gEio5aYs+F5",
      "include_colab_link": true
    },
    "kernelspec": {
      "name": "python3",
      "display_name": "Python 3"
    },
    "language_info": {
      "name": "python"
    }
  },
  "cells": [
    {
      "cell_type": "markdown",
      "metadata": {
        "id": "view-in-github",
        "colab_type": "text"
      },
      "source": [
        "<a href=\"https://colab.research.google.com/github/Prdazk/collabku/blob/main/array.ipynb\" target=\"_parent\"><img src=\"https://colab.research.google.com/assets/colab-badge.svg\" alt=\"Open In Colab\"/></a>"
      ]
    },
    {
      "cell_type": "code",
      "execution_count": 2,
      "metadata": {
        "colab": {
          "base_uri": "https://localhost:8080/"
        },
        "id": "eQzHgqCimKd6",
        "outputId": "162cbe0b-ba2b-43fe-814d-7a4c1085228f"
      },
      "outputs": [
        {
          "output_type": "stream",
          "name": "stdout",
          "text": [
            "Array: [1 2 3]\n",
            "\n",
            "Zeros:\n",
            " [[0. 0. 0.]\n",
            " [0. 0. 0.]\n",
            " [0. 0. 0.]]\n",
            "\n",
            "Ones:\n",
            " [[1. 1. 1. 1.]\n",
            " [1. 1. 1. 1.]]\n",
            "\n",
            "Empty:\n",
            " [[3.00805015e-315 0.00000000e+000]\n",
            " [6.86135610e-310 5.76244178e-317]]\n",
            "\n",
            "Arange: [0 2 4 6 8]\n",
            "\n",
            "Linspace: [0.   0.25 0.5  0.75 1.  ]\n"
          ]
        }
      ],
      "source": [
        "import numpy as np\n",
        "\n",
        "# Dari list\n",
        "a = np.array([1, 2, 3])\n",
        "print(\"Array:\", a)\n",
        "\n",
        "# Array dengan nol\n",
        "b = np.zeros((3, 3))\n",
        "print(\"\\nZeros:\\n\", b)\n",
        "\n",
        "# Array dengan satu\n",
        "c = np.ones((2, 4))\n",
        "print(\"\\nOnes:\\n\", c)\n",
        "\n",
        "# Array kosong (nilainya acak dari memori)\n",
        "d = np.empty((2, 2))\n",
        "print(\"\\nEmpty:\\n\", d)\n",
        "\n",
        "# Range mirip range() di Python\n",
        "e = np.arange(0, 10, 2)\n",
        "print(\"\\nArange:\", e)\n",
        "\n",
        "# Linspace (bagi rata rentang angka)\n",
        "f = np.linspace(0, 1, 5)\n",
        "print(\"\\nLinspace:\", f)\n"
      ]
    }
  ]
}