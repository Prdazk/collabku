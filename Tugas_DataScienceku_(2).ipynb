{
  "cells": [
    {
      "cell_type": "markdown",
      "metadata": {
        "id": "view-in-github",
        "colab_type": "text"
      },
      "source": [
        "<a href=\"https://colab.research.google.com/github/Prdazk/collabku/blob/main/Tugas_DataScienceku_(2).ipynb\" target=\"_parent\"><img src=\"https://colab.research.google.com/assets/colab-badge.svg\" alt=\"Open In Colab\"/></a>"
      ]
    },
    {
      "cell_type": "code",
      "execution_count": null,
      "metadata": {
        "colab": {
          "base_uri": "https://localhost:8080/"
        },
        "id": "tkbi4TpPp55i",
        "outputId": "abb84105-d439-4298-e518-d85ea69de83d"
      },
      "outputs": [
        {
          "name": "stdout",
          "output_type": "stream",
          "text": [
            "Mounted at /content/drive\n",
            "Folder sudah ada, tidak perlu extract lagi\n"
          ]
        }
      ],
      "source": [
        "from google.colab import drive\n",
        "import zipfile, os\n",
        "\n",
        "# Mount Google Drive\n",
        "drive.mount('/content/drive')\n",
        "\n",
        "zip_path = \"/content/sample_data/daily+and+sports+activities (1).zip\"\n",
        "extract_path = \"/content/drive/MyDrive/datasetku\"\n",
        "\n",
        "# Hanya extract kalau folder belum ada\n",
        "if not os.path.exists(extract_path):\n",
        "    with zipfile.ZipFile(zip_path, 'r') as zip_ref:\n",
        "        zip_ref.extractall(extract_path)\n",
        "    print(\"File diextract ke Drive\")\n",
        "else:\n",
        "    print(\"Folder sudah ada, tidak perlu extract lagi\")\n"
      ]
    },
    {
      "cell_type": "code",
      "execution_count": null,
      "metadata": {
        "colab": {
          "base_uri": "https://localhost:8080/"
        },
        "id": "ev5VN3RJtX8b",
        "outputId": "c348ff36-a788-41fa-d528-62d1e88b12da"
      },
      "outputs": [
        {
          "name": "stdout",
          "output_type": "stream",
          "text": [
            "['data']\n"
          ]
        }
      ],
      "source": [
        "import os\n",
        "\n",
        "extract_path = \"/content/drive/MyDrive/datasetku\"\n",
        "print(os.listdir(extract_path))\n"
      ]
    },
    {
      "cell_type": "code",
      "execution_count": null,
      "metadata": {
        "colab": {
          "base_uri": "https://localhost:8080/"
        },
        "id": "wMLAnvsntpRU",
        "outputId": "8a469cff-effb-4bda-c30b-fb1df5b3bfae"
      },
      "outputs": [
        {
          "name": "stdout",
          "output_type": "stream",
          "text": [
            "['a01', 'a02', 'a03', 'a04', 'a05', 'a06', 'a07', 'a08', 'a09', 'a10', 'a11', 'a12', 'a13', 'a14', 'a15', 'a16', 'a17', 'a18', 'a19']\n"
          ]
        }
      ],
      "source": [
        "#data apa yang ingin di prediksi?\n",
        "import os\n",
        "\n",
        "data_path = \"/content/drive/MyDrive/datasetku/data\"\n",
        "print(os.listdir(data_path))\n"
      ]
    },
    {
      "cell_type": "code",
      "execution_count": null,
      "metadata": {
        "colab": {
          "base_uri": "https://localhost:8080/"
        },
        "id": "0ku2mf4_tt8A",
        "outputId": "0498d44e-8fa2-4b1a-8a8c-407f8e8fd10c"
      },
      "outputs": [
        {
          "name": "stdout",
          "output_type": "stream",
          "text": [
            "['p1', 'p2', 'p3', 'p4', 'p5', 'p6', 'p7', 'p8']\n"
          ]
        }
      ],
      "source": [
        "#data apa yang kita punya?\n",
        "import os\n",
        "\n",
        "sub_path = \"/content/drive/MyDrive/datasetku/data/a01\"\n",
        "print(os.listdir(sub_path))\n"
      ]
    },
    {
      "cell_type": "code",
      "execution_count": null,
      "metadata": {
        "colab": {
          "base_uri": "https://localhost:8080/"
        },
        "id": "1oLVDlsttzRf",
        "outputId": "6d2366c7-6ace-482b-c3a4-ceb856fbd163"
      },
      "outputs": [
        {
          "name": "stdout",
          "output_type": "stream",
          "text": [
            "['s01.txt', 's02.txt', 's03.txt', 's04.txt', 's05.txt', 's06.txt', 's07.txt', 's08.txt', 's09.txt', 's10.txt', 's11.txt', 's12.txt', 's13.txt', 's14.txt', 's15.txt', 's16.txt', 's17.txt', 's18.txt', 's19.txt', 's20.txt', 's21.txt', 's22.txt', 's23.txt', 's24.txt', 's25.txt', 's26.txt', 's27.txt', 's28.txt', 's29.txt', 's30.txt', 's31.txt', 's32.txt', 's33.txt', 's34.txt', 's35.txt', 's36.txt', 's37.txt', 's38.txt', 's39.txt', 's40.txt', 's41.txt', 's42.txt', 's43.txt', 's44.txt', 's45.txt', 's46.txt', 's47.txt', 's48.txt', 's49.txt', 's50.txt', 's51.txt', 's52.txt', 's53.txt', 's54.txt', 's55.txt', 's56.txt', 's57.txt', 's58.txt', 's59.txt', 's60.txt']\n"
          ]
        }
      ],
      "source": [
        "#How would we evaluate success?\n",
        "import os\n",
        "\n",
        "deep_path = \"/content/drive/MyDrive/datasetku/data/a01/p1\"\n",
        "print(os.listdir(deep_path))\n"
      ]
    },
    {
      "cell_type": "code",
      "execution_count": null,
      "metadata": {
        "colab": {
          "base_uri": "https://localhost:8080/"
        },
        "id": "h41KP2I4njw_",
        "outputId": "35cb07ab-d2e1-4218-e463-053c869892e6"
      },
      "outputs": [
        {
          "name": "stdout",
          "output_type": "stream",
          "text": [
            "Total jumlah data (N) = 9120\n"
          ]
        }
      ],
      "source": [
        "#berapa banyak data yang memiliki nilai (N=?)\n",
        "import os\n",
        "\n",
        "data_path = \"/content/drive/MyDrive/datasetku/data\"\n",
        "total_files = sum(len(files) for _, _, files in os.walk(data_path))\n",
        "\n",
        "print(f\"Total jumlah data (N) = {total_files}\")\n"
      ]
    },
    {
      "cell_type": "code",
      "execution_count": null,
      "metadata": {
        "colab": {
          "base_uri": "https://localhost:8080/"
        },
        "id": "rXIaXSgxpSlp",
        "outputId": "ac69abd1-4752-4755-c0ca-b779170aefdc"
      },
      "outputs": [
        {
          "name": "stdout",
          "output_type": "stream",
          "text": [
            "Jumlah fitur: 45\n",
            "Nama kolom fitur: [0, 1, 2, 3, 4, 5, 6, 7, 8, 9, 10, 11, 12, 13, 14, 15, 16, 17, 18, 19, 20, 21, 22, 23, 24, 25, 26, 27, 28, 29, 30, 31, 32, 33, 34, 35, 36, 37, 38, 39, 40, 41, 42, 43, 44]\n"
          ]
        }
      ],
      "source": [
        "#Apa saja fiturnya?\n",
        "import pandas as pd\n",
        "\n",
        "file_path = \"/content/drive/MyDrive/datasetku/data/a01/p1/s01.txt\"\n",
        "df = pd.read_csv(file_path, sep=\",\", header=None)\n",
        "\n",
        "print(\"Jumlah fitur:\", df.shape[1])\n",
        "print(\"Nama kolom fitur:\", df.columns.tolist())\n",
        "\n"
      ]
    },
    {
      "cell_type": "code",
      "execution_count": null,
      "metadata": {
        "colab": {
          "base_uri": "https://localhost:8080/"
        },
        "id": "U4g73cjHrGaK",
        "outputId": "1da49ba4-f3d4-4040-89ac-0fdf85a5b3ff"
      },
      "outputs": [
        {
          "name": "stdout",
          "output_type": "stream",
          "text": [
            "Semua data numerik?: True\n",
            "[dtype('float64')]\n"
          ]
        }
      ],
      "source": [
        "#Apakah semuanya berupa data numerik?\n",
        "import pandas as pd\n",
        "\n",
        "file_path = \"/content/drive/MyDrive/datasetku/data/a01/p1/s01.txt\"\n",
        "df = pd.read_csv(file_path, sep=\",\", header=None)\n",
        "\n",
        "# Mengecek apakah semua kolom numerik\n",
        "print(\"Semua data numerik?:\", df.dtypes.apply(lambda x: x.kind in 'if').all())\n",
        "print(df.dtypes.unique())\n",
        "\n"
      ]
    },
    {
      "cell_type": "code",
      "execution_count": null,
      "metadata": {
        "colab": {
          "base_uri": "https://localhost:8080/"
        },
        "id": "7t65qeQesYf9",
        "outputId": "d21e6968-c783-4d67-9e86-8db08d95f5cb"
      },
      "outputs": [
        {
          "name": "stdout",
          "output_type": "stream",
          "text": [
            "Total missing values: 0\n",
            "Apakah ada missing values?: False\n"
          ]
        }
      ],
      "source": [
        "#Apakah ada nilai yang hilang (missing values)?\n",
        "import pandas as pd\n",
        "\n",
        "file_path = \"/content/drive/MyDrive/datasetku/data/a01/p1/s01.txt\"\n",
        "df = pd.read_csv(file_path, sep=\",\", header=None)\n",
        "\n",
        "# Mengecek apakah ada nilai yang hilang\n",
        "print(\"Total missing values:\", df.isnull().sum().sum())\n",
        "print(\"Apakah ada missing values?:\", df.isnull().values.any())\n"
      ]
    },
    {
      "cell_type": "code",
      "execution_count": null,
      "metadata": {
        "colab": {
          "base_uri": "https://localhost:8080/"
        },
        "id": "kqDIpghks_07",
        "outputId": "16de9053-7333-407e-b88c-d2f7fc59e54e"
      },
      "outputs": [
        {
          "name": "stdout",
          "output_type": "stream",
          "text": [
            "Label aktivitas yang tersedia:\n",
            "['a01', 'a02', 'a03', 'a04', 'a05', 'a06', 'a07', 'a08', 'a09', 'a10', 'a11', 'a12', 'a13', 'a14', 'a15', 'a16', 'a17', 'a18', 'a19']\n",
            "Jumlah label aktivitas: 19\n"
          ]
        }
      ],
      "source": [
        "#Apa saja labelnya (apakah ada label)?\n",
        "import os\n",
        "\n",
        "data_path = \"/content/drive/MyDrive/datasetku/data\"\n",
        "labels = sorted(os.listdir(data_path))\n",
        "print(\"Label aktivitas yang tersedia:\")\n",
        "print(labels)\n",
        "print(\"Jumlah label aktivitas:\", len(labels))\n"
      ]
    },
    {
      "cell_type": "code",
      "execution_count": null,
      "metadata": {
        "colab": {
          "base_uri": "https://localhost:8080/"
        },
        "id": "IwD7fSHItgle",
        "outputId": "c1e82f89-6b93-441a-c164-948e10ab449e"
      },
      "outputs": [
        {
          "name": "stdout",
          "output_type": "stream",
          "text": [
            "Daftar label: ['a01', 'a02', 'a03', 'a04', 'a05', 'a06', 'a07', 'a08', 'a09', 'a10', 'a11', 'a12', 'a13', 'a14', 'a15', 'a16', 'a17', 'a18', 'a19']\n",
            "Jumlah kelas unik: 19\n",
            "Tipe label: Diskrit (kategorikal)\n"
          ]
        }
      ],
      "source": [
        "#Apakah label tersebut bersifat diskrit?\n",
        "import os\n",
        "\n",
        "data_path = \"/content/drive/MyDrive/datasetku/data\"\n",
        "labels = sorted(os.listdir(data_path))\n",
        "\n",
        "print(\"Daftar label:\", labels)\n",
        "print(\"Jumlah kelas unik:\", len(labels))\n",
        "print(\"Tipe label: Diskrit (kategorikal)\")\n"
      ]
    },
    {
      "cell_type": "code",
      "execution_count": null,
      "metadata": {
        "colab": {
          "base_uri": "https://localhost:8080/"
        },
        "id": "ubF8tP3EucYR",
        "outputId": "e9803c5f-5975-47fb-a026-22c42c7cc413"
      },
      "outputs": [
        {
          "name": "stdout",
          "output_type": "stream",
          "text": [
            "   Label  Jumlah_Sampel\n",
            "0    a01              8\n",
            "1    a02              8\n",
            "2    a03              8\n",
            "3    a04              8\n",
            "4    a05              8\n",
            "5    a06              8\n",
            "6    a07              8\n",
            "7    a08              8\n",
            "8    a09              8\n",
            "9    a10              8\n",
            "10   a11              8\n",
            "11   a12              8\n",
            "12   a13              8\n",
            "13   a14              8\n",
            "14   a15              8\n",
            "15   a16              8\n",
            "16   a17              8\n",
            "17   a18              8\n",
            "18   a19              8\n"
          ]
        }
      ],
      "source": [
        "#Bagaimana distribusi labelnya?\n",
        "import os\n",
        "import pandas as pd\n",
        "\n",
        "data_path = \"/content/drive/MyDrive/datasetku/data\"\n",
        "\n",
        "# Hitung jumlah file di setiap label aktivitas\n",
        "label_counts = {label: len(os.listdir(os.path.join(data_path, label))) for label in sorted(os.listdir(data_path))}\n",
        "\n",
        "# Ubah ke DataFrame biar tampil seperti tabel\n",
        "df_label = pd.DataFrame(list(label_counts.items()), columns=[\"Label\", \"Jumlah_Sampel\"])\n",
        "\n",
        "print(df_label)\n",
        "\n"
      ]
    },
    {
      "cell_type": "code",
      "execution_count": null,
      "metadata": {
        "colab": {
          "base_uri": "https://localhost:8080/"
        },
        "id": "xPRdDzNCwyk5",
        "outputId": "0ee7b10a-4399-47f6-ab64-9a642deb487e"
      },
      "outputs": [
        {
          "name": "stdout",
          "output_type": "stream",
          "text": [
            "   Label  Jumlah_Sampel\n",
            "0    a01              8\n",
            "1    a02              8\n",
            "2    a03              8\n",
            "3    a04              8\n",
            "4    a05              8\n",
            "5    a06              8\n",
            "6    a07              8\n",
            "7    a08              8\n",
            "8    a09              8\n",
            "9    a10              8\n",
            "10   a11              8\n",
            "11   a12              8\n",
            "12   a13              8\n",
            "13   a14              8\n",
            "14   a15              8\n",
            "15   a16              8\n",
            "16   a17              8\n",
            "17   a18              8\n",
            "18   a19              8\n",
            "\n",
            "Ada label yang hilang?: False\n"
          ]
        }
      ],
      "source": [
        "#Apakah ada label yang hilang atau kesalahan pada label?\n",
        "import os\n",
        "import pandas as pd\n",
        "\n",
        "# Path utama dataset\n",
        "base_path = \"/content/drive/MyDrive/datasetku/data\"\n",
        "\n",
        "# Ambil semua folder aktivitas (label)\n",
        "labels = sorted(os.listdir(base_path))\n",
        "\n",
        "# Cek jumlah file dalam tiap label\n",
        "data = []\n",
        "for label in labels:\n",
        "    count = len(os.listdir(os.path.join(base_path, label)))\n",
        "    data.append((label, count))\n",
        "\n",
        "df_label = pd.DataFrame(data, columns=[\"Label\", \"Jumlah_Sampel\"])\n",
        "\n",
        "# Cek apakah ada label kosong atau tidak sesuai\n",
        "missing_labels = df_label[df_label[\"Jumlah_Sampel\"] == 0]\n",
        "\n",
        "print(df_label)\n",
        "print(\"\\nAda label yang hilang?:\", not missing_labels.empty)\n"
      ]
    },
    {
      "cell_type": "code",
      "execution_count": null,
      "metadata": {
        "colab": {
          "base_uri": "https://localhost:8080/",
          "height": 854
        },
        "id": "nQPeuKwSx5lO",
        "outputId": "d007f1d2-14b8-4d4f-a9d6-f196cedfd5b7"
      },
      "outputs": [
        {
          "name": "stdout",
          "output_type": "stream",
          "text": [
            "       0       1       2         3         4         5        6         7   \\\n",
            "0  8.1305  1.0349  5.4217 -0.009461  0.001915 -0.003424 -0.78712 -0.069654   \n",
            "1  8.1305  1.0202  5.3843 -0.009368  0.023485  0.001953 -0.78717 -0.068275   \n",
            "2  8.1604  1.0201  5.3622  0.015046  0.014330  0.000204 -0.78664 -0.068277   \n",
            "3  8.1603  1.0052  5.3770  0.006892  0.018045  0.005649 -0.78529 -0.069849   \n",
            "4  8.1605  1.0275  5.3473  0.008811  0.030433 -0.005346 -0.78742 -0.068796   \n",
            "\n",
            "        8        9   ...        35      36      37      38        39  \\\n",
            "0  0.15730  0.70097  ... -0.036453 -2.8071 -9.0812  2.6220 -0.000232   \n",
            "1  0.15890  0.71829  ... -0.034005 -2.8146 -9.0737  2.6218 -0.014784   \n",
            "2  0.15879  0.69849  ... -0.036489 -2.8221 -9.0886  2.6366 -0.012770   \n",
            "3  0.15912  0.72799  ... -0.036151 -2.8071 -9.0811  2.6070 -0.005725   \n",
            "4  0.15916  0.71572  ... -0.033807 -2.8146 -9.0737  2.6218 -0.003929   \n",
            "\n",
            "         40        41       42       43        44  \n",
            "0 -0.012092 -0.004457  0.74017  0.30053 -0.057730  \n",
            "1 -0.016477  0.002789  0.73937  0.30183 -0.057514  \n",
            "2  0.005717 -0.007918  0.73955  0.30052 -0.057219  \n",
            "3  0.009620  0.006555  0.74029  0.30184 -0.057750  \n",
            "4 -0.008371  0.002816  0.73845  0.30090 -0.057527  \n",
            "\n",
            "[5 rows x 45 columns]\n"
          ]
        },
        {
          "data": {
            "image/png": "[encoded data removed]",
            "text/plain": [
              "<Figure size 640x480 with 1 Axes>"
            ]
          },
          "metadata": {},
          "output_type": "display_data"
        }
      ],
      "source": [
        "# Perhatikan data dengan seksama!! (contoh data, baca data, buat grafik, dll)\n",
        "# Learning Setting ???\n",
        "import pandas as pd\n",
        "import matplotlib.pyplot as plt\n",
        "\n",
        "# Baca satu file contoh\n",
        "file_path = \"/content/drive/MyDrive/datasetku/data/a01/p1/s01.txt\"\n",
        "df = pd.read_csv(file_path, sep=\",\", header=None)\n",
        "\n",
        "# Lihat 5 baris pertama\n",
        "print(df.head())\n",
        "\n",
        "# Plot 3 fitur pertama untuk gambaran sinyal\n",
        "df.iloc[:, :3].plot(title=\"Contoh Sinyal Sensor (3 Fitur Pertama)\")\n",
        "plt.xlabel(\"Waktu\")\n",
        "plt.ylabel(\"Nilai Sensor\")\n",
        "plt.show()\n"
      ]
    },
    {
      "cell_type": "code",
      "execution_count": null,
      "metadata": {
        "colab": {
          "base_uri": "https://localhost:8080/"
        },
        "id": "Kv1jRoJCzSR4",
        "outputId": "b649b25a-2e41-4762-ae40-c2bce6c05d87"
      },
      "outputs": [
        {
          "name": "stdout",
          "output_type": "stream",
          "text": [
            "Jumlah data latih: 100\n",
            "Jumlah data uji: 25\n"
          ]
        }
      ],
      "source": [
        "#Train-Test Split\n",
        "from sklearn.model_selection import train_test_split\n",
        "import pandas as pd\n",
        "\n",
        "file_path = \"/content/drive/MyDrive/datasetku/data/a01/p1/s01.txt\"\n",
        "df = pd.read_csv(file_path, sep=\",\", header=None)\n",
        "\n",
        "# Karena data ini berasal dari aktivitas a01, maka labelnya adalah 'a01'\n",
        "X = df.values\n",
        "y = [\"a01\"] * len(df)\n",
        "\n",
        "# Membagi data menjadi 80% data latih dan 20% data uji\n",
        "X_train, X_test, y_train, y_test = train_test_split(\n",
        "    X, y, test_size=0.2, random_state=42\n",
        ")\n",
        "\n",
        "print(\"Jumlah data latih:\", len(X_train))\n",
        "print(\"Jumlah data uji:\", len(X_test))\n",
        "\n"
      ]
    },
    {
      "cell_type": "code",
      "execution_count": null,
      "metadata": {
        "colab": {
          "base_uri": "https://localhost:8080/"
        },
        "id": "p4Yv8jb30a_b",
        "outputId": "daa69f05-7cbd-4680-ff2d-25ba046f039e"
      },
      "outputs": [
        {
          "name": "stdout",
          "output_type": "stream",
          "text": [
            "=== INFORMASI FITUR ===\n",
            "Jumlah fitur yang digunakan: 45 kolom\n",
            "\n",
            "Daftar kolom fitur (20 pertama):\n",
            "Fitur ke-0: Kolom 0\n",
            "Fitur ke-1: Kolom 1\n",
            "Fitur ke-2: Kolom 2\n",
            "Fitur ke-3: Kolom 3\n",
            "Fitur ke-4: Kolom 4\n",
            "Fitur ke-5: Kolom 5\n",
            "Fitur ke-6: Kolom 6\n",
            "Fitur ke-7: Kolom 7\n",
            "Fitur ke-8: Kolom 8\n",
            "Fitur ke-9: Kolom 9\n",
            "Fitur ke-10: Kolom 10\n",
            "Fitur ke-11: Kolom 11\n",
            "Fitur ke-12: Kolom 12\n",
            "Fitur ke-13: Kolom 13\n",
            "Fitur ke-14: Kolom 14\n",
            "Fitur ke-15: Kolom 15\n",
            "Fitur ke-16: Kolom 16\n",
            "Fitur ke-17: Kolom 17\n",
            "Fitur ke-18: Kolom 18\n",
            "Fitur ke-19: Kolom 19\n",
            "\n",
            "Tipe data tiap fitur:\n",
            "[dtype('float64')]\n"
          ]
        }
      ],
      "source": [
        "# === MODEL DESIGN ===\n",
        "# Feature Engineering\n",
        "# Deskripsikan fitur apa saja yang digunakan\n",
        "\n",
        "import pandas as pd\n",
        "\n",
        "# Membaca salah satu file data aktivitas (contoh: aktivitas a01)\n",
        "file_path = \"/content/drive/MyDrive/datasetku/data/a01/p1/s01.txt\"\n",
        "\n",
        "# Membaca dataset tanpa header karena setiap kolom mewakili fitur sensor\n",
        "df = pd.read_csv(file_path, sep=\",\", header=None)\n",
        "\n",
        "# Menampilkan informasi umum fitur\n",
        "print(\"=== INFORMASI FITUR ===\")\n",
        "print(f\"Jumlah fitur yang digunakan: {df.shape[1]} kolom\")\n",
        "\n",
        "# Menampilkan nama kolom fitur (hanya sebagian agar tidak terlalu panjang)\n",
        "print(\"\\nDaftar kolom fitur (20 pertama):\")\n",
        "for i in range(min(20, len(df.columns))):\n",
        "    print(f\"Fitur ke-{i}: Kolom {i}\")\n",
        "\n",
        "# Cek tipe data tiap fitur untuk memastikan semuanya numerik\n",
        "print(\"\\nTipe data tiap fitur:\")\n",
        "print(df.dtypes.unique())\n",
        "\n",
        "\n",
        "\n"
      ]
    },
    {
      "cell_type": "code",
      "execution_count": null,
      "metadata": {
        "colab": {
          "base_uri": "https://localhost:8080/"
        },
        "id": "gu3AXZf921Rt",
        "outputId": "7851a87c-ffa8-4c08-80b8-9e5ae24fd21c"
      },
      "outputs": [
        {
          "name": "stdout",
          "output_type": "stream",
          "text": [
            "=== TRANSFORMASI FITUR ===\n",
            "Proses: Standarisasi (StandardScaler)\n",
            "Setiap fitur diubah agar memiliki rata-rata = 0 dan standar deviasi = 1.\n",
            "Contoh hasil transformasi (5 baris pertama):\n",
            "[[ 1.29527940e+00 -1.03101225e+00 -1.02682576e+00 -9.24572216e-01\n",
            "  -6.69949342e-01  3.83346209e-02  1.26174028e+00 -6.67103112e-01\n",
            "   1.35093921e+00  5.57525960e-01 -4.93019762e-01  1.27409896e+00\n",
            "  -9.07694827e-01 -5.58981230e-01  2.13457937e-01 -4.83745048e-01\n",
            "   7.52788664e-01 -1.70039532e-01  4.03303308e-01  9.97849432e-01\n",
            "   4.61921725e-01 -2.20278302e-02 -8.13969829e-01 -9.22253665e-01\n",
            "   1.72663935e-01 -2.28110880e-01  6.70364194e-01  9.63678051e-01\n",
            "  -1.10913281e+00  7.45502421e-02  5.51734052e-01  2.31180854e-02\n",
            "  -1.25768433e+00 -4.63726001e-01 -1.78436920e+00 -5.22376821e-01\n",
            "   3.90295232e-01  2.99516904e-01  2.02629358e-01  6.31830823e-01\n",
            "  -1.95822552e+00 -1.84812796e-01  6.55728517e-01 -9.94514398e-01\n",
            "  -7.45377572e-01]\n",
            " [ 1.29527940e+00 -1.34512063e+00 -1.23424693e+00 -9.18583617e-01\n",
            "  -7.29979899e-02  7.19947729e-01  1.24424566e+00  1.23452852e-01\n",
            "   1.45192891e+00  9.99742643e-01 -1.83874748e+00  1.03993780e+00\n",
            "  -1.96748250e-03 -5.62752379e-01 -9.33303838e-03 -5.12622558e-01\n",
            "   1.41115104e+00 -3.34900318e-01  7.74227692e-01  1.43706605e-01\n",
            "   7.06394867e-02 -7.75785847e-01 -1.79493989e-01  3.00758281e-01\n",
            "  -5.49560331e-01  3.48823253e-01  1.36196408e+00 -1.39844646e-01\n",
            "   1.64692322e+00  5.31207211e-02  1.80216335e+00 -5.66216771e-01\n",
            "  -1.02219027e+00  1.90610244e+00 -2.41290093e-01  1.76602717e+00\n",
            "   1.17500427e-02  8.70939568e-01  1.91944410e-01 -1.28219263e+00\n",
            "  -2.56046511e+00  8.43583917e-01 -2.88989128e-01  6.54216368e-01\n",
            "  -4.81972587e-01]\n",
            " [ 1.54548907e+00 -1.34725742e+00 -1.35681399e+00  6.53520236e-01\n",
            "  -3.26363295e-01  4.98236491e-01  1.42968867e+00  1.22306288e-01\n",
            "   1.44498587e+00  4.94206250e-01 -8.47416503e-01  7.02745735e-01\n",
            "   8.82694092e-01 -1.26041491e+00  1.78891696e+00 -5.82753654e-01\n",
            "   1.10411208e+00 -3.36412803e-01  6.50586231e-01  3.74418773e-04\n",
            "   1.02710718e+00  4.13152676e-01 -8.01493094e-01 -5.14160081e-01\n",
            "  -3.71621019e-01 -4.33366293e-01  4.63304654e-01 -1.34961802e-01\n",
            "   2.64286416e-01  3.81998267e-01 -1.29227624e+00  3.21523957e-01\n",
            "  -5.36135957e-01 -1.36350043e+00 -3.95598004e-01 -5.56029821e-01\n",
            "  -3.66795146e-01 -2.64286792e-01  9.82630578e-01 -1.01729137e+00\n",
            "   4.87677556e-01 -6.76019119e-01 -7.64276575e-02 -1.00719694e+00\n",
            "  -1.22229669e-01]\n",
            " [ 1.54465225e+00 -1.66563938e+00 -1.27473289e+00  1.28455322e-01\n",
            "  -2.23550394e-01  1.18846959e+00  1.90204352e+00 -7.78893114e-01\n",
            "   1.46581500e+00  1.24740441e+00 -1.20507957e+00  1.15935999e+00\n",
            "   3.58670448e-01  3.95658161e-01  6.31265838e-01 -4.85387491e+00\n",
            "  -1.98103896e+00 -5.15670019e+00  1.01898732e+00  1.42199570e+00\n",
            "  -1.02060320e+00  4.10350908e-01  3.44625611e-01 -4.08387946e-01\n",
            "  -5.80961386e-01 -2.89132760e-01  9.82530098e-01 -1.34961802e-01\n",
            "  -4.27031985e-01 -2.74007476e-01  6.50130648e-02  2.55731823e-02\n",
            "   1.79711693e-01  7.40197536e-01  4.70900264e-01 -2.40065544e-01\n",
            "   3.90295232e-01  3.07135873e-01 -5.98741758e-01 -9.06630507e-02\n",
            "   1.02371887e+00  1.37807771e+00  7.97436164e-01  6.66898912e-01\n",
            "  -7.69766922e-01]\n",
            " [ 1.54632590e+00 -1.18913483e+00 -1.43944970e+00  2.52026523e-01\n",
            "   1.19288426e-01 -2.05306888e-01  1.15677254e+00 -1.75227102e-01\n",
            "   1.46833974e+00  9.34125041e-01 -1.12668767e+00  1.04462103e+00\n",
            "  -1.26954228e+00 -3.15876814e-01  6.43596558e-01  9.51802733e-02\n",
            "   5.07747959e-01 -4.07499564e-01  1.14262878e+00  1.40781459e-01\n",
            "  -2.38038723e-01 -6.29269858e-01  3.49364836e-01  3.02719160e-01\n",
            "  -1.29271863e+00 -1.39351783e-01  1.75190869e+00  2.26368638e-01\n",
            "   1.64692322e+00  5.96807785e-02 -1.32982513e+00 -1.15153420e+00\n",
            "   1.12847451e+00  1.69917966e-01 -2.29420254e-01  1.95111867e+00\n",
            "   1.17500427e-02  8.70939568e-01  1.91944410e-01  1.45564693e-01\n",
            "  -1.44718024e+00  8.47415922e-01 -1.37541442e+00 -5.25260257e-01\n",
            "  -4.97825665e-01]]\n"
          ]
        }
      ],
      "source": [
        "# Jelaskan proses transformasi fitur (misal: normalisasi, standarisasi, encoding, ekstraksi fitur baru).\n",
        "\n",
        "from sklearn.preprocessing import StandardScaler\n",
        "import pandas as pd\n",
        "\n",
        "# Baca data\n",
        "file_path = \"/content/drive/MyDrive/datasetku/data/a01/p1/s01.txt\"\n",
        "df = pd.read_csv(file_path, sep=\",\", header=None)\n",
        "\n",
        "# Standarisasi fitur\n",
        "scaler = StandardScaler()\n",
        "data_scaled = scaler.fit_transform(df)\n",
        "\n",
        "print(\"=== TRANSFORMASI FITUR ===\")\n",
        "print(\"Proses: Standarisasi (StandardScaler)\")\n",
        "print(\"Setiap fitur diubah agar memiliki rata-rata = 0 dan standar deviasi = 1.\")\n",
        "print(\"Contoh hasil transformasi (5 baris pertama):\")\n",
        "print(data_scaled[:5])\n"
      ]
    },
    {
      "cell_type": "code",
      "execution_count": null,
      "metadata": {
        "colab": {
          "base_uri": "https://localhost:8080/"
        },
        "id": "AkzQSqQl3_1d",
        "outputId": "28aee793-7f2a-452b-c7ce-2832dad0554c"
      },
      "outputs": [
        {
          "name": "stdout",
          "output_type": "stream",
          "text": [
            "=== HASIL PCA ===\n",
            "Jumlah komponen utama: 10\n",
            "Persentase varian yang dijelaskan: 65.21821265172407 %\n",
            "Bentuk data setelah PCA: (125, 10)\n"
          ]
        }
      ],
      "source": [
        "# Jika menggunakan teknik khusus (PCA, embedding, dll), jelaskan proses dan tujuannya.\n",
        "\n",
        "from sklearn.decomposition import PCA\n",
        "from sklearn.preprocessing import StandardScaler\n",
        "import pandas as pd\n",
        "\n",
        "# Baca data\n",
        "file_path = \"/content/drive/MyDrive/datasetku/data/a01/p1/s01.txt\"\n",
        "df = pd.read_csv(file_path, sep=\",\", header=None)\n",
        "\n",
        "# Standarisasi data sebelum PCA\n",
        "scaler = StandardScaler()\n",
        "scaled_data = scaler.fit_transform(df)\n",
        "\n",
        "# Terapkan PCA (ambil 10 komponen utama)\n",
        "pca = PCA(n_components=10)\n",
        "pca_result = pca.fit_transform(scaled_data)\n",
        "\n",
        "# Tampilkan hasil\n",
        "print(\"=== HASIL PCA ===\")\n",
        "print(\"Jumlah komponen utama:\", pca.n_components_)\n",
        "print(\"Persentase varian yang dijelaskan:\", sum(pca.explained_variance_ratio_) * 100, \"%\")\n",
        "print(\"Bentuk data setelah PCA:\", pca_result.shape)\n"
      ]
    },
    {
      "cell_type": "code",
      "execution_count": null,
      "metadata": {
        "colab": {
          "base_uri": "https://localhost:8080/"
        },
        "id": "hHp4loEC4sRJ",
        "outputId": "80a427f5-a56e-4f63-e25f-476bcfccd5d8"
      },
      "outputs": [
        {
          "name": "stdout",
          "output_type": "stream",
          "text": [
            "Linear = LogisticRegression\n",
            "Non Linear = RandomForestClassifier\n"
          ]
        }
      ],
      "source": [
        "# === MODEL FAMILY / ARCHITECTURE ===\n",
        "\n",
        "# Linear Model\n",
        "from sklearn.linear_model import LogisticRegression\n",
        "model_linear = LogisticRegression()\n",
        "print(\"Linear =\", type(model_linear).__name__)\n",
        "\n",
        "# Non-Linear Model\n",
        "from sklearn.ensemble import RandomForestClassifier\n",
        "model_nonlinear = RandomForestClassifier()\n",
        "print(\"Non Linear =\", type(model_nonlinear).__name__)\n",
        "\n"
      ]
    },
    {
      "cell_type": "code",
      "execution_count": null,
      "metadata": {
        "colab": {
          "base_uri": "https://localhost:8080/",
          "height": 238
        },
        "id": "yqAAYLRg8qdX",
        "outputId": "9475b5bb-2cad-406c-9487-23fc18ea888f"
      },
      "outputs": [
        {
          "data": {
            "text/html": [
              "<pre style=\"white-space:pre;overflow-x:auto;line-height:normal;font-family:Menlo,'DejaVu Sans Mono',consolas,'Courier New',monospace\"><span style=\"font-weight: bold\">Model: \"sequential\"</span>\n",
              "</pre>\n"
            ],
            "text/plain": [
              "\u001b[1mModel: \"sequential\"\u001b[0m\n"
            ]
          },
          "metadata": {},
          "output_type": "display_data"
        },
        {
          "data": {
            "text/html": [
              "<pre style=\"white-space:pre;overflow-x:auto;line-height:normal;font-family:Menlo,'DejaVu Sans Mono',consolas,'Courier New',monospace\">┏━━━━━━━━━━━━━━━━━━━━━━━━━━━━━━━━━┳━━━━━━━━━━━━━━━━━━━━━━━━┳━━━━━━━━━━━━━━━┓\n",
              "┃<span style=\"font-weight: bold\"> Layer (type)                    </span>┃<span style=\"font-weight: bold\"> Output Shape           </span>┃<span style=\"font-weight: bold\">       Param # </span>┃\n",
              "┡━━━━━━━━━━━━━━━━━━━━━━━━━━━━━━━━━╇━━━━━━━━━━━━━━━━━━━━━━━━╇━━━━━━━━━━━━━━━┩\n",
              "│ dense (<span style=\"color: #0087ff; text-decoration-color: #0087ff\">Dense</span>)                   │ (<span style=\"color: #00d7ff; text-decoration-color: #00d7ff\">None</span>, <span style=\"color: #00af00; text-decoration-color: #00af00\">64</span>)             │         <span style=\"color: #00af00; text-decoration-color: #00af00\">2,944</span> │\n",
              "├─────────────────────────────────┼────────────────────────┼───────────────┤\n",
              "│ dense_1 (<span style=\"color: #0087ff; text-decoration-color: #0087ff\">Dense</span>)                 │ (<span style=\"color: #00d7ff; text-decoration-color: #00d7ff\">None</span>, <span style=\"color: #00af00; text-decoration-color: #00af00\">32</span>)             │         <span style=\"color: #00af00; text-decoration-color: #00af00\">2,080</span> │\n",
              "├─────────────────────────────────┼────────────────────────┼───────────────┤\n",
              "│ dense_2 (<span style=\"color: #0087ff; text-decoration-color: #0087ff\">Dense</span>)                 │ (<span style=\"color: #00d7ff; text-decoration-color: #00d7ff\">None</span>, <span style=\"color: #00af00; text-decoration-color: #00af00\">19</span>)             │           <span style=\"color: #00af00; text-decoration-color: #00af00\">627</span> │\n",
              "└─────────────────────────────────┴────────────────────────┴───────────────┘\n",
              "</pre>\n"
            ],
            "text/plain": [
              "┏━━━━━━━━━━━━━━━━━━━━━━━━━━━━━━━━━┳━━━━━━━━━━━━━━━━━━━━━━━━┳━━━━━━━━━━━━━━━┓\n",
              "┃\u001b[1m \u001b[0m\u001b[1mLayer (type)                   \u001b[0m\u001b[1m \u001b[0m┃\u001b[1m \u001b[0m\u001b[1mOutput Shape          \u001b[0m\u001b[1m \u001b[0m┃\u001b[1m \u001b[0m\u001b[1m      Param #\u001b[0m\u001b[1m \u001b[0m┃\n",
              "┡━━━━━━━━━━━━━━━━━━━━━━━━━━━━━━━━━╇━━━━━━━━━━━━━━━━━━━━━━━━╇━━━━━━━━━━━━━━━┩\n",
              "│ dense (\u001b[38;5;33mDense\u001b[0m)                   │ (\u001b[38;5;45mNone\u001b[0m, \u001b[38;5;34m64\u001b[0m)             │         \u001b[38;5;34m2,944\u001b[0m │\n",
              "├─────────────────────────────────┼────────────────────────┼───────────────┤\n",
              "│ dense_1 (\u001b[38;5;33mDense\u001b[0m)                 │ (\u001b[38;5;45mNone\u001b[0m, \u001b[38;5;34m32\u001b[0m)             │         \u001b[38;5;34m2,080\u001b[0m │\n",
              "├─────────────────────────────────┼────────────────────────┼───────────────┤\n",
              "│ dense_2 (\u001b[38;5;33mDense\u001b[0m)                 │ (\u001b[38;5;45mNone\u001b[0m, \u001b[38;5;34m19\u001b[0m)             │           \u001b[38;5;34m627\u001b[0m │\n",
              "└─────────────────────────────────┴────────────────────────┴───────────────┘\n"
            ]
          },
          "metadata": {},
          "output_type": "display_data"
        },
        {
          "data": {
            "text/html": [
              "<pre style=\"white-space:pre;overflow-x:auto;line-height:normal;font-family:Menlo,'DejaVu Sans Mono',consolas,'Courier New',monospace\"><span style=\"font-weight: bold\"> Total params: </span><span style=\"color: #00af00; text-decoration-color: #00af00\">5,651</span> (22.07 KB)\n",
              "</pre>\n"
            ],
            "text/plain": [
              "\u001b[1m Total params: \u001b[0m\u001b[38;5;34m5,651\u001b[0m (22.07 KB)\n"
            ]
          },
          "metadata": {},
          "output_type": "display_data"
        },
        {
          "data": {
            "text/html": [
              "<pre style=\"white-space:pre;overflow-x:auto;line-height:normal;font-family:Menlo,'DejaVu Sans Mono',consolas,'Courier New',monospace\"><span style=\"font-weight: bold\"> Trainable params: </span><span style=\"color: #00af00; text-decoration-color: #00af00\">5,651</span> (22.07 KB)\n",
              "</pre>\n"
            ],
            "text/plain": [
              "\u001b[1m Trainable params: \u001b[0m\u001b[38;5;34m5,651\u001b[0m (22.07 KB)\n"
            ]
          },
          "metadata": {},
          "output_type": "display_data"
        },
        {
          "data": {
            "text/html": [
              "<pre style=\"white-space:pre;overflow-x:auto;line-height:normal;font-family:Menlo,'DejaVu Sans Mono',consolas,'Courier New',monospace\"><span style=\"font-weight: bold\"> Non-trainable params: </span><span style=\"color: #00af00; text-decoration-color: #00af00\">0</span> (0.00 B)\n",
              "</pre>\n"
            ],
            "text/plain": [
              "\u001b[1m Non-trainable params: \u001b[0m\u001b[38;5;34m0\u001b[0m (0.00 B)\n"
            ]
          },
          "metadata": {},
          "output_type": "display_data"
        }
      ],
      "source": [
        "# Model Family / Architecture\n",
        "# B\n",
        "from tensorflow.keras.models import Sequential\n",
        "from tensorflow.keras.layers import Dense, Input\n",
        "\n",
        "# Arsitektur Neural Network\n",
        "model_nn = Sequential([\n",
        "    Input(shape=(45,)),                # Input layer: 45 fitur\n",
        "    Dense(64, activation='relu'),      # Hidden layer 1\n",
        "    Dense(32, activation='relu'),      # Hidden layer 2\n",
        "    Dense(19, activation='softmax')    # Output layer: 19 kelas aktivitas\n",
        "])\n",
        "\n",
        "# Tampilkan ringkasan model\n",
        "model_nn.summary()\n",
        "\n"
      ]
    },
    {
      "cell_type": "code",
      "execution_count": null,
      "metadata": {
        "colab": {
          "base_uri": "https://localhost:8080/"
        },
        "id": "RjqHkmIinCaq",
        "outputId": "3901bdab-8097-4085-83c8-5f6a9822baae"
      },
      "outputs": [
        {
          "name": "stdout",
          "output_type": "stream",
          "text": [
            "<class 'pandas.core.frame.DataFrame'>\n",
            "RangeIndex: 125 entries, 0 to 124\n",
            "Data columns (total 45 columns):\n",
            " #   Column  Non-Null Count  Dtype  \n",
            "---  ------  --------------  -----  \n",
            " 0   0       125 non-null    float64\n",
            " 1   1       125 non-null    float64\n",
            " 2   2       125 non-null    float64\n",
            " 3   3       125 non-null    float64\n",
            " 4   4       125 non-null    float64\n",
            " 5   5       125 non-null    float64\n",
            " 6   6       125 non-null    float64\n",
            " 7   7       125 non-null    float64\n",
            " 8   8       125 non-null    float64\n",
            " 9   9       125 non-null    float64\n",
            " 10  10      125 non-null    float64\n",
            " 11  11      125 non-null    float64\n",
            " 12  12      125 non-null    float64\n",
            " 13  13      125 non-null    float64\n",
            " 14  14      125 non-null    float64\n",
            " 15  15      125 non-null    float64\n",
            " 16  16      125 non-null    float64\n",
            " 17  17      125 non-null    float64\n",
            " 18  18      125 non-null    float64\n",
            " 19  19      125 non-null    float64\n",
            " 20  20      125 non-null    float64\n",
            " 21  21      125 non-null    float64\n",
            " 22  22      125 non-null    float64\n",
            " 23  23      125 non-null    float64\n",
            " 24  24      125 non-null    float64\n",
            " 25  25      125 non-null    float64\n",
            " 26  26      125 non-null    float64\n",
            " 27  27      125 non-null    float64\n",
            " 28  28      125 non-null    float64\n",
            " 29  29      125 non-null    float64\n",
            " 30  30      125 non-null    float64\n",
            " 31  31      125 non-null    float64\n",
            " 32  32      125 non-null    float64\n",
            " 33  33      125 non-null    float64\n",
            " 34  34      125 non-null    float64\n",
            " 35  35      125 non-null    float64\n",
            " 36  36      125 non-null    float64\n",
            " 37  37      125 non-null    float64\n",
            " 38  38      125 non-null    float64\n",
            " 39  39      125 non-null    float64\n",
            " 40  40      125 non-null    float64\n",
            " 41  41      125 non-null    float64\n",
            " 42  42      125 non-null    float64\n",
            " 43  43      125 non-null    float64\n",
            " 44  44      125 non-null    float64\n",
            "dtypes: float64(45)\n",
            "memory usage: 44.1 KB\n"
          ]
        }
      ],
      "source": [
        "df.info()\n"
      ]
    },
    {
      "cell_type": "code",
      "source": [
        "# Daftar hyperparameter untuk model Neural Network\n",
        "# Tampilkan hyperparameter model yang akan anda optimasi (beri penjelasan)\n",
        "hyperparameters = {\n",
        "    'hidden1': [32, 64, 128],       # Jumlah neuron di hidden layer 1\n",
        "    'hidden2': [16, 32, 64],        # Jumlah neuron di hidden layer 2\n",
        "    'activation': ['relu', 'tanh'], # Fungsi aktivasi tiap layer\n",
        "    'optimizer': ['adam', 'sgd'],   # Optimizer untuk update bobot\n",
        "    'batch_size': [16, 32],         # Ukuran batch tiap iterasi\n",
        "    'epochs': [50, 100]             # Jumlah iterasi pelatihan\n",
        "}\n",
        "\n",
        "# Tampilkan hyperparameter\n",
        "print(\"Hyperparameter yang akan dioptimasi:\")\n",
        "for key, value in hyperparameters.items():\n",
        "    print(f\"{key}: {value}\")\n"
      ],
      "metadata": {
        "colab": {
          "base_uri": "https://localhost:8080/"
        },
        "id": "BSEMr18dd62b",
        "outputId": "4692db3a-e2c7-4961-bca5-3373aa7489f1"
      },
      "execution_count": 40,
      "outputs": [
        {
          "output_type": "stream",
          "name": "stdout",
          "text": [
            "Hyperparameter yang akan dioptimasi:\n",
            "hidden1: [32, 64, 128]\n",
            "hidden2: [16, 32, 64]\n",
            "activation: ['relu', 'tanh']\n",
            "optimizer: ['adam', 'sgd']\n",
            "batch_size: [16, 32]\n",
            "epochs: [50, 100]\n"
          ]
        }
      ]
    },
    {
      "cell_type": "code",
      "source": [
        "!pip install scikeras --quiet\n"
      ],
      "metadata": {
        "id": "qvSua979g5Zm"
      },
      "execution_count": 42,
      "outputs": []
    },
    {
      "cell_type": "code",
      "source": [
        "# Lakukan hyperparameter tuning (beri penjelasan)\n",
        "from tensorflow.keras.models import Sequential\n",
        "from tensorflow.keras.layers import Dense, Input\n",
        "from tensorflow.keras.optimizers import Adam, SGD\n",
        "from sklearn.preprocessing import LabelEncoder\n",
        "from sklearn.model_selection import train_test_split\n",
        "import numpy as np\n",
        "\n",
        "# Encode label\n",
        "le = LabelEncoder()\n",
        "y_train_enc = le.fit_transform(y_train)\n",
        "\n",
        "# Daftar hyperparameter\n",
        "hidden1_list = [32, 64]\n",
        "hidden2_list = [16, 32]\n",
        "activation_list = ['relu', 'tanh']\n",
        "optimizer_list = ['adam', 'sgd']\n",
        "\n",
        "best_acc = 0\n",
        "best_params = {}\n",
        "\n",
        "# Loop manual untuk mencari hyperparameter terbaik\n",
        "for h1 in hidden1_list:\n",
        "    for h2 in hidden2_list:\n",
        "        for act in activation_list:\n",
        "            for opt in optimizer_list:\n",
        "                model = Sequential([\n",
        "                    Input(shape=(45,)),\n",
        "                    Dense(h1, activation=act),\n",
        "                    Dense(h2, activation=act),\n",
        "                    Dense(19, activation='softmax')\n",
        "                ])\n",
        "                model.compile(optimizer=opt, loss='sparse_categorical_crossentropy', metrics=['accuracy'])\n",
        "\n",
        "                history = model.fit(X_train, y_train_enc, epochs=20, batch_size=32, verbose=0, validation_split=0.2)\n",
        "                val_acc = history.history['val_accuracy'][-1]\n",
        "\n",
        "                if val_acc > best_acc:\n",
        "                    best_acc = val_acc\n",
        "                    best_params = {'hidden1': h1, 'hidden2': h2, 'activation': act, 'optimizer': opt}\n",
        "\n",
        "print(\"Best Hyperparameters:\", best_params)\n",
        "print(\"Best Validation Accuracy:\", best_acc)\n"
      ],
      "metadata": {
        "colab": {
          "base_uri": "https://localhost:8080/"
        },
        "id": "U0HbYT0reEyb",
        "outputId": "211d706e-50bc-46ab-eb1f-bff61e715e36"
      },
      "execution_count": 45,
      "outputs": [
        {
          "output_type": "stream",
          "name": "stdout",
          "text": [
            "Best Hyperparameters: {'hidden1': 32, 'hidden2': 16, 'activation': 'relu', 'optimizer': 'adam'}\n",
            "Best Validation Accuracy: 1.0\n"
          ]
        }
      ]
    },
    {
      "cell_type": "code",
      "source": [
        "# Pastikan hyperparameter yang anda gunakan tidak overfitting\n",
        "from tensorflow.keras.models import Sequential\n",
        "from tensorflow.keras.layers import Dense, Input, Dropout\n",
        "from tensorflow.keras.callbacks import EarlyStopping\n",
        "\n",
        "# Hyperparameter terbaik dari tuning\n",
        "best_hidden1 = 32\n",
        "best_hidden2 = 16\n",
        "best_activation = 'relu'\n",
        "best_optimizer = 'adam'\n",
        "\n",
        "# === BUAT MODEL DENGAN HYPERPARAMETER TERBAIK ===\n",
        "final_model = Sequential([\n",
        "    Input(shape=(45,)),             # Input layer: 45 fitur\n",
        "    Dense(best_hidden1, activation=best_activation),\n",
        "    Dropout(0.2),                   # Regularisasi untuk mencegah overfitting\n",
        "    Dense(best_hidden2, activation=best_activation),\n",
        "    Dropout(0.2),\n",
        "    Dense(19, activation='softmax') # Output layer: 19 kelas aktivitas\n",
        "])\n",
        "\n",
        "# Kompilasi model\n",
        "final_model.compile(\n",
        "    optimizer=best_optimizer,\n",
        "    loss='sparse_categorical_crossentropy',\n",
        "    metrics=['accuracy']\n",
        ")\n",
        "\n",
        "# === CEGAH OVERFITTING ===\n",
        "early_stop = EarlyStopping(\n",
        "    monitor='val_loss',\n",
        "    patience=5,\n",
        "    restore_best_weights=True\n",
        ")\n",
        "\n",
        "# Latih model\n",
        "history = final_model.fit(\n",
        "    X_train, y_train_enc,\n",
        "    validation_split=0.2,   # 20% data latih sebagai validasi\n",
        "    epochs=50,\n",
        "    batch_size=32,\n",
        "    callbacks=[early_stop],\n",
        "    verbose=1\n",
        ")\n"
      ],
      "metadata": {
        "colab": {
          "base_uri": "https://localhost:8080/"
        },
        "id": "e-PwdVivhpkG",
        "outputId": "e6b44e00-d8cd-4390-eaf0-67899dac58cb"
      },
      "execution_count": 48,
      "outputs": [
        {
          "output_type": "stream",
          "name": "stdout",
          "text": [
            "Epoch 1/50\n",
            "\u001b[1m300/300\u001b[0m \u001b[32m━━━━━━━━━━━━━━━━━━━━\u001b[0m\u001b[37m\u001b[0m \u001b[1m3s\u001b[0m 4ms/step - accuracy: 0.6209 - loss: 1.5647 - val_accuracy: 1.0000 - val_loss: 3.9413e-05\n",
            "Epoch 2/50\n",
            "\u001b[1m300/300\u001b[0m \u001b[32m━━━━━━━━━━━━━━━━━━━━\u001b[0m\u001b[37m\u001b[0m \u001b[1m1s\u001b[0m 3ms/step - accuracy: 0.9946 - loss: 0.0234 - val_accuracy: 1.0000 - val_loss: 4.6949e-07\n",
            "Epoch 3/50\n",
            "\u001b[1m300/300\u001b[0m \u001b[32m━━━━━━━━━━━━━━━━━━━━\u001b[0m\u001b[37m\u001b[0m \u001b[1m1s\u001b[0m 3ms/step - accuracy: 0.9976 - loss: 0.0078 - val_accuracy: 1.0000 - val_loss: 0.0000e+00\n",
            "Epoch 4/50\n",
            "\u001b[1m300/300\u001b[0m \u001b[32m━━━━━━━━━━━━━━━━━━━━\u001b[0m\u001b[37m\u001b[0m \u001b[1m1s\u001b[0m 4ms/step - accuracy: 0.9985 - loss: 0.0060 - val_accuracy: 1.0000 - val_loss: 0.0000e+00\n",
            "Epoch 5/50\n",
            "\u001b[1m300/300\u001b[0m \u001b[32m━━━━━━━━━━━━━━━━━━━━\u001b[0m\u001b[37m\u001b[0m \u001b[1m1s\u001b[0m 5ms/step - accuracy: 0.9990 - loss: 0.0042 - val_accuracy: 1.0000 - val_loss: 0.0000e+00\n",
            "Epoch 6/50\n",
            "\u001b[1m300/300\u001b[0m \u001b[32m━━━━━━━━━━━━━━━━━━━━\u001b[0m\u001b[37m\u001b[0m \u001b[1m2s\u001b[0m 3ms/step - accuracy: 1.0000 - loss: 0.0010 - val_accuracy: 1.0000 - val_loss: 0.0000e+00\n",
            "Epoch 7/50\n",
            "\u001b[1m300/300\u001b[0m \u001b[32m━━━━━━━━━━━━━━━━━━━━\u001b[0m\u001b[37m\u001b[0m \u001b[1m1s\u001b[0m 3ms/step - accuracy: 0.9999 - loss: 0.0017 - val_accuracy: 1.0000 - val_loss: 0.0000e+00\n",
            "Epoch 8/50\n",
            "\u001b[1m300/300\u001b[0m \u001b[32m━━━━━━━━━━━━━━━━━━━━\u001b[0m\u001b[37m\u001b[0m \u001b[1m1s\u001b[0m 3ms/step - accuracy: 0.9999 - loss: 4.9844e-04 - val_accuracy: 1.0000 - val_loss: 0.0000e+00\n"
          ]
        }
      ]
    },
    {
      "cell_type": "code",
      "source": [
        "# Buat model dengan hyperparameter yang sudah dilakukan tuning\n",
        "from tensorflow.keras.models import Sequential\n",
        "from tensorflow.keras.layers import Dense, Input, Dropout\n",
        "from tensorflow.keras.callbacks import EarlyStopping\n",
        "\n",
        "# Hyperparameter terbaik\n",
        "best_hidden1 = 32\n",
        "best_hidden2 = 16\n",
        "best_activation = 'relu'\n",
        "best_optimizer = 'adam'\n",
        "\n",
        "# Bangun model final\n",
        "final_model = Sequential([\n",
        "    Input(shape=(45,)),           # Input layer: 45 fitur\n",
        "    Dense(best_hidden1, activation=best_activation),\n",
        "    Dropout(0.2),                 # Cegah overfitting\n",
        "    Dense(best_hidden2, activation=best_activation),\n",
        "    Dropout(0.2),\n",
        "    Dense(19, activation='softmax')  # Output layer: 19 kelas aktivitas\n",
        "])\n",
        "\n",
        "# Kompilasi model\n",
        "final_model.compile(\n",
        "    optimizer=best_optimizer,\n",
        "    loss='sparse_categorical_crossentropy',\n",
        "    metrics=['accuracy']\n",
        ")\n",
        "\n",
        "# Callback untuk memantau overfitting\n",
        "early_stop = EarlyStopping(\n",
        "    monitor='val_loss',\n",
        "    patience=5,\n",
        "    restore_best_weights=True\n",
        ")\n",
        "\n",
        "# Latih model\n",
        "history = final_model.fit(\n",
        "    X_train, y_train_enc,\n",
        "    validation_split=0.2,\n",
        "    epochs=50,\n",
        "    batch_size=32,\n",
        "    callbacks=[early_stop],\n",
        "    verbose=1\n",
        ")\n",
        "\n",
        "# Tampilkan ringkasan model\n",
        "final_model.summary()\n"
      ],
      "metadata": {
        "colab": {
          "base_uri": "https://localhost:8080/",
          "height": 621
        },
        "id": "iEfGH2nThwbQ",
        "outputId": "4c217ef8-5768-4b74-f55c-9f7c626c7a0b"
      },
      "execution_count": 49,
      "outputs": [
        {
          "output_type": "stream",
          "name": "stdout",
          "text": [
            "Epoch 1/50\n",
            "\u001b[1m300/300\u001b[0m \u001b[32m━━━━━━━━━━━━━━━━━━━━\u001b[0m\u001b[37m\u001b[0m \u001b[1m3s\u001b[0m 5ms/step - accuracy: 0.5956 - loss: 1.7067 - val_accuracy: 1.0000 - val_loss: 1.0036e-04\n",
            "Epoch 2/50\n",
            "\u001b[1m300/300\u001b[0m \u001b[32m━━━━━━━━━━━━━━━━━━━━\u001b[0m\u001b[37m\u001b[0m \u001b[1m1s\u001b[0m 4ms/step - accuracy: 0.9943 - loss: 0.0298 - val_accuracy: 1.0000 - val_loss: 3.7581e-07\n",
            "Epoch 3/50\n",
            "\u001b[1m300/300\u001b[0m \u001b[32m━━━━━━━━━━━━━━━━━━━━\u001b[0m\u001b[37m\u001b[0m \u001b[1m1s\u001b[0m 3ms/step - accuracy: 0.9980 - loss: 0.0077 - val_accuracy: 1.0000 - val_loss: 0.0000e+00\n",
            "Epoch 4/50\n",
            "\u001b[1m300/300\u001b[0m \u001b[32m━━━━━━━━━━━━━━━━━━━━\u001b[0m\u001b[37m\u001b[0m \u001b[1m1s\u001b[0m 3ms/step - accuracy: 0.9993 - loss: 0.0045 - val_accuracy: 1.0000 - val_loss: 0.0000e+00\n",
            "Epoch 5/50\n",
            "\u001b[1m300/300\u001b[0m \u001b[32m━━━━━━━━━━━━━━━━━━━━\u001b[0m\u001b[37m\u001b[0m \u001b[1m1s\u001b[0m 3ms/step - accuracy: 0.9994 - loss: 0.0033 - val_accuracy: 1.0000 - val_loss: 0.0000e+00\n",
            "Epoch 6/50\n",
            "\u001b[1m300/300\u001b[0m \u001b[32m━━━━━━━━━━━━━━━━━━━━\u001b[0m\u001b[37m\u001b[0m \u001b[1m1s\u001b[0m 3ms/step - accuracy: 0.9996 - loss: 0.0013 - val_accuracy: 1.0000 - val_loss: 0.0000e+00\n",
            "Epoch 7/50\n",
            "\u001b[1m300/300\u001b[0m \u001b[32m━━━━━━━━━━━━━━━━━━━━\u001b[0m\u001b[37m\u001b[0m \u001b[1m1s\u001b[0m 3ms/step - accuracy: 0.9998 - loss: 9.9516e-04 - val_accuracy: 1.0000 - val_loss: 0.0000e+00\n",
            "Epoch 8/50\n",
            "\u001b[1m300/300\u001b[0m \u001b[32m━━━━━━━━━━━━━━━━━━━━\u001b[0m\u001b[37m\u001b[0m \u001b[1m1s\u001b[0m 3ms/step - accuracy: 0.9992 - loss: 0.0021 - val_accuracy: 1.0000 - val_loss: 0.0000e+00\n"
          ]
        },
        {
          "output_type": "display_data",
          "data": {
            "text/plain": [
              "\u001b[1mModel: \"sequential_35\"\u001b[0m\n"
            ],
            "text/html": [
              "<pre style=\"white-space:pre;overflow-x:auto;line-height:normal;font-family:Menlo,'DejaVu Sans Mono',consolas,'Courier New',monospace\"><span style=\"font-weight: bold\">Model: \"sequential_35\"</span>\n",
              "</pre>\n"
            ]
          },
          "metadata": {}
        },
        {
          "output_type": "display_data",
          "data": {
            "text/plain": [
              "┏━━━━━━━━━━━━━━━━━━━━━━━━━━━━━━━━━┳━━━━━━━━━━━━━━━━━━━━━━━━┳━━━━━━━━━━━━━━━┓\n",
              "┃\u001b[1m \u001b[0m\u001b[1mLayer (type)                   \u001b[0m\u001b[1m \u001b[0m┃\u001b[1m \u001b[0m\u001b[1mOutput Shape          \u001b[0m\u001b[1m \u001b[0m┃\u001b[1m \u001b[0m\u001b[1m      Param #\u001b[0m\u001b[1m \u001b[0m┃\n",
              "┡━━━━━━━━━━━━━━━━━━━━━━━━━━━━━━━━━╇━━━━━━━━━━━━━━━━━━━━━━━━╇━━━━━━━━━━━━━━━┩\n",
              "│ dense_105 (\u001b[38;5;33mDense\u001b[0m)               │ (\u001b[38;5;45mNone\u001b[0m, \u001b[38;5;34m32\u001b[0m)             │         \u001b[38;5;34m1,472\u001b[0m │\n",
              "├─────────────────────────────────┼────────────────────────┼───────────────┤\n",
              "│ dropout_2 (\u001b[38;5;33mDropout\u001b[0m)             │ (\u001b[38;5;45mNone\u001b[0m, \u001b[38;5;34m32\u001b[0m)             │             \u001b[38;5;34m0\u001b[0m │\n",
              "├─────────────────────────────────┼────────────────────────┼───────────────┤\n",
              "│ dense_106 (\u001b[38;5;33mDense\u001b[0m)               │ (\u001b[38;5;45mNone\u001b[0m, \u001b[38;5;34m16\u001b[0m)             │           \u001b[38;5;34m528\u001b[0m │\n",
              "├─────────────────────────────────┼────────────────────────┼───────────────┤\n",
              "│ dropout_3 (\u001b[38;5;33mDropout\u001b[0m)             │ (\u001b[38;5;45mNone\u001b[0m, \u001b[38;5;34m16\u001b[0m)             │             \u001b[38;5;34m0\u001b[0m │\n",
              "├─────────────────────────────────┼────────────────────────┼───────────────┤\n",
              "│ dense_107 (\u001b[38;5;33mDense\u001b[0m)               │ (\u001b[38;5;45mNone\u001b[0m, \u001b[38;5;34m19\u001b[0m)             │           \u001b[38;5;34m323\u001b[0m │\n",
              "└─────────────────────────────────┴────────────────────────┴───────────────┘\n"
            ],
            "text/html": [
              "<pre style=\"white-space:pre;overflow-x:auto;line-height:normal;font-family:Menlo,'DejaVu Sans Mono',consolas,'Courier New',monospace\">┏━━━━━━━━━━━━━━━━━━━━━━━━━━━━━━━━━┳━━━━━━━━━━━━━━━━━━━━━━━━┳━━━━━━━━━━━━━━━┓\n",
              "┃<span style=\"font-weight: bold\"> Layer (type)                    </span>┃<span style=\"font-weight: bold\"> Output Shape           </span>┃<span style=\"font-weight: bold\">       Param # </span>┃\n",
              "┡━━━━━━━━━━━━━━━━━━━━━━━━━━━━━━━━━╇━━━━━━━━━━━━━━━━━━━━━━━━╇━━━━━━━━━━━━━━━┩\n",
              "│ dense_105 (<span style=\"color: #0087ff; text-decoration-color: #0087ff\">Dense</span>)               │ (<span style=\"color: #00d7ff; text-decoration-color: #00d7ff\">None</span>, <span style=\"color: #00af00; text-decoration-color: #00af00\">32</span>)             │         <span style=\"color: #00af00; text-decoration-color: #00af00\">1,472</span> │\n",
              "├─────────────────────────────────┼────────────────────────┼───────────────┤\n",
              "│ dropout_2 (<span style=\"color: #0087ff; text-decoration-color: #0087ff\">Dropout</span>)             │ (<span style=\"color: #00d7ff; text-decoration-color: #00d7ff\">None</span>, <span style=\"color: #00af00; text-decoration-color: #00af00\">32</span>)             │             <span style=\"color: #00af00; text-decoration-color: #00af00\">0</span> │\n",
              "├─────────────────────────────────┼────────────────────────┼───────────────┤\n",
              "│ dense_106 (<span style=\"color: #0087ff; text-decoration-color: #0087ff\">Dense</span>)               │ (<span style=\"color: #00d7ff; text-decoration-color: #00d7ff\">None</span>, <span style=\"color: #00af00; text-decoration-color: #00af00\">16</span>)             │           <span style=\"color: #00af00; text-decoration-color: #00af00\">528</span> │\n",
              "├─────────────────────────────────┼────────────────────────┼───────────────┤\n",
              "│ dropout_3 (<span style=\"color: #0087ff; text-decoration-color: #0087ff\">Dropout</span>)             │ (<span style=\"color: #00d7ff; text-decoration-color: #00d7ff\">None</span>, <span style=\"color: #00af00; text-decoration-color: #00af00\">16</span>)             │             <span style=\"color: #00af00; text-decoration-color: #00af00\">0</span> │\n",
              "├─────────────────────────────────┼────────────────────────┼───────────────┤\n",
              "│ dense_107 (<span style=\"color: #0087ff; text-decoration-color: #0087ff\">Dense</span>)               │ (<span style=\"color: #00d7ff; text-decoration-color: #00d7ff\">None</span>, <span style=\"color: #00af00; text-decoration-color: #00af00\">19</span>)             │           <span style=\"color: #00af00; text-decoration-color: #00af00\">323</span> │\n",
              "└─────────────────────────────────┴────────────────────────┴───────────────┘\n",
              "</pre>\n"
            ]
          },
          "metadata": {}
        },
        {
          "output_type": "display_data",
          "data": {
            "text/plain": [
              "\u001b[1m Total params: \u001b[0m\u001b[38;5;34m6,971\u001b[0m (27.23 KB)\n"
            ],
            "text/html": [
              "<pre style=\"white-space:pre;overflow-x:auto;line-height:normal;font-family:Menlo,'DejaVu Sans Mono',consolas,'Courier New',monospace\"><span style=\"font-weight: bold\"> Total params: </span><span style=\"color: #00af00; text-decoration-color: #00af00\">6,971</span> (27.23 KB)\n",
              "</pre>\n"
            ]
          },
          "metadata": {}
        },
        {
          "output_type": "display_data",
          "data": {
            "text/plain": [
              "\u001b[1m Trainable params: \u001b[0m\u001b[38;5;34m2,323\u001b[0m (9.07 KB)\n"
            ],
            "text/html": [
              "<pre style=\"white-space:pre;overflow-x:auto;line-height:normal;font-family:Menlo,'DejaVu Sans Mono',consolas,'Courier New',monospace\"><span style=\"font-weight: bold\"> Trainable params: </span><span style=\"color: #00af00; text-decoration-color: #00af00\">2,323</span> (9.07 KB)\n",
              "</pre>\n"
            ]
          },
          "metadata": {}
        },
        {
          "output_type": "display_data",
          "data": {
            "text/plain": [
              "\u001b[1m Non-trainable params: \u001b[0m\u001b[38;5;34m0\u001b[0m (0.00 B)\n"
            ],
            "text/html": [
              "<pre style=\"white-space:pre;overflow-x:auto;line-height:normal;font-family:Menlo,'DejaVu Sans Mono',consolas,'Courier New',monospace\"><span style=\"font-weight: bold\"> Non-trainable params: </span><span style=\"color: #00af00; text-decoration-color: #00af00\">0</span> (0.00 B)\n",
              "</pre>\n"
            ]
          },
          "metadata": {}
        },
        {
          "output_type": "display_data",
          "data": {
            "text/plain": [
              "\u001b[1m Optimizer params: \u001b[0m\u001b[38;5;34m4,648\u001b[0m (18.16 KB)\n"
            ],
            "text/html": [
              "<pre style=\"white-space:pre;overflow-x:auto;line-height:normal;font-family:Menlo,'DejaVu Sans Mono',consolas,'Courier New',monospace\"><span style=\"font-weight: bold\"> Optimizer params: </span><span style=\"color: #00af00; text-decoration-color: #00af00\">4,648</span> (18.16 KB)\n",
              "</pre>\n"
            ]
          },
          "metadata": {}
        }
      ]
    },
    {
      "cell_type": "code",
      "source": [
        "from tensorflow.keras.models import Sequential\n",
        "from tensorflow.keras.layers import Dense, Input\n",
        "\n",
        "# Model final dengan hyperparameter hasil tuning\n",
        "final_model = Sequential([\n",
        "    Input(shape=(45,)),           # 45 fitur input\n",
        "    Dense(32, activation='relu'), # Hidden layer 1\n",
        "    Dense(16, activation='relu'), # Hidden layer 2\n",
        "    Dense(19, activation='softmax') # Output layer: 19 kelas\n",
        "])\n",
        "\n",
        "# Compile model\n",
        "final_model.compile(optimizer='adam',\n",
        "                    loss='sparse_categorical_crossentropy',\n",
        "                    metrics=['accuracy'])\n",
        "\n",
        "# Tampilkan ringkasan model\n",
        "final_model.summary()\n"
      ],
      "metadata": {
        "colab": {
          "base_uri": "https://localhost:8080/",
          "height": 238
        },
        "id": "LPPVXvlSkJ3d",
        "outputId": "a7c29b11-ade3-4314-9862-6eacf87c983e"
      },
      "execution_count": 50,
      "outputs": [
        {
          "output_type": "display_data",
          "data": {
            "text/plain": [
              "\u001b[1mModel: \"sequential_36\"\u001b[0m\n"
            ],
            "text/html": [
              "<pre style=\"white-space:pre;overflow-x:auto;line-height:normal;font-family:Menlo,'DejaVu Sans Mono',consolas,'Courier New',monospace\"><span style=\"font-weight: bold\">Model: \"sequential_36\"</span>\n",
              "</pre>\n"
            ]
          },
          "metadata": {}
        },
        {
          "output_type": "display_data",
          "data": {
            "text/plain": [
              "┏━━━━━━━━━━━━━━━━━━━━━━━━━━━━━━━━━┳━━━━━━━━━━━━━━━━━━━━━━━━┳━━━━━━━━━━━━━━━┓\n",
              "┃\u001b[1m \u001b[0m\u001b[1mLayer (type)                   \u001b[0m\u001b[1m \u001b[0m┃\u001b[1m \u001b[0m\u001b[1mOutput Shape          \u001b[0m\u001b[1m \u001b[0m┃\u001b[1m \u001b[0m\u001b[1m      Param #\u001b[0m\u001b[1m \u001b[0m┃\n",
              "┡━━━━━━━━━━━━━━━━━━━━━━━━━━━━━━━━━╇━━━━━━━━━━━━━━━━━━━━━━━━╇━━━━━━━━━━━━━━━┩\n",
              "│ dense_108 (\u001b[38;5;33mDense\u001b[0m)               │ (\u001b[38;5;45mNone\u001b[0m, \u001b[38;5;34m32\u001b[0m)             │         \u001b[38;5;34m1,472\u001b[0m │\n",
              "├─────────────────────────────────┼────────────────────────┼───────────────┤\n",
              "│ dense_109 (\u001b[38;5;33mDense\u001b[0m)               │ (\u001b[38;5;45mNone\u001b[0m, \u001b[38;5;34m16\u001b[0m)             │           \u001b[38;5;34m528\u001b[0m │\n",
              "├─────────────────────────────────┼────────────────────────┼───────────────┤\n",
              "│ dense_110 (\u001b[38;5;33mDense\u001b[0m)               │ (\u001b[38;5;45mNone\u001b[0m, \u001b[38;5;34m19\u001b[0m)             │           \u001b[38;5;34m323\u001b[0m │\n",
              "└─────────────────────────────────┴────────────────────────┴───────────────┘\n"
            ],
            "text/html": [
              "<pre style=\"white-space:pre;overflow-x:auto;line-height:normal;font-family:Menlo,'DejaVu Sans Mono',consolas,'Courier New',monospace\">┏━━━━━━━━━━━━━━━━━━━━━━━━━━━━━━━━━┳━━━━━━━━━━━━━━━━━━━━━━━━┳━━━━━━━━━━━━━━━┓\n",
              "┃<span style=\"font-weight: bold\"> Layer (type)                    </span>┃<span style=\"font-weight: bold\"> Output Shape           </span>┃<span style=\"font-weight: bold\">       Param # </span>┃\n",
              "┡━━━━━━━━━━━━━━━━━━━━━━━━━━━━━━━━━╇━━━━━━━━━━━━━━━━━━━━━━━━╇━━━━━━━━━━━━━━━┩\n",
              "│ dense_108 (<span style=\"color: #0087ff; text-decoration-color: #0087ff\">Dense</span>)               │ (<span style=\"color: #00d7ff; text-decoration-color: #00d7ff\">None</span>, <span style=\"color: #00af00; text-decoration-color: #00af00\">32</span>)             │         <span style=\"color: #00af00; text-decoration-color: #00af00\">1,472</span> │\n",
              "├─────────────────────────────────┼────────────────────────┼───────────────┤\n",
              "│ dense_109 (<span style=\"color: #0087ff; text-decoration-color: #0087ff\">Dense</span>)               │ (<span style=\"color: #00d7ff; text-decoration-color: #00d7ff\">None</span>, <span style=\"color: #00af00; text-decoration-color: #00af00\">16</span>)             │           <span style=\"color: #00af00; text-decoration-color: #00af00\">528</span> │\n",
              "├─────────────────────────────────┼────────────────────────┼───────────────┤\n",
              "│ dense_110 (<span style=\"color: #0087ff; text-decoration-color: #0087ff\">Dense</span>)               │ (<span style=\"color: #00d7ff; text-decoration-color: #00d7ff\">None</span>, <span style=\"color: #00af00; text-decoration-color: #00af00\">19</span>)             │           <span style=\"color: #00af00; text-decoration-color: #00af00\">323</span> │\n",
              "└─────────────────────────────────┴────────────────────────┴───────────────┘\n",
              "</pre>\n"
            ]
          },
          "metadata": {}
        },
        {
          "output_type": "display_data",
          "data": {
            "text/plain": [
              "\u001b[1m Total params: \u001b[0m\u001b[38;5;34m2,323\u001b[0m (9.07 KB)\n"
            ],
            "text/html": [
              "<pre style=\"white-space:pre;overflow-x:auto;line-height:normal;font-family:Menlo,'DejaVu Sans Mono',consolas,'Courier New',monospace\"><span style=\"font-weight: bold\"> Total params: </span><span style=\"color: #00af00; text-decoration-color: #00af00\">2,323</span> (9.07 KB)\n",
              "</pre>\n"
            ]
          },
          "metadata": {}
        },
        {
          "output_type": "display_data",
          "data": {
            "text/plain": [
              "\u001b[1m Trainable params: \u001b[0m\u001b[38;5;34m2,323\u001b[0m (9.07 KB)\n"
            ],
            "text/html": [
              "<pre style=\"white-space:pre;overflow-x:auto;line-height:normal;font-family:Menlo,'DejaVu Sans Mono',consolas,'Courier New',monospace\"><span style=\"font-weight: bold\"> Trainable params: </span><span style=\"color: #00af00; text-decoration-color: #00af00\">2,323</span> (9.07 KB)\n",
              "</pre>\n"
            ]
          },
          "metadata": {}
        },
        {
          "output_type": "display_data",
          "data": {
            "text/plain": [
              "\u001b[1m Non-trainable params: \u001b[0m\u001b[38;5;34m0\u001b[0m (0.00 B)\n"
            ],
            "text/html": [
              "<pre style=\"white-space:pre;overflow-x:auto;line-height:normal;font-family:Menlo,'DejaVu Sans Mono',consolas,'Courier New',monospace\"><span style=\"font-weight: bold\"> Non-trainable params: </span><span style=\"color: #00af00; text-decoration-color: #00af00\">0</span> (0.00 B)\n",
              "</pre>\n"
            ]
          },
          "metadata": {}
        }
      ]
    },
    {
      "cell_type": "code",
      "source": [
        "# Siapkan jumlah kelas\n",
        "import numpy as np\n",
        "\n",
        "num_classes = len(np.unique(y_train_enc))  # jumlah kelas target\n"
      ],
      "metadata": {
        "id": "Fvj-YnX4kfDI"
      },
      "execution_count": 53,
      "outputs": []
    },
    {
      "cell_type": "code",
      "source": [
        "# Prediksi dan Evaluasi\n",
        "# Bandingkan Metrik Evalouasi  model yang beloum dan sudah ditunning untuk data training,validasi dan testing\n",
        "# ===============================\n",
        "# 1️⃣ Persiapan Label Encoder\n",
        "# ===============================\n",
        "from sklearn.preprocessing import LabelEncoder\n",
        "import pandas as pd\n",
        "\n",
        "# Encode label training dan testing\n",
        "le = LabelEncoder()\n",
        "y_train_enc = le.fit_transform(y_train)\n",
        "y_test_enc  = le.transform(y_test)\n",
        "\n",
        "# ===============================\n",
        "# 2️⃣ Model Sebelum Tuning\n",
        "# ===============================\n",
        "# Misal model_before sudah didefinisikan sebelumnya\n",
        "history_before = model_before.fit(\n",
        "    X_train, y_train_enc,\n",
        "    validation_split=0.2,   # 20% data latih untuk validasi\n",
        "    epochs=50,\n",
        "    batch_size=32,\n",
        "    verbose=0\n",
        ")\n",
        "\n",
        "# Accuracy & Loss Training dan Validation\n",
        "acc_train_before = history_before.history['accuracy'][-1]\n",
        "acc_val_before   = history_before.history['val_accuracy'][-1]\n",
        "loss_train_before = history_before.history['loss'][-1]\n",
        "loss_val_before   = history_before.history['val_loss'][-1]\n",
        "\n",
        "# Evaluasi di testing\n",
        "acc_test_before = model_before.evaluate(X_test, y_test_enc, verbose=0)[1]\n",
        "\n",
        "# ===============================\n",
        "# 3️⃣ Model Setelah Tuning\n",
        "# ===============================\n",
        "# Misal final_model adalah model hasil tuning hyperparameter\n",
        "history_after = final_model.fit(\n",
        "    X_train, y_train_enc,\n",
        "    validation_split=0.2,\n",
        "    epochs=50,\n",
        "    batch_size=32,\n",
        "    verbose=0\n",
        ")\n",
        "\n",
        "acc_train_after = history_after.history['accuracy'][-1]\n",
        "acc_val_after   = history_after.history['val_accuracy'][-1]\n",
        "loss_train_after = history_after.history['loss'][-1]\n",
        "loss_val_after   = history_after.history['val_loss'][-1]\n",
        "\n",
        "acc_test_after = final_model.evaluate(X_test, y_test_enc, verbose=0)[1]\n",
        "\n",
        "# ===============================\n",
        "# 4️⃣ Bandingkan Hasil\n",
        "# ===============================\n",
        "df_compare = pd.DataFrame({\n",
        "    \"Dataset\": [\"Training\", \"Validation\", \"Testing\"],\n",
        "    \"Accuracy Before Tuning\": [acc_train_before, acc_val_before, acc_test_before],\n",
        "    \"Accuracy After Tuning\": [acc_train_after, acc_val_after, acc_test_after],\n",
        "    \"Loss Before Tuning\": [loss_train_before, loss_val_before, None],\n",
        "    \"Loss After Tuning\": [loss_train_after, loss_val_after, None]\n",
        "})\n",
        "\n",
        "df_compare\n"
      ],
      "metadata": {
        "colab": {
          "base_uri": "https://localhost:8080/",
          "height": 143
        },
        "id": "TAZCVMCtlHaI",
        "outputId": "cfe13a3a-cee7-4b28-ed34-598b1ee09e67"
      },
      "execution_count": 55,
      "outputs": [
        {
          "output_type": "execute_result",
          "data": {
            "text/plain": [
              "      Dataset  Accuracy Before Tuning  Accuracy After Tuning  \\\n",
              "0    Training                     1.0                    1.0   \n",
              "1  Validation                     1.0                    1.0   \n",
              "2     Testing                     1.0                    1.0   \n",
              "\n",
              "   Loss Before Tuning  Loss After Tuning  \n",
              "0                 0.0       3.986060e-09  \n",
              "1                 0.0       2.433856e-09  \n",
              "2                 NaN                NaN  "
            ],
            "text/html": [
              "\n",
              "  <div id=\"df-b995e7df-6791-4e22-a3b8-229455897d3c\" class=\"colab-df-container\">\n",
              "    <div>\n",
              "<style scoped>\n",
              "    .dataframe tbody tr th:only-of-type {\n",
              "        vertical-align: middle;\n",
              "    }\n",
              "\n",
              "    .dataframe tbody tr th {\n",
              "        vertical-align: top;\n",
              "    }\n",
              "\n",
              "    .dataframe thead th {\n",
              "        text-align: right;\n",
              "    }\n",
              "</style>\n",
              "<table border=\"1\" class=\"dataframe\">\n",
              "  <thead>\n",
              "    <tr style=\"text-align: right;\">\n",
              "      <th></th>\n",
              "      <th>Dataset</th>\n",
              "      <th>Accuracy Before Tuning</th>\n",
              "      <th>Accuracy After Tuning</th>\n",
              "      <th>Loss Before Tuning</th>\n",
              "      <th>Loss After Tuning</th>\n",
              "    </tr>\n",
              "  </thead>\n",
              "  <tbody>\n",
              "    <tr>\n",
              "      <th>0</th>\n",
              "      <td>Training</td>\n",
              "      <td>1.0</td>\n",
              "      <td>1.0</td>\n",
              "      <td>0.0</td>\n",
              "      <td>3.986060e-09</td>\n",
              "    </tr>\n",
              "    <tr>\n",
              "      <th>1</th>\n",
              "      <td>Validation</td>\n",
              "      <td>1.0</td>\n",
              "      <td>1.0</td>\n",
              "      <td>0.0</td>\n",
              "      <td>2.433856e-09</td>\n",
              "    </tr>\n",
              "    <tr>\n",
              "      <th>2</th>\n",
              "      <td>Testing</td>\n",
              "      <td>1.0</td>\n",
              "      <td>1.0</td>\n",
              "      <td>NaN</td>\n",
              "      <td>NaN</td>\n",
              "    </tr>\n",
              "  </tbody>\n",
              "</table>\n",
              "</div>\n",
              "    <div class=\"colab-df-buttons\">\n",
              "\n",
              "  <div class=\"colab-df-container\">\n",
              "    <button class=\"colab-df-convert\" onclick=\"convertToInteractive('df-b995e7df-6791-4e22-a3b8-229455897d3c')\"\n",
              "            title=\"Convert this dataframe to an interactive table.\"\n",
              "            style=\"display:none;\">\n",
              "\n",
              "  <svg xmlns=\"http://www.w3.org/2000/svg\" height=\"24px\" viewBox=\"0 -960 960 960\">\n",
              "    <path d=\"M120-120v-720h720v720H120Zm60-500h600v-160H180v160Zm220 220h160v-160H400v160Zm0 220h160v-160H400v160ZM180-400h160v-160H180v160Zm440 0h160v-160H620v160ZM180-180h160v-160H180v160Zm440 0h160v-160H620v160Z\"/>\n",
              "  </svg>\n",
              "    </button>\n",
              "\n",
              "  <style>\n",
              "    .colab-df-container {\n",
              "      display:flex;\n",
              "      gap: 12px;\n",
              "    }\n",
              "\n",
              "    .colab-df-convert {\n",
              "      background-color: #E8F0FE;\n",
              "      border: none;\n",
              "      border-radius: 50%;\n",
              "      cursor: pointer;\n",
              "      display: none;\n",
              "      fill: #1967D2;\n",
              "      height: 32px;\n",
              "      padding: 0 0 0 0;\n",
              "      width: 32px;\n",
              "    }\n",
              "\n",
              "    .colab-df-convert:hover {\n",
              "      background-color: #E2EBFA;\n",
              "      box-shadow: 0px 1px 2px rgba(60, 64, 67, 0.3), 0px 1px 3px 1px rgba(60, 64, 67, 0.15);\n",
              "      fill: #174EA6;\n",
              "    }\n",
              "\n",
              "    .colab-df-buttons div {\n",
              "      margin-bottom: 4px;\n",
              "    }\n",
              "\n",
              "    [theme=dark] .colab-df-convert {\n",
              "      background-color: #3B4455;\n",
              "      fill: #D2E3FC;\n",
              "    }\n",
              "\n",
              "    [theme=dark] .colab-df-convert:hover {\n",
              "      background-color: #434B5C;\n",
              "      box-shadow: 0px 1px 3px 1px rgba(0, 0, 0, 0.15);\n",
              "      filter: drop-shadow(0px 1px 2px rgba(0, 0, 0, 0.3));\n",
              "      fill: #FFFFFF;\n",
              "    }\n",
              "  </style>\n",
              "\n",
              "    <script>\n",
              "      const buttonEl =\n",
              "        document.querySelector('#df-b995e7df-6791-4e22-a3b8-229455897d3c button.colab-df-convert');\n",
              "      buttonEl.style.display =\n",
              "        google.colab.kernel.accessAllowed ? 'block' : 'none';\n",
              "\n",
              "      async function convertToInteractive(key) {\n",
              "        const element = document.querySelector('#df-b995e7df-6791-4e22-a3b8-229455897d3c');\n",
              "        const dataTable =\n",
              "          await google.colab.kernel.invokeFunction('convertToInteractive',\n",
              "                                                    [key], {});\n",
              "        if (!dataTable) return;\n",
              "\n",
              "        const docLinkHtml = 'Like what you see? Visit the ' +\n",
              "          '<a target=\"_blank\" href=https://colab.research.google.com/notebooks/data_table.ipynb>data table notebook</a>'\n",
              "          + ' to learn more about interactive tables.';\n",
              "        element.innerHTML = '';\n",
              "        dataTable['output_type'] = 'display_data';\n",
              "        await google.colab.output.renderOutput(dataTable, element);\n",
              "        const docLink = document.createElement('div');\n",
              "        docLink.innerHTML = docLinkHtml;\n",
              "        element.appendChild(docLink);\n",
              "      }\n",
              "    </script>\n",
              "  </div>\n",
              "\n",
              "\n",
              "    <div id=\"df-0d3d2123-f1e9-488c-b26b-afb2fba83a06\">\n",
              "      <button class=\"colab-df-quickchart\" onclick=\"quickchart('df-0d3d2123-f1e9-488c-b26b-afb2fba83a06')\"\n",
              "                title=\"Suggest charts\"\n",
              "                style=\"display:none;\">\n",
              "\n",
              "<svg xmlns=\"http://www.w3.org/2000/svg\" height=\"24px\"viewBox=\"0 0 24 24\"\n",
              "     width=\"24px\">\n",
              "    <g>\n",
              "        <path d=\"M19 3H5c-1.1 0-2 .9-2 2v14c0 1.1.9 2 2 2h14c1.1 0 2-.9 2-2V5c0-1.1-.9-2-2-2zM9 17H7v-7h2v7zm4 0h-2V7h2v10zm4 0h-2v-4h2v4z\"/>\n",
              "    </g>\n",
              "</svg>\n",
              "      </button>\n",
              "\n",
              "<style>\n",
              "  .colab-df-quickchart {\n",
              "      --bg-color: #E8F0FE;\n",
              "      --fill-color: #1967D2;\n",
              "      --hover-bg-color: #E2EBFA;\n",
              "      --hover-fill-color: #174EA6;\n",
              "      --disabled-fill-color: #AAA;\n",
              "      --disabled-bg-color: #DDD;\n",
              "  }\n",
              "\n",
              "  [theme=dark] .colab-df-quickchart {\n",
              "      --bg-color: #3B4455;\n",
              "      --fill-color: #D2E3FC;\n",
              "      --hover-bg-color: #434B5C;\n",
              "      --hover-fill-color: #FFFFFF;\n",
              "      --disabled-bg-color: #3B4455;\n",
              "      --disabled-fill-color: #666;\n",
              "  }\n",
              "\n",
              "  .colab-df-quickchart {\n",
              "    background-color: var(--bg-color);\n",
              "    border: none;\n",
              "    border-radius: 50%;\n",
              "    cursor: pointer;\n",
              "    display: none;\n",
              "    fill: var(--fill-color);\n",
              "    height: 32px;\n",
              "    padding: 0;\n",
              "    width: 32px;\n",
              "  }\n",
              "\n",
              "  .colab-df-quickchart:hover {\n",
              "    background-color: var(--hover-bg-color);\n",
              "    box-shadow: 0 1px 2px rgba(60, 64, 67, 0.3), 0 1px 3px 1px rgba(60, 64, 67, 0.15);\n",
              "    fill: var(--button-hover-fill-color);\n",
              "  }\n",
              "\n",
              "  .colab-df-quickchart-complete:disabled,\n",
              "  .colab-df-quickchart-complete:disabled:hover {\n",
              "    background-color: var(--disabled-bg-color);\n",
              "    fill: var(--disabled-fill-color);\n",
              "    box-shadow: none;\n",
              "  }\n",
              "\n",
              "  .colab-df-spinner {\n",
              "    border: 2px solid var(--fill-color);\n",
              "    border-color: transparent;\n",
              "    border-bottom-color: var(--fill-color);\n",
              "    animation:\n",
              "      spin 1s steps(1) infinite;\n",
              "  }\n",
              "\n",
              "  @keyframes spin {\n",
              "    0% {\n",
              "      border-color: transparent;\n",
              "      border-bottom-color: var(--fill-color);\n",
              "      border-left-color: var(--fill-color);\n",
              "    }\n",
              "    20% {\n",
              "      border-color: transparent;\n",
              "      border-left-color: var(--fill-color);\n",
              "      border-top-color: var(--fill-color);\n",
              "    }\n",
              "    30% {\n",
              "      border-color: transparent;\n",
              "      border-left-color: var(--fill-color);\n",
              "      border-top-color: var(--fill-color);\n",
              "      border-right-color: var(--fill-color);\n",
              "    }\n",
              "    40% {\n",
              "      border-color: transparent;\n",
              "      border-right-color: var(--fill-color);\n",
              "      border-top-color: var(--fill-color);\n",
              "    }\n",
              "    60% {\n",
              "      border-color: transparent;\n",
              "      border-right-color: var(--fill-color);\n",
              "    }\n",
              "    80% {\n",
              "      border-color: transparent;\n",
              "      border-right-color: var(--fill-color);\n",
              "      border-bottom-color: var(--fill-color);\n",
              "    }\n",
              "    90% {\n",
              "      border-color: transparent;\n",
              "      border-bottom-color: var(--fill-color);\n",
              "    }\n",
              "  }\n",
              "</style>\n",
              "\n",
              "      <script>\n",
              "        async function quickchart(key) {\n",
              "          const quickchartButtonEl =\n",
              "            document.querySelector('#' + key + ' button');\n",
              "          quickchartButtonEl.disabled = true;  // To prevent multiple clicks.\n",
              "          quickchartButtonEl.classList.add('colab-df-spinner');\n",
              "          try {\n",
              "            const charts = await google.colab.kernel.invokeFunction(\n",
              "                'suggestCharts', [key], {});\n",
              "          } catch (error) {\n",
              "            console.error('Error during call to suggestCharts:', error);\n",
              "          }\n",
              "          quickchartButtonEl.classList.remove('colab-df-spinner');\n",
              "          quickchartButtonEl.classList.add('colab-df-quickchart-complete');\n",
              "        }\n",
              "        (() => {\n",
              "          let quickchartButtonEl =\n",
              "            document.querySelector('#df-0d3d2123-f1e9-488c-b26b-afb2fba83a06 button');\n",
              "          quickchartButtonEl.style.display =\n",
              "            google.colab.kernel.accessAllowed ? 'block' : 'none';\n",
              "        })();\n",
              "      </script>\n",
              "    </div>\n",
              "\n",
              "  <div id=\"id_6a3ee19a-6a89-4f9e-a4a3-2480269e7f2a\">\n",
              "    <style>\n",
              "      .colab-df-generate {\n",
              "        background-color: #E8F0FE;\n",
              "        border: none;\n",
              "        border-radius: 50%;\n",
              "        cursor: pointer;\n",
              "        display: none;\n",
              "        fill: #1967D2;\n",
              "        height: 32px;\n",
              "        padding: 0 0 0 0;\n",
              "        width: 32px;\n",
              "      }\n",
              "\n",
              "      .colab-df-generate:hover {\n",
              "        background-color: #E2EBFA;\n",
              "        box-shadow: 0px 1px 2px rgba(60, 64, 67, 0.3), 0px 1px 3px 1px rgba(60, 64, 67, 0.15);\n",
              "        fill: #174EA6;\n",
              "      }\n",
              "\n",
              "      [theme=dark] .colab-df-generate {\n",
              "        background-color: #3B4455;\n",
              "        fill: #D2E3FC;\n",
              "      }\n",
              "\n",
              "      [theme=dark] .colab-df-generate:hover {\n",
              "        background-color: #434B5C;\n",
              "        box-shadow: 0px 1px 3px 1px rgba(0, 0, 0, 0.15);\n",
              "        filter: drop-shadow(0px 1px 2px rgba(0, 0, 0, 0.3));\n",
              "        fill: #FFFFFF;\n",
              "      }\n",
              "    </style>\n",
              "    <button class=\"colab-df-generate\" onclick=\"generateWithVariable('df_compare')\"\n",
              "            title=\"Generate code using this dataframe.\"\n",
              "            style=\"display:none;\">\n",
              "\n",
              "  <svg xmlns=\"http://www.w3.org/2000/svg\" height=\"24px\"viewBox=\"0 0 24 24\"\n",
              "       width=\"24px\">\n",
              "    <path d=\"M7,19H8.4L18.45,9,17,7.55,7,17.6ZM5,21V16.75L18.45,3.32a2,2,0,0,1,2.83,0l1.4,1.43a1.91,1.91,0,0,1,.58,1.4,1.91,1.91,0,0,1-.58,1.4L9.25,21ZM18.45,9,17,7.55Zm-12,3A5.31,5.31,0,0,0,4.9,8.1,5.31,5.31,0,0,0,1,6.5,5.31,5.31,0,0,0,4.9,4.9,5.31,5.31,0,0,0,6.5,1,5.31,5.31,0,0,0,8.1,4.9,5.31,5.31,0,0,0,12,6.5,5.46,5.46,0,0,0,6.5,12Z\"/>\n",
              "  </svg>\n",
              "    </button>\n",
              "    <script>\n",
              "      (() => {\n",
              "      const buttonEl =\n",
              "        document.querySelector('#id_6a3ee19a-6a89-4f9e-a4a3-2480269e7f2a button.colab-df-generate');\n",
              "      buttonEl.style.display =\n",
              "        google.colab.kernel.accessAllowed ? 'block' : 'none';\n",
              "\n",
              "      buttonEl.onclick = () => {\n",
              "        google.colab.notebook.generateWithVariable('df_compare');\n",
              "      }\n",
              "      })();\n",
              "    </script>\n",
              "  </div>\n",
              "\n",
              "    </div>\n",
              "  </div>\n"
            ],
            "application/vnd.google.colaboratory.intrinsic+json": {
              "type": "dataframe",
              "variable_name": "df_compare",
              "summary": "{\n  \"name\": \"df_compare\",\n  \"rows\": 3,\n  \"fields\": [\n    {\n      \"column\": \"Dataset\",\n      \"properties\": {\n        \"dtype\": \"string\",\n        \"num_unique_values\": 3,\n        \"samples\": [\n          \"Training\",\n          \"Validation\",\n          \"Testing\"\n        ],\n        \"semantic_type\": \"\",\n        \"description\": \"\"\n      }\n    },\n    {\n      \"column\": \"Accuracy Before Tuning\",\n      \"properties\": {\n        \"dtype\": \"number\",\n        \"std\": 0.0,\n        \"min\": 1.0,\n        \"max\": 1.0,\n        \"num_unique_values\": 1,\n        \"samples\": [\n          1.0\n        ],\n        \"semantic_type\": \"\",\n        \"description\": \"\"\n      }\n    },\n    {\n      \"column\": \"Accuracy After Tuning\",\n      \"properties\": {\n        \"dtype\": \"number\",\n        \"std\": 0.0,\n        \"min\": 1.0,\n        \"max\": 1.0,\n        \"num_unique_values\": 1,\n        \"samples\": [\n          1.0\n        ],\n        \"semantic_type\": \"\",\n        \"description\": \"\"\n      }\n    },\n    {\n      \"column\": \"Loss Before Tuning\",\n      \"properties\": {\n        \"dtype\": \"number\",\n        \"std\": 0.0,\n        \"min\": 0.0,\n        \"max\": 0.0,\n        \"num_unique_values\": 1,\n        \"samples\": [\n          0.0\n        ],\n        \"semantic_type\": \"\",\n        \"description\": \"\"\n      }\n    },\n    {\n      \"column\": \"Loss After Tuning\",\n      \"properties\": {\n        \"dtype\": \"number\",\n        \"std\": 1.0975740752983682e-09,\n        \"min\": 2.4338562276682296e-09,\n        \"max\": 3.9860603706642905e-09,\n        \"num_unique_values\": 2,\n        \"samples\": [\n          2.4338562276682296e-09\n        ],\n        \"semantic_type\": \"\",\n        \"description\": \"\"\n      }\n    }\n  ]\n}"
            }
          },
          "metadata": {},
          "execution_count": 55
        }
      ]
    },
    {
      "cell_type": "code",
      "source": [
        "# grafik perbandingan accuracy/loss\n",
        "import matplotlib.pyplot as plt\n",
        "import numpy as np\n",
        "\n",
        "# Dataset\n",
        "datasets = [\"Training\", \"Validation\", \"Testing\"]\n",
        "\n",
        "# Accuracy\n",
        "acc_before = [1.0, 1.0, 1.0]\n",
        "acc_after  = [1.0, 1.0, 1.0]\n",
        "\n",
        "# Loss (testing None diganti 0 agar bisa plot)\n",
        "loss_before = [0.0, 0.0, 0.0]\n",
        "loss_after  = [3.986060e-09, 2.433856e-09, 0.0]\n",
        "\n",
        "x = np.arange(len(datasets))\n",
        "width = 0.35\n",
        "\n",
        "# Plot Accuracy\n",
        "plt.figure(figsize=(10,4))\n",
        "plt.bar(x - width/2, acc_before, width, label='Accuracy Before Tuning')\n",
        "plt.bar(x + width/2, acc_after, width, label='Accuracy After Tuning')\n",
        "plt.xticks(x, datasets)\n",
        "plt.ylim(0, 1.1)\n",
        "plt.title(\"Perbandingan Accuracy Model Sebelum dan Sesudah Tuning\")\n",
        "plt.ylabel(\"Accuracy\")\n",
        "plt.legend()\n",
        "plt.show()\n",
        "\n",
        "# Plot Loss\n",
        "plt.figure(figsize=(10,4))\n",
        "plt.bar(x - width/2, loss_before, width, label='Loss Before Tuning')\n",
        "plt.bar(x + width/2, loss_after, width, label='Loss After Tuning')\n",
        "plt.xticks(x, datasets)\n",
        "plt.title(\"Perbandingan Loss Model Sebelum dan Sesudah Tuning\")\n",
        "plt.ylabel(\"Loss\")\n",
        "plt.legend()\n",
        "plt.show()\n"
      ],
      "metadata": {
        "colab": {
          "base_uri": "https://localhost:8080/",
          "height": 765
        },
        "id": "jQbG5iN1mkcu",
        "outputId": "bc4af275-abd9-464a-ad8d-28d0655301fc"
      },
      "execution_count": 56,
      "outputs": [
        {
          "output_type": "display_data",
          "data": {
            "text/plain": [
              "<Figure size 1000x400 with 1 Axes>"
            ],
            "image/png": "[encoded data removed]"
          },
          "metadata": {}
        },
        {
          "output_type": "display_data",
          "data": {
            "text/plain": [
              "<Figure size 1000x400 with 1 Axes>"
            ],
            "image/png": "[encoded data removed]"
          },
          "metadata": {}
        }
      ]
    },
    {
      "cell_type": "code",
      "source": [
        "# ===============================\n",
        "# Tampilkan label yang paling sering salah\n",
        "# ===============================\n",
        "\n",
        "import numpy as np\n",
        "from collections import Counter\n",
        "\n",
        "# Prediksi model\n",
        "y_pred = final_model.predict(X_test)\n",
        "\n",
        "# Jika output model one-hot, ambil kelas prediksi\n",
        "if y_pred.shape[1] > 1:\n",
        "    y_pred_classes = np.argmax(y_pred, axis=1)\n",
        "else:\n",
        "    y_pred_classes = (y_pred > 0.5).astype(int).flatten()  # untuk binary\n",
        "\n",
        "# Pastikan y_test_enc sesuai format\n",
        "if len(y_test_enc.shape) > 1 and y_test_enc.shape[1] > 1:\n",
        "    y_true_classes = np.argmax(y_test_enc, axis=1)\n",
        "else:\n",
        "    y_true_classes = y_test_enc  # vektor 1D\n",
        "\n",
        "# Indeks prediksi salah\n",
        "wrong_indices = np.where(y_pred_classes != y_true_classes)[0]\n",
        "\n",
        "# Label asli yang salah\n",
        "wrong_labels = y_true_classes[wrong_indices]\n",
        "\n",
        "# Hitung frekuensi kesalahan\n",
        "label_counter = Counter(wrong_labels)\n",
        "most_common_wrong = label_counter.most_common(1)\n",
        "\n",
        "print(\"Label yang paling sering salah:\", most_common_wrong)\n",
        "\n",
        "# ===============================\n",
        "# Analisis dan Kesimpulan\n",
        "# ===============================\n",
        "total_errors = len(wrong_indices)\n",
        "total_samples = len(y_true_classes)\n",
        "error_rate = total_errors / total_samples * 100\n",
        "\n",
        "print(\"\\nAnalisis:\")\n",
        "print(f\"Jumlah total prediksi salah: {total_errors} dari {total_samples} sampel ({error_rate:.2f}%)\")\n",
        "if most_common_wrong:\n",
        "    print(f\"Label yang paling sering salah adalah {most_common_wrong[0][0]} dengan {most_common_wrong[0][1]} kesalahan\")\n",
        "\n",
        "print(\"\\nKesimpulan:\")\n",
        "print(\"Model memiliki beberapa kesalahan prediksi, terutama pada label di atas. Perlu peningkatan kualitas data, augmentasi, atau tuning model lebih lanjut untuk mengurangi kesalahan pada label tersebut.\")\n"
      ],
      "metadata": {
        "colab": {
          "base_uri": "https://localhost:8080/"
        },
        "id": "j1aDE2dGmyz-",
        "outputId": "1f5fc694-7265-4038-8c99-ab32f5d47d6f"
      },
      "execution_count": 60,
      "outputs": [
        {
          "output_type": "stream",
          "name": "stdout",
          "text": [
            "\u001b[1m94/94\u001b[0m \u001b[32m━━━━━━━━━━━━━━━━━━━━\u001b[0m\u001b[37m\u001b[0m \u001b[1m0s\u001b[0m 1ms/step\n",
            "Label yang paling sering salah: []\n",
            "\n",
            "Analisis:\n",
            "Jumlah total prediksi salah: 0 dari 3000 sampel (0.00%)\n",
            "\n",
            "Kesimpulan:\n",
            "Model memiliki beberapa kesalahan prediksi, terutama pada label di atas. Perlu peningkatan kualitas data, augmentasi, atau tuning model lebih lanjut untuk mengurangi kesalahan pada label tersebut.\n"
          ]
        }
      ]
    },
    {
      "cell_type": "code",
      "source": [
        "import numpy as np\n",
        "import pandas as pd\n",
        "\n",
        "# Asumsikan final_model = model setelah tuning\n",
        "# X_test = data testing, y_test = label asli (numerik)\n",
        "\n",
        "# 1️⃣ Prediksi probabilitas\n",
        "y_pred_prob = final_model.predict(X_test)  # Probabilitas untuk tiap kelas\n",
        "y_pred_classes = np.argmax(y_pred_prob, axis=1)  # Kelas prediksi\n",
        "\n",
        "# 2️⃣ Probabilitas tertinggi tiap data\n",
        "max_prob = np.max(y_pred_prob, axis=1)\n",
        "\n",
        "# 3️⃣ Buat DataFrame hasil prediksi\n",
        "df_pred = pd.DataFrame({\n",
        "    \"Data_ke\": np.arange(1, len(X_test)+1),\n",
        "    \"Label_Asli\": y_test,  # pastikan y_test sudah numerik\n",
        "    \"Prediksi_Kelas\": y_pred_classes,\n",
        "    \"Probabilitas_Tertinggi\": max_prob\n",
        "})\n",
        "\n",
        "# Tambahkan probabilitas tiap kelas (misal 19 kelas)\n",
        "for i in range(y_pred_prob.shape[1]):\n",
        "    df_pred[f\"P_kelas_{i}\"] = y_pred_prob[:, i]\n",
        "\n",
        "# 4️⃣ Tampilkan 10 data pertama sebagai contoh\n",
        "df_pred.head(10)\n"
      ],
      "metadata": {
        "colab": {
          "base_uri": "https://localhost:8080/",
          "height": 603
        },
        "id": "5DjBehdxnSFL",
        "outputId": "b5e8467a-e7c8-4b9a-df65-398c63b35253"
      },
      "execution_count": 63,
      "outputs": [
        {
          "output_type": "stream",
          "name": "stdout",
          "text": [
            "\u001b[1m94/94\u001b[0m \u001b[32m━━━━━━━━━━━━━━━━━━━━\u001b[0m\u001b[37m\u001b[0m \u001b[1m0s\u001b[0m 5ms/step\n"
          ]
        },
        {
          "output_type": "execute_result",
          "data": {
            "text/plain": [
              "   Data_ke Label_Asli  Prediksi_Kelas  Probabilitas_Tertinggi     P_kelas_0  \\\n",
              "0        1        a01               0                     1.0  9.999999e-01   \n",
              "1        2        a02               1                     1.0  1.812265e-08   \n",
              "2        3        a01               0                     1.0  9.999999e-01   \n",
              "3        4        a02               1                     1.0  2.088014e-08   \n",
              "4        5        a01               0                     1.0  9.999999e-01   \n",
              "5        6        a01               0                     1.0  9.999999e-01   \n",
              "6        7        a02               1                     1.0  1.802942e-08   \n",
              "7        8        a02               1                     1.0  2.322485e-08   \n",
              "8        9        a02               1                     1.0  2.091593e-08   \n",
              "9       10        a02               1                     1.0  2.054533e-08   \n",
              "\n",
              "      P_kelas_1     P_kelas_2     P_kelas_3     P_kelas_4     P_kelas_5  ...  \\\n",
              "0  8.509965e-10  3.436747e-12  9.352230e-11  5.494978e-11  1.302308e-10  ...   \n",
              "1  9.999999e-01  1.525153e-10  7.204400e-10  2.554576e-09  4.380289e-09  ...   \n",
              "2  8.609818e-10  3.457088e-12  9.413220e-11  5.474819e-11  1.270442e-10  ...   \n",
              "3  9.999999e-01  1.575206e-10  7.148185e-10  2.285845e-09  4.791174e-09  ...   \n",
              "4  9.676494e-10  3.413392e-12  8.867037e-11  5.295588e-11  1.336006e-10  ...   \n",
              "5  1.074079e-09  4.095336e-12  1.150397e-10  6.481721e-11  1.454573e-10  ...   \n",
              "6  9.999999e-01  1.506537e-10  7.155401e-10  2.520278e-09  4.324174e-09  ...   \n",
              "7  9.999999e-01  1.979286e-10  8.366804e-10  2.682668e-09  5.657261e-09  ...   \n",
              "8  9.999999e-01  1.478241e-10  6.789447e-10  2.137692e-09  4.585157e-09  ...   \n",
              "9  9.999999e-01  1.613374e-10  7.592184e-10  2.576174e-09  4.726143e-09  ...   \n",
              "\n",
              "      P_kelas_9    P_kelas_10    P_kelas_11    P_kelas_12    P_kelas_13  \\\n",
              "0  1.913436e-12  1.444906e-11  7.305621e-14  8.717781e-12  4.119758e-11   \n",
              "1  1.042009e-09  2.529982e-09  1.984159e-09  7.602022e-10  4.710505e-11   \n",
              "2  1.873430e-12  1.394278e-11  7.390356e-14  8.391230e-12  4.109407e-11   \n",
              "3  1.080300e-09  2.555746e-09  2.011123e-09  7.412111e-10  3.835433e-11   \n",
              "4  1.957736e-12  1.438627e-11  7.594007e-14  8.574999e-12  3.712639e-11   \n",
              "5  2.115836e-12  1.607849e-11  8.942297e-14  9.752955e-12  4.885089e-11   \n",
              "6  1.024764e-09  2.495190e-09  1.964524e-09  7.477045e-10  4.654259e-11   \n",
              "7  1.363298e-09  3.084365e-09  2.540088e-09  8.936978e-10  4.720246e-11   \n",
              "8  1.018278e-09  2.425725e-09  1.871743e-09  7.031016e-10  3.529015e-11   \n",
              "9  1.108483e-09  2.704296e-09  2.077395e-09  8.046215e-10  4.765622e-11   \n",
              "\n",
              "     P_kelas_14    P_kelas_15    P_kelas_16    P_kelas_17    P_kelas_18  \n",
              "0  6.007360e-12  3.493238e-12  5.165765e-12  1.150644e-11  1.030046e-12  \n",
              "1  1.279739e-08  4.261480e-09  1.773568e-09  7.173859e-11  2.518313e-12  \n",
              "2  6.061248e-12  3.448375e-12  5.046081e-12  1.142975e-11  1.006185e-12  \n",
              "3  1.154387e-08  3.734189e-09  1.604910e-09  5.816542e-11  2.303699e-12  \n",
              "4  5.846950e-12  3.378061e-12  4.833877e-12  9.442292e-12  9.329611e-13  \n",
              "5  7.292402e-12  4.043318e-12  6.234264e-12  1.417364e-11  1.146463e-12  \n",
              "6  1.264919e-08  4.204825e-09  1.752568e-09  7.120272e-11  2.482195e-12  \n",
              "7  1.363801e-08  4.465371e-09  1.832784e-09  7.019663e-11  3.021612e-12  \n",
              "8  1.079290e-08  3.486375e-09  1.519669e-09  5.413182e-11  2.110931e-12  \n",
              "9  1.280086e-08  4.344892e-09  1.829037e-09  7.294480e-11  2.677215e-12  \n",
              "\n",
              "[10 rows x 23 columns]"
            ],
            "text/html": [
              "\n",
              "  <div id=\"df-c1e0f7a0-c45e-4708-97b2-b185ad7fdca8\" class=\"colab-df-container\">\n",
              "    <div>\n",
              "<style scoped>\n",
              "    .dataframe tbody tr th:only-of-type {\n",
              "        vertical-align: middle;\n",
              "    }\n",
              "\n",
              "    .dataframe tbody tr th {\n",
              "        vertical-align: top;\n",
              "    }\n",
              "\n",
              "    .dataframe thead th {\n",
              "        text-align: right;\n",
              "    }\n",
              "</style>\n",
              "<table border=\"1\" class=\"dataframe\">\n",
              "  <thead>\n",
              "    <tr style=\"text-align: right;\">\n",
              "      <th></th>\n",
              "      <th>Data_ke</th>\n",
              "      <th>Label_Asli</th>\n",
              "      <th>Prediksi_Kelas</th>\n",
              "      <th>Probabilitas_Tertinggi</th>\n",
              "      <th>P_kelas_0</th>\n",
              "      <th>P_kelas_1</th>\n",
              "      <th>P_kelas_2</th>\n",
              "      <th>P_kelas_3</th>\n",
              "      <th>P_kelas_4</th>\n",
              "      <th>P_kelas_5</th>\n",
              "      <th>...</th>\n",
              "      <th>P_kelas_9</th>\n",
              "      <th>P_kelas_10</th>\n",
              "      <th>P_kelas_11</th>\n",
              "      <th>P_kelas_12</th>\n",
              "      <th>P_kelas_13</th>\n",
              "      <th>P_kelas_14</th>\n",
              "      <th>P_kelas_15</th>\n",
              "      <th>P_kelas_16</th>\n",
              "      <th>P_kelas_17</th>\n",
              "      <th>P_kelas_18</th>\n",
              "    </tr>\n",
              "  </thead>\n",
              "  <tbody>\n",
              "    <tr>\n",
              "      <th>0</th>\n",
              "      <td>1</td>\n",
              "      <td>a01</td>\n",
              "      <td>0</td>\n",
              "      <td>1.0</td>\n",
              "      <td>9.999999e-01</td>\n",
              "      <td>8.509965e-10</td>\n",
              "      <td>3.436747e-12</td>\n",
              "      <td>9.352230e-11</td>\n",
              "      <td>5.494978e-11</td>\n",
              "      <td>1.302308e-10</td>\n",
              "      <td>...</td>\n",
              "      <td>1.913436e-12</td>\n",
              "      <td>1.444906e-11</td>\n",
              "      <td>7.305621e-14</td>\n",
              "      <td>8.717781e-12</td>\n",
              "      <td>4.119758e-11</td>\n",
              "      <td>6.007360e-12</td>\n",
              "      <td>3.493238e-12</td>\n",
              "      <td>5.165765e-12</td>\n",
              "      <td>1.150644e-11</td>\n",
              "      <td>1.030046e-12</td>\n",
              "    </tr>\n",
              "    <tr>\n",
              "      <th>1</th>\n",
              "      <td>2</td>\n",
              "      <td>a02</td>\n",
              "      <td>1</td>\n",
              "      <td>1.0</td>\n",
              "      <td>1.812265e-08</td>\n",
              "      <td>9.999999e-01</td>\n",
              "      <td>1.525153e-10</td>\n",
              "      <td>7.204400e-10</td>\n",
              "      <td>2.554576e-09</td>\n",
              "      <td>4.380289e-09</td>\n",
              "      <td>...</td>\n",
              "      <td>1.042009e-09</td>\n",
              "      <td>2.529982e-09</td>\n",
              "      <td>1.984159e-09</td>\n",
              "      <td>7.602022e-10</td>\n",
              "      <td>4.710505e-11</td>\n",
              "      <td>1.279739e-08</td>\n",
              "      <td>4.261480e-09</td>\n",
              "      <td>1.773568e-09</td>\n",
              "      <td>7.173859e-11</td>\n",
              "      <td>2.518313e-12</td>\n",
              "    </tr>\n",
              "    <tr>\n",
              "      <th>2</th>\n",
              "      <td>3</td>\n",
              "      <td>a01</td>\n",
              "      <td>0</td>\n",
              "      <td>1.0</td>\n",
              "      <td>9.999999e-01</td>\n",
              "      <td>8.609818e-10</td>\n",
              "      <td>3.457088e-12</td>\n",
              "      <td>9.413220e-11</td>\n",
              "      <td>5.474819e-11</td>\n",
              "      <td>1.270442e-10</td>\n",
              "      <td>...</td>\n",
              "      <td>1.873430e-12</td>\n",
              "      <td>1.394278e-11</td>\n",
              "      <td>7.390356e-14</td>\n",
              "      <td>8.391230e-12</td>\n",
              "      <td>4.109407e-11</td>\n",
              "      <td>6.061248e-12</td>\n",
              "      <td>3.448375e-12</td>\n",
              "      <td>5.046081e-12</td>\n",
              "      <td>1.142975e-11</td>\n",
              "      <td>1.006185e-12</td>\n",
              "    </tr>\n",
              "    <tr>\n",
              "      <th>3</th>\n",
              "      <td>4</td>\n",
              "      <td>a02</td>\n",
              "      <td>1</td>\n",
              "      <td>1.0</td>\n",
              "      <td>2.088014e-08</td>\n",
              "      <td>9.999999e-01</td>\n",
              "      <td>1.575206e-10</td>\n",
              "      <td>7.148185e-10</td>\n",
              "      <td>2.285845e-09</td>\n",
              "      <td>4.791174e-09</td>\n",
              "      <td>...</td>\n",
              "      <td>1.080300e-09</td>\n",
              "      <td>2.555746e-09</td>\n",
              "      <td>2.011123e-09</td>\n",
              "      <td>7.412111e-10</td>\n",
              "      <td>3.835433e-11</td>\n",
              "      <td>1.154387e-08</td>\n",
              "      <td>3.734189e-09</td>\n",
              "      <td>1.604910e-09</td>\n",
              "      <td>5.816542e-11</td>\n",
              "      <td>2.303699e-12</td>\n",
              "    </tr>\n",
              "    <tr>\n",
              "      <th>4</th>\n",
              "      <td>5</td>\n",
              "      <td>a01</td>\n",
              "      <td>0</td>\n",
              "      <td>1.0</td>\n",
              "      <td>9.999999e-01</td>\n",
              "      <td>9.676494e-10</td>\n",
              "      <td>3.413392e-12</td>\n",
              "      <td>8.867037e-11</td>\n",
              "      <td>5.295588e-11</td>\n",
              "      <td>1.336006e-10</td>\n",
              "      <td>...</td>\n",
              "      <td>1.957736e-12</td>\n",
              "      <td>1.438627e-11</td>\n",
              "      <td>7.594007e-14</td>\n",
              "      <td>8.574999e-12</td>\n",
              "      <td>3.712639e-11</td>\n",
              "      <td>5.846950e-12</td>\n",
              "      <td>3.378061e-12</td>\n",
              "      <td>4.833877e-12</td>\n",
              "      <td>9.442292e-12</td>\n",
              "      <td>9.329611e-13</td>\n",
              "    </tr>\n",
              "    <tr>\n",
              "      <th>5</th>\n",
              "      <td>6</td>\n",
              "      <td>a01</td>\n",
              "      <td>0</td>\n",
              "      <td>1.0</td>\n",
              "      <td>9.999999e-01</td>\n",
              "      <td>1.074079e-09</td>\n",
              "      <td>4.095336e-12</td>\n",
              "      <td>1.150397e-10</td>\n",
              "      <td>6.481721e-11</td>\n",
              "      <td>1.454573e-10</td>\n",
              "      <td>...</td>\n",
              "      <td>2.115836e-12</td>\n",
              "      <td>1.607849e-11</td>\n",
              "      <td>8.942297e-14</td>\n",
              "      <td>9.752955e-12</td>\n",
              "      <td>4.885089e-11</td>\n",
              "      <td>7.292402e-12</td>\n",
              "      <td>4.043318e-12</td>\n",
              "      <td>6.234264e-12</td>\n",
              "      <td>1.417364e-11</td>\n",
              "      <td>1.146463e-12</td>\n",
              "    </tr>\n",
              "    <tr>\n",
              "      <th>6</th>\n",
              "      <td>7</td>\n",
              "      <td>a02</td>\n",
              "      <td>1</td>\n",
              "      <td>1.0</td>\n",
              "      <td>1.802942e-08</td>\n",
              "      <td>9.999999e-01</td>\n",
              "      <td>1.506537e-10</td>\n",
              "      <td>7.155401e-10</td>\n",
              "      <td>2.520278e-09</td>\n",
              "      <td>4.324174e-09</td>\n",
              "      <td>...</td>\n",
              "      <td>1.024764e-09</td>\n",
              "      <td>2.495190e-09</td>\n",
              "      <td>1.964524e-09</td>\n",
              "      <td>7.477045e-10</td>\n",
              "      <td>4.654259e-11</td>\n",
              "      <td>1.264919e-08</td>\n",
              "      <td>4.204825e-09</td>\n",
              "      <td>1.752568e-09</td>\n",
              "      <td>7.120272e-11</td>\n",
              "      <td>2.482195e-12</td>\n",
              "    </tr>\n",
              "    <tr>\n",
              "      <th>7</th>\n",
              "      <td>8</td>\n",
              "      <td>a02</td>\n",
              "      <td>1</td>\n",
              "      <td>1.0</td>\n",
              "      <td>2.322485e-08</td>\n",
              "      <td>9.999999e-01</td>\n",
              "      <td>1.979286e-10</td>\n",
              "      <td>8.366804e-10</td>\n",
              "      <td>2.682668e-09</td>\n",
              "      <td>5.657261e-09</td>\n",
              "      <td>...</td>\n",
              "      <td>1.363298e-09</td>\n",
              "      <td>3.084365e-09</td>\n",
              "      <td>2.540088e-09</td>\n",
              "      <td>8.936978e-10</td>\n",
              "      <td>4.720246e-11</td>\n",
              "      <td>1.363801e-08</td>\n",
              "      <td>4.465371e-09</td>\n",
              "      <td>1.832784e-09</td>\n",
              "      <td>7.019663e-11</td>\n",
              "      <td>3.021612e-12</td>\n",
              "    </tr>\n",
              "    <tr>\n",
              "      <th>8</th>\n",
              "      <td>9</td>\n",
              "      <td>a02</td>\n",
              "      <td>1</td>\n",
              "      <td>1.0</td>\n",
              "      <td>2.091593e-08</td>\n",
              "      <td>9.999999e-01</td>\n",
              "      <td>1.478241e-10</td>\n",
              "      <td>6.789447e-10</td>\n",
              "      <td>2.137692e-09</td>\n",
              "      <td>4.585157e-09</td>\n",
              "      <td>...</td>\n",
              "      <td>1.018278e-09</td>\n",
              "      <td>2.425725e-09</td>\n",
              "      <td>1.871743e-09</td>\n",
              "      <td>7.031016e-10</td>\n",
              "      <td>3.529015e-11</td>\n",
              "      <td>1.079290e-08</td>\n",
              "      <td>3.486375e-09</td>\n",
              "      <td>1.519669e-09</td>\n",
              "      <td>5.413182e-11</td>\n",
              "      <td>2.110931e-12</td>\n",
              "    </tr>\n",
              "    <tr>\n",
              "      <th>9</th>\n",
              "      <td>10</td>\n",
              "      <td>a02</td>\n",
              "      <td>1</td>\n",
              "      <td>1.0</td>\n",
              "      <td>2.054533e-08</td>\n",
              "      <td>9.999999e-01</td>\n",
              "      <td>1.613374e-10</td>\n",
              "      <td>7.592184e-10</td>\n",
              "      <td>2.576174e-09</td>\n",
              "      <td>4.726143e-09</td>\n",
              "      <td>...</td>\n",
              "      <td>1.108483e-09</td>\n",
              "      <td>2.704296e-09</td>\n",
              "      <td>2.077395e-09</td>\n",
              "      <td>8.046215e-10</td>\n",
              "      <td>4.765622e-11</td>\n",
              "      <td>1.280086e-08</td>\n",
              "      <td>4.344892e-09</td>\n",
              "      <td>1.829037e-09</td>\n",
              "      <td>7.294480e-11</td>\n",
              "      <td>2.677215e-12</td>\n",
              "    </tr>\n",
              "  </tbody>\n",
              "</table>\n",
              "<p>10 rows × 23 columns</p>\n",
              "</div>\n",
              "    <div class=\"colab-df-buttons\">\n",
              "\n",
              "  <div class=\"colab-df-container\">\n",
              "    <button class=\"colab-df-convert\" onclick=\"convertToInteractive('df-c1e0f7a0-c45e-4708-97b2-b185ad7fdca8')\"\n",
              "            title=\"Convert this dataframe to an interactive table.\"\n",
              "            style=\"display:none;\">\n",
              "\n",
              "  <svg xmlns=\"http://www.w3.org/2000/svg\" height=\"24px\" viewBox=\"0 -960 960 960\">\n",
              "    <path d=\"M120-120v-720h720v720H120Zm60-500h600v-160H180v160Zm220 220h160v-160H400v160Zm0 220h160v-160H400v160ZM180-400h160v-160H180v160Zm440 0h160v-160H620v160ZM180-180h160v-160H180v160Zm440 0h160v-160H620v160Z\"/>\n",
              "  </svg>\n",
              "    </button>\n",
              "\n",
              "  <style>\n",
              "    .colab-df-container {\n",
              "      display:flex;\n",
              "      gap: 12px;\n",
              "    }\n",
              "\n",
              "    .colab-df-convert {\n",
              "      background-color: #E8F0FE;\n",
              "      border: none;\n",
              "      border-radius: 50%;\n",
              "      cursor: pointer;\n",
              "      display: none;\n",
              "      fill: #1967D2;\n",
              "      height: 32px;\n",
              "      padding: 0 0 0 0;\n",
              "      width: 32px;\n",
              "    }\n",
              "\n",
              "    .colab-df-convert:hover {\n",
              "      background-color: #E2EBFA;\n",
              "      box-shadow: 0px 1px 2px rgba(60, 64, 67, 0.3), 0px 1px 3px 1px rgba(60, 64, 67, 0.15);\n",
              "      fill: #174EA6;\n",
              "    }\n",
              "\n",
              "    .colab-df-buttons div {\n",
              "      margin-bottom: 4px;\n",
              "    }\n",
              "\n",
              "    [theme=dark] .colab-df-convert {\n",
              "      background-color: #3B4455;\n",
              "      fill: #D2E3FC;\n",
              "    }\n",
              "\n",
              "    [theme=dark] .colab-df-convert:hover {\n",
              "      background-color: #434B5C;\n",
              "      box-shadow: 0px 1px 3px 1px rgba(0, 0, 0, 0.15);\n",
              "      filter: drop-shadow(0px 1px 2px rgba(0, 0, 0, 0.3));\n",
              "      fill: #FFFFFF;\n",
              "    }\n",
              "  </style>\n",
              "\n",
              "    <script>\n",
              "      const buttonEl =\n",
              "        document.querySelector('#df-c1e0f7a0-c45e-4708-97b2-b185ad7fdca8 button.colab-df-convert');\n",
              "      buttonEl.style.display =\n",
              "        google.colab.kernel.accessAllowed ? 'block' : 'none';\n",
              "\n",
              "      async function convertToInteractive(key) {\n",
              "        const element = document.querySelector('#df-c1e0f7a0-c45e-4708-97b2-b185ad7fdca8');\n",
              "        const dataTable =\n",
              "          await google.colab.kernel.invokeFunction('convertToInteractive',\n",
              "                                                    [key], {});\n",
              "        if (!dataTable) return;\n",
              "\n",
              "        const docLinkHtml = 'Like what you see? Visit the ' +\n",
              "          '<a target=\"_blank\" href=https://colab.research.google.com/notebooks/data_table.ipynb>data table notebook</a>'\n",
              "          + ' to learn more about interactive tables.';\n",
              "        element.innerHTML = '';\n",
              "        dataTable['output_type'] = 'display_data';\n",
              "        await google.colab.output.renderOutput(dataTable, element);\n",
              "        const docLink = document.createElement('div');\n",
              "        docLink.innerHTML = docLinkHtml;\n",
              "        element.appendChild(docLink);\n",
              "      }\n",
              "    </script>\n",
              "  </div>\n",
              "\n",
              "\n",
              "    <div id=\"df-0bb857e9-fc61-4ca9-bb8d-ea2a58ba22f5\">\n",
              "      <button class=\"colab-df-quickchart\" onclick=\"quickchart('df-0bb857e9-fc61-4ca9-bb8d-ea2a58ba22f5')\"\n",
              "                title=\"Suggest charts\"\n",
              "                style=\"display:none;\">\n",
              "\n",
              "<svg xmlns=\"http://www.w3.org/2000/svg\" height=\"24px\"viewBox=\"0 0 24 24\"\n",
              "     width=\"24px\">\n",
              "    <g>\n",
              "        <path d=\"M19 3H5c-1.1 0-2 .9-2 2v14c0 1.1.9 2 2 2h14c1.1 0 2-.9 2-2V5c0-1.1-.9-2-2-2zM9 17H7v-7h2v7zm4 0h-2V7h2v10zm4 0h-2v-4h2v4z\"/>\n",
              "    </g>\n",
              "</svg>\n",
              "      </button>\n",
              "\n",
              "<style>\n",
              "  .colab-df-quickchart {\n",
              "      --bg-color: #E8F0FE;\n",
              "      --fill-color: #1967D2;\n",
              "      --hover-bg-color: #E2EBFA;\n",
              "      --hover-fill-color: #174EA6;\n",
              "      --disabled-fill-color: #AAA;\n",
              "      --disabled-bg-color: #DDD;\n",
              "  }\n",
              "\n",
              "  [theme=dark] .colab-df-quickchart {\n",
              "      --bg-color: #3B4455;\n",
              "      --fill-color: #D2E3FC;\n",
              "      --hover-bg-color: #434B5C;\n",
              "      --hover-fill-color: #FFFFFF;\n",
              "      --disabled-bg-color: #3B4455;\n",
              "      --disabled-fill-color: #666;\n",
              "  }\n",
              "\n",
              "  .colab-df-quickchart {\n",
              "    background-color: var(--bg-color);\n",
              "    border: none;\n",
              "    border-radius: 50%;\n",
              "    cursor: pointer;\n",
              "    display: none;\n",
              "    fill: var(--fill-color);\n",
              "    height: 32px;\n",
              "    padding: 0;\n",
              "    width: 32px;\n",
              "  }\n",
              "\n",
              "  .colab-df-quickchart:hover {\n",
              "    background-color: var(--hover-bg-color);\n",
              "    box-shadow: 0 1px 2px rgba(60, 64, 67, 0.3), 0 1px 3px 1px rgba(60, 64, 67, 0.15);\n",
              "    fill: var(--button-hover-fill-color);\n",
              "  }\n",
              "\n",
              "  .colab-df-quickchart-complete:disabled,\n",
              "  .colab-df-quickchart-complete:disabled:hover {\n",
              "    background-color: var(--disabled-bg-color);\n",
              "    fill: var(--disabled-fill-color);\n",
              "    box-shadow: none;\n",
              "  }\n",
              "\n",
              "  .colab-df-spinner {\n",
              "    border: 2px solid var(--fill-color);\n",
              "    border-color: transparent;\n",
              "    border-bottom-color: var(--fill-color);\n",
              "    animation:\n",
              "      spin 1s steps(1) infinite;\n",
              "  }\n",
              "\n",
              "  @keyframes spin {\n",
              "    0% {\n",
              "      border-color: transparent;\n",
              "      border-bottom-color: var(--fill-color);\n",
              "      border-left-color: var(--fill-color);\n",
              "    }\n",
              "    20% {\n",
              "      border-color: transparent;\n",
              "      border-left-color: var(--fill-color);\n",
              "      border-top-color: var(--fill-color);\n",
              "    }\n",
              "    30% {\n",
              "      border-color: transparent;\n",
              "      border-left-color: var(--fill-color);\n",
              "      border-top-color: var(--fill-color);\n",
              "      border-right-color: var(--fill-color);\n",
              "    }\n",
              "    40% {\n",
              "      border-color: transparent;\n",
              "      border-right-color: var(--fill-color);\n",
              "      border-top-color: var(--fill-color);\n",
              "    }\n",
              "    60% {\n",
              "      border-color: transparent;\n",
              "      border-right-color: var(--fill-color);\n",
              "    }\n",
              "    80% {\n",
              "      border-color: transparent;\n",
              "      border-right-color: var(--fill-color);\n",
              "      border-bottom-color: var(--fill-color);\n",
              "    }\n",
              "    90% {\n",
              "      border-color: transparent;\n",
              "      border-bottom-color: var(--fill-color);\n",
              "    }\n",
              "  }\n",
              "</style>\n",
              "\n",
              "      <script>\n",
              "        async function quickchart(key) {\n",
              "          const quickchartButtonEl =\n",
              "            document.querySelector('#' + key + ' button');\n",
              "          quickchartButtonEl.disabled = true;  // To prevent multiple clicks.\n",
              "          quickchartButtonEl.classList.add('colab-df-spinner');\n",
              "          try {\n",
              "            const charts = await google.colab.kernel.invokeFunction(\n",
              "                'suggestCharts', [key], {});\n",
              "          } catch (error) {\n",
              "            console.error('Error during call to suggestCharts:', error);\n",
              "          }\n",
              "          quickchartButtonEl.classList.remove('colab-df-spinner');\n",
              "          quickchartButtonEl.classList.add('colab-df-quickchart-complete');\n",
              "        }\n",
              "        (() => {\n",
              "          let quickchartButtonEl =\n",
              "            document.querySelector('#df-0bb857e9-fc61-4ca9-bb8d-ea2a58ba22f5 button');\n",
              "          quickchartButtonEl.style.display =\n",
              "            google.colab.kernel.accessAllowed ? 'block' : 'none';\n",
              "        })();\n",
              "      </script>\n",
              "    </div>\n",
              "\n",
              "    </div>\n",
              "  </div>\n"
            ],
            "application/vnd.google.colaboratory.intrinsic+json": {
              "type": "dataframe",
              "variable_name": "df_pred"
            }
          },
          "metadata": {},
          "execution_count": 63
        }
      ]
    }
  ],
  "metadata": {
    "colab": {
      "provenance": [],
      "include_colab_link": true
    },
    "kernelspec": {
      "display_name": "Python 3",
      "name": "python3"
    },
    "language_info": {
      "name": "python"
    }
  },
  "nbformat": 4,
  "nbformat_minor": 0
}