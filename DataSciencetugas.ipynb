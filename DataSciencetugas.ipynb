{
  "nbformat": 4,
  "nbformat_minor": 0,
  "metadata": {
    "colab": {
      "provenance": [],
      "authorship_tag": "ABX9TyNfaQnfwv/geofdkBluqRYv",
      "include_colab_link": true
    },
    "kernelspec": {
      "name": "python3",
      "display_name": "Python 3"
    },
    "language_info": {
      "name": "python"
    }
  },
  "cells": [
    {
      "cell_type": "markdown",
      "metadata": {
        "id": "view-in-github",
        "colab_type": "text"
      },
      "source": [
        "<a href=\"https://colab.research.google.com/github/Prdazk/collabku/blob/main/DataSciencetugas.ipynb\" target=\"_parent\"><img src=\"https://colab.research.google.com/assets/colab-badge.svg\" alt=\"Open In Colab\"/></a>"
      ]
    },
    {
      "cell_type": "code",
      "execution_count": 1,
      "metadata": {
        "colab": {
          "base_uri": "https://localhost:8080/"
        },
        "id": "moDrf6EtYSox",
        "outputId": "69ca7f10-d58e-41cf-eab7-48a4ec52945b"
      },
      "outputs": [
        {
          "output_type": "stream",
          "name": "stdout",
          "text": [
            "ZIP berhasil di-extract ke: /content/data/\n"
          ]
        }
      ],
      "source": [
        "import zipfile\n",
        "\n",
        "zip_path = '/content/sample_data/daily+and+sports+activities.zip'  # file yang sudah diupload\n",
        "extract_path = '/content/data/'\n",
        "\n",
        "with zipfile.ZipFile(zip_path, 'r') as zip_ref:\n",
        "    zip_ref.extractall(extract_path)\n",
        "\n",
        "print(\"ZIP berhasil di-extract ke:\", extract_path)\n"
      ]
    },
    {
      "cell_type": "code",
      "source": [
        "import pandas as pd\n",
        "import glob\n",
        "import os\n",
        "import zipfile\n",
        "\n",
        "# ================================\n",
        "# 1️⃣ Extract ZIP (kalau belum)\n",
        "# ================================\n",
        "zip_path = '/content/sample_data/daily+and+sports+activities.zip'\n",
        "extract_path = '/content/data/'\n",
        "\n",
        "with zipfile.ZipFile(zip_path, 'r') as zip_ref:\n",
        "    zip_ref.extractall(extract_path)\n",
        "print(\"ZIP berhasil di-extract ke:\", extract_path)\n",
        "\n",
        "# ================================\n",
        "# 2️⃣ Cari beberapa file txt\n",
        "# ================================\n",
        "all_files = glob.glob(os.path.join(extract_path, '**/*.txt'), recursive=True)\n",
        "print(f\"Jumlah file txt ditemukan: {len(all_files)}\")\n",
        "\n",
        "# ================================\n",
        "# 3️⃣ Baca beberapa file untuk melihat target\n",
        "# ================================\n",
        "for file in all_files[:5]:  # lihat 5 file pertama saja\n",
        "    df = pd.read_csv(file, delimiter='\\t')  # ganti delimiter jika perlu\n",
        "    print(f\"\\nFile: {file}\")\n",
        "    print(\"5 baris pertama:\")\n",
        "    print(df.head())\n",
        "    if 'Activity' in df.columns:\n",
        "        print(\"Label aktivitas (target) ditemukan di kolom 'Activity'\")\n",
        "    else:\n",
        "        print(\"Cek kolom terakhir atau dokumentasi file untuk label aktivitas\")\n"
      ],
      "metadata": {
        "colab": {
          "base_uri": "https://localhost:8080/"
        },
        "id": "r5qGT3k1bsyH",
        "outputId": "169e83cf-5760-47a6-9444-e43b2e64bea3"
      },
      "execution_count": 4,
      "outputs": [
        {
          "output_type": "stream",
          "name": "stdout",
          "text": [
            "ZIP berhasil di-extract ke: /content/data/\n",
            "Jumlah file txt ditemukan: 9120\n",
            "\n",
            "File: /content/data/data/a05/p5/s45.txt\n",
            "5 baris pertama:\n",
            "  6.5959,0.51656,3.4619,-0.73927,0.29616,-0.16035,-0.44152,0.42129,-0.44875,7.0547,2.2979,0.91864,-1.0013,0.18477,-0.74652,-0.40066,-0.077686,-0.59433,6.5988,-2.3951,2.7206,-1.1143,0.29912,-0.064305,-0.49031,0.55456,0.032235,-11.12,1.1965,-2.24,-1.2582,-0.045009,2.9529,0.3866,-0.41368,0.4646,-8.9206,-2.2898,-2.5117,-0.5439,-0.34235,1.2001,0.57659,0.42341,-0.15808\n",
            "0  6.6395,0.3967,3.7077,-0.70432,0.23152,-0.15454...                                                                                                                                                                                                                                                                                                                         \n",
            "1  6.5565,0.33703,3.9753,-0.65683,0.13623,-0.1540...                                                                                                                                                                                                                                                                                                                         \n",
            "2  7.0698,0.37551,4.442,-0.58738,-0.089959,-0.160...                                                                                                                                                                                                                                                                                                                         \n",
            "3  7.6502,0.16339,4.445,-0.46076,-0.10847,-0.1471...                                                                                                                                                                                                                                                                                                                         \n",
            "4  7.6937,0.072778,4.788,-0.32346,-0.13743,-0.101...                                                                                                                                                                                                                                                                                                                         \n",
            "Cek kolom terakhir atau dokumentasi file untuk label aktivitas\n",
            "\n",
            "File: /content/data/data/a05/p5/s37.txt\n",
            "5 baris pertama:\n",
            "  7.9821,-0.3364,5.3743,0.020485,-0.30737,0.24453,-0.5443,0.61957,-0.24837,7.9931,2.9225,2.5694,0.093766,-0.60549,0.77121,-0.45673,0.14646,-0.71436,8.8418,-3.3507,3.5052,0.33909,-0.4646,-0.4859,-0.65596,0.44497,0.31768,-5.3864,2.5169,-0.36305,-0.50348,0.2181,0.1304,0.33644,-0.59682,0.5007,-9.3721,1.8895,-1.3149,-0.3325,-0.16349,0.16716,0.81243,0.18293,-0.36218\n",
            "0  8.1017,-0.27045,5.3159,0.16136,-0.37717,0.2587...                                                                                                                                                                                                                                                                                                                      \n",
            "1  8.6983,-0.34821,5.0364,0.23345,-0.41647,0.3037...                                                                                                                                                                                                                                                                                                                      \n",
            "2  9.8085,-0.34281,5.1643,0.25868,-0.37419,0.3757...                                                                                                                                                                                                                                                                                                                      \n",
            "3  10.954,-0.74518,5.2972,0.29829,-0.38812,0.4069...                                                                                                                                                                                                                                                                                                                      \n",
            "4  13.294,-1.2133,4.6478,0.36338,-0.34227,0.49458...                                                                                                                                                                                                                                                                                                                      \n",
            "Cek kolom terakhir atau dokumentasi file untuk label aktivitas\n",
            "\n",
            "File: /content/data/data/a05/p5/s35.txt\n",
            "5 baris pertama:\n",
            "  10.415,0.93045,2.5951,-0.68623,0.2455,-0.45236,-0.33673,0.3831,-0.38641,10.841,3.8708,2.282,-0.9897,0.090575,-1.0042,-0.41971,-0.061855,-0.42784,10.543,-2.8268,3.254,-0.75509,-0.40861,-1.0358,-0.30214,0.46865,-0.089183,-10.304,3.6286,-2.1059,0.045923,-0.071146,1.0703,0.41952,-0.002959,0.37861,-10.49,-3.0299,-3.3544,-0.50459,-0.4636,1.4497,0.37973,0.43054,-0.082319\n",
            "0  9.6309,0.69227,2.5876,-0.74975,0.40549,-0.4368...                                                                                                                                                                                                                                                                                                                            \n",
            "1  8.8787,0.8388,2.6575,-0.74138,0.46839,-0.40795...                                                                                                                                                                                                                                                                                                                            \n",
            "2  8.1926,1.0276,3.1534,-0.79349,0.37,-0.41858,-0...                                                                                                                                                                                                                                                                                                                            \n",
            "3  7.3106,0.46404,3.1804,-0.76349,0.39486,-0.4023...                                                                                                                                                                                                                                                                                                                            \n",
            "4  6.3178,0.22681,3.3579,-0.76585,0.30178,-0.3765...                                                                                                                                                                                                                                                                                                                            \n",
            "Cek kolom terakhir atau dokumentasi file untuk label aktivitas\n",
            "\n",
            "File: /content/data/data/a05/p5/s09.txt\n",
            "5 baris pertama:\n",
            "  9.5384,0.037582,6.1233,0.17056,-0.57566,0.31557,-0.45141,0.46802,-0.39066,10.083,5.2815,4.2289,-0.15747,-0.55923,0.44271,-0.43405,-0.014289,-0.56875,10.245,-2.7241,3.7956,0.52125,-0.48449,-0.38275,-0.51741,0.51203,0.13285,-7.0366,12.597,1.0643,-0.44926,0.31786,-0.46289,0.076794,-0.66154,0.31656,-10.548,5.0137,-0.93009,-0.52451,-0.49725,0.30545,0.66478,0.29218,-0.089369\n",
            "0  11.001,0.316,5.8154,0.18981,-0.60437,0.44171,-...                                                                                                                                                                                                                                                                                                                                 \n",
            "1  13.624,0.50059,6.2692,0.21868,-0.46995,0.60562...                                                                                                                                                                                                                                                                                                                                 \n",
            "2  13.588,-0.019868,4.9449,0.16647,-0.14628,0.754...                                                                                                                                                                                                                                                                                                                                 \n",
            "3  13.075,-0.85156,2.7345,-0.030217,-0.17964,0.83...                                                                                                                                                                                                                                                                                                                                 \n",
            "4  11.324,-2.3091,0.17489,0.10327,-0.090765,0.727...                                                                                                                                                                                                                                                                                                                                 \n",
            "Cek kolom terakhir atau dokumentasi file untuk label aktivitas\n",
            "\n",
            "File: /content/data/data/a05/p5/s01.txt\n",
            "5 baris pertama:\n",
            "  14.436,-2.3482,4.589,0.29775,-0.10987,0.676,-0.48945,0.65731,-0.2749,13.684,3.5594,3.5023,0.062628,-1.4246,1.8919,-0.50462,0.19279,-0.65444,14.459,-4.2953,4.2124,-0.11095,-0.41733,-0.7356,-0.58914,0.53815,0.22579,-12.586,3.8381,-2.3316,0.99774,0.40054,-1.6139,0.34421,-0.55536,0.51149,-13.578,-1.383,-1.1319,-1.3519,-0.40752,-0.32388,0.80004,0.24839,-0.26504\n",
            "0  12.456,-2.917,2.5856,0.56428,0.038351,0.64805,...                                                                                                                                                                                                                                                                                                                    \n",
            "1  10.149,-2.5333,2.0483,0.78841,0.15601,0.49165,...                                                                                                                                                                                                                                                                                                                    \n",
            "2  9.1963,-2.3693,1.8407,0.97017,0.075018,0.2368,...                                                                                                                                                                                                                                                                                                                    \n",
            "3  8.0632,-2.1401,2.3932,1.1711,0.15092,0.12267,-...                                                                                                                                                                                                                                                                                                                    \n",
            "4  6.7319,-1.4191,2.6116,1.1807,0.25554,0.12578,-...                                                                                                                                                                                                                                                                                                                    \n",
            "Cek kolom terakhir atau dokumentasi file untuk label aktivitas\n"
          ]
        }
      ]
    },
    {
      "cell_type": "code",
      "source": [
        "import pandas as pd\n",
        "import glob\n",
        "import os\n",
        "import zipfile\n",
        "\n",
        "# ================================\n",
        "# 1️⃣ Extract ZIP (kalau belum)\n",
        "# ================================\n",
        "zip_path = '/content/sample_data/daily+and+sports+activities.zip'\n",
        "extract_path = '/content/data/'\n",
        "\n",
        "with zipfile.ZipFile(zip_path, 'r') as zip_ref:\n",
        "    zip_ref.extractall(extract_path)\n",
        "print(\"ZIP berhasil di-extract ke:\", extract_path)\n",
        "\n",
        "# ================================\n",
        "# 2️⃣ Cari semua file .txt\n",
        "# ================================\n",
        "all_files = glob.glob(os.path.join(extract_path, '**/*.txt'), recursive=True)\n",
        "print(f\"Jumlah file txt ditemukan: {len(all_files)}\")\n",
        "\n",
        "# ================================\n",
        "# 3️⃣ Baca semua file dan tambahkan kolom Activity\n",
        "# ================================\n",
        "list_df = []\n",
        "\n",
        "for file in all_files:\n",
        "    try:\n",
        "        # Baca file txt (delimiter bisa '\\t', ',' atau ' ')\n",
        "        df = pd.read_csv(file, delimiter=',')  # ganti delimiter jika perlu\n",
        "\n",
        "        # Ambil nama folder terakhir sebagai label aktivitas (misal p1, p2, …)\n",
        "        activity_label = os.path.basename(os.path.dirname(file))\n",
        "        df['Activity'] = activity_label\n",
        "\n",
        "        list_df.append(df)\n",
        "    except Exception as e:\n",
        "        print(f\"File {file} gagal dibaca: {e}\")\n",
        "\n",
        "# ================================\n",
        "# 4️⃣ Gabungkan menjadi satu DataFrame\n",
        "# ================================\n",
        "data = pd.concat(list_df, ignore_index=True)\n",
        "print(\"Data gabungan berhasil dibuat.\")\n",
        "print(\"Ukuran DataFrame:\", data.shape)\n",
        "print(\"Kolom dataset:\", data.columns)\n",
        "print(data.head())\n",
        "\n",
        "# ================================\n",
        "# 5️⃣ Simpan sebagai CSV (opsional)\n",
        "# ================================\n",
        "data.to_csv('/content/merged_data_with_activity.csv', index=False)\n",
        "print(\"Data gabungan dengan kolom Activity tersimpan sebagai merged_data_with_activity.csv\")\n"
      ],
      "metadata": {
        "colab": {
          "base_uri": "https://localhost:8080/"
        },
        "id": "L9kiEeBYdGeq",
        "outputId": "9563356b-2140-4495-d387-427f942f5eb5"
      },
      "execution_count": null,
      "outputs": [
        {
          "output_type": "stream",
          "name": "stdout",
          "text": [
            "ZIP berhasil di-extract ke: /content/data/\n",
            "Jumlah file txt ditemukan: 9120\n"
          ]
        }
      ]
    },
    {
      "cell_type": "code",
      "source": [
        "import pandas as pd\n",
        "import glob\n",
        "import os\n",
        "import zipfile\n",
        "\n",
        "# ================================\n",
        "# 1️⃣ Extract ZIP (kalau belum)\n",
        "# ================================\n",
        "zip_path = '/content/sample_data/daily+and+sports+activities.zip'\n",
        "extract_path = '/content/data/'\n",
        "\n",
        "with zipfile.ZipFile(zip_path, 'r') as zip_ref:\n",
        "    zip_ref.extractall(extract_path)\n",
        "print(\"ZIP berhasil di-extract ke:\", extract_path)\n",
        "\n",
        "# ================================\n",
        "# 2️⃣ Cari semua file .txt\n",
        "# ================================\n",
        "all_files = glob.glob(os.path.join(extract_path, '**/*.txt'), recursive=True)\n",
        "print(f\"Jumlah file txt ditemukan: {len(all_files)}\")\n",
        "\n",
        "# ================================\n",
        "# 3️⃣ Baca beberapa file pertama dan tambahkan kolom Activity\n",
        "# ================================\n",
        "list_df = []\n",
        "\n",
        "for file in all_files[:5]:  # Cek 5 file pertama saja\n",
        "    df = pd.read_csv(file, delimiter=',')  # ganti delimiter jika pakai tab '\\t' atau spasi ' '\n",
        "\n",
        "    # Ambil nama folder terakhir sebagai label aktivitas (misal p1, p2, …)\n",
        "    activity_label = os.path.basename(os.path.dirname(file))\n",
        "    df['Activity'] = activity_label\n",
        "\n",
        "    list_df.append(df)\n",
        "\n",
        "# Gabungkan menjadi satu DataFrame kecil untuk preview\n",
        "data_preview = pd.concat(list_df, ignore_index=True)\n",
        "print(\"5 baris pertama dengan kolom Activity:\")\n",
        "print(data_preview.head())\n",
        "\n",
        "# ================================\n",
        "# 4️⃣ Cek kolom Activity\n",
        "# ================================\n",
        "print(\"Unique activities (Activity):\", data_preview['Activity'].unique())\n"
      ],
      "metadata": {
        "colab": {
          "base_uri": "https://localhost:8080/"
        },
        "id": "sf8ikTm_eaK2",
        "outputId": "f74a8029-4548-47b2-d8e8-eed8b171a4ef"
      },
      "execution_count": 1,
      "outputs": [
        {
          "output_type": "stream",
          "name": "stdout",
          "text": [
            "ZIP berhasil di-extract ke: /content/data/\n",
            "Jumlah file txt ditemukan: 9120\n",
            "5 baris pertama dengan kolom Activity:\n",
            "   6.5959   0.51656  3.4619  -0.73927   0.29616  -0.16035  -0.44152  0.42129  \\\n",
            "0  6.6395  0.396700  3.7077  -0.70432  0.231520  -0.15454  -0.44014  0.43096   \n",
            "1  6.5565  0.337030  3.9753  -0.65683  0.136230  -0.15407  -0.43930  0.44011   \n",
            "2  7.0698  0.375510  4.4420  -0.58738 -0.089959  -0.16022  -0.44442  0.44836   \n",
            "3  7.6502  0.163390  4.4450  -0.46076 -0.108470  -0.14715  -0.44645  0.45555   \n",
            "4  7.6937  0.072778  4.7880  -0.32346 -0.137430  -0.10122  -0.44876  0.45890   \n",
            "\n",
            "   -0.44875  7.0547  ...  0.51149  -13.578  -1.383  -1.1319  -1.3519  \\\n",
            "0  -0.44026  6.9664  ...      NaN      NaN     NaN      NaN      NaN   \n",
            "1  -0.43178  6.8851  ...      NaN      NaN     NaN      NaN      NaN   \n",
            "2  -0.42163  6.8872  ...      NaN      NaN     NaN      NaN      NaN   \n",
            "3  -0.41163  7.2348  ...      NaN      NaN     NaN      NaN      NaN   \n",
            "4  -0.40431  7.6906  ...      NaN      NaN     NaN      NaN      NaN   \n",
            "\n",
            "   -0.40752  -0.32388  0.80004  0.24839  -0.26504  \n",
            "0       NaN       NaN      NaN      NaN       NaN  \n",
            "1       NaN       NaN      NaN      NaN       NaN  \n",
            "2       NaN       NaN      NaN      NaN       NaN  \n",
            "3       NaN       NaN      NaN      NaN       NaN  \n",
            "4       NaN       NaN      NaN      NaN       NaN  \n",
            "\n",
            "[5 rows x 226 columns]\n",
            "Unique activities (Activity): ['p5']\n"
          ]
        }
      ]
    },
    {
      "cell_type": "code",
      "source": [
        "import pandas as pd\n",
        "import glob\n",
        "import os\n",
        "import zipfile\n",
        "\n",
        "# ================================\n",
        "# 1️⃣ Extract ZIP (kalau belum)\n",
        "# ================================\n",
        "zip_path = '/content/sample_data/daily+and+sports+activities.zip'\n",
        "extract_path = '/content/data/'\n",
        "\n",
        "with zipfile.ZipFile(zip_path, 'r') as zip_ref:\n",
        "    zip_ref.extractall(extract_path)\n",
        "print(\"ZIP berhasil di-extract ke:\", extract_path)\n",
        "\n",
        "# ================================\n",
        "# 2️⃣ Cari semua file .txt\n",
        "# ================================\n",
        "all_files = glob.glob(os.path.join(extract_path, '**/*.txt'), recursive=True)\n",
        "print(f\"Jumlah file txt ditemukan: {len(all_files)}\")\n",
        "\n",
        "# ================================\n",
        "# 3️⃣ Baca beberapa file pertama dan tambahkan kolom Activity\n",
        "# ================================\n",
        "list_df = []\n",
        "\n",
        "for file in all_files[:10]:  # preview 10 file pertama\n",
        "    df = pd.read_csv(file, delimiter=',')  # ganti delimiter jika pakai '\\t' atau ' '\n",
        "\n",
        "    # Ambil nama folder terakhir sebagai label aktivitas\n",
        "    activity_label = os.path.basename(os.path.dirname(file))\n",
        "    df['Activity'] = activity_label\n",
        "\n",
        "    list_df.append(df)\n",
        "\n",
        "# Gabungkan menjadi satu DataFrame kecil untuk preview\n",
        "data_preview = pd.concat(list_df, ignore_index=True)\n",
        "\n",
        "# ================================\n",
        "# 4️⃣ Tampilkan ringkasan data\n",
        "# ================================\n",
        "print(\"Jumlah baris dan kolom:\", data_preview.shape)\n",
        "print(\"Kolom dataset:\", data_preview.columns)\n",
        "print(\"Beberapa baris pertama:\")\n",
        "print(data_preview.head())\n",
        "print(\"Unique activities (target):\", data_preview['Activity'].unique())\n",
        "print(\"Tipe data setiap kolom:\")\n",
        "print(data_preview.dtypes)\n"
      ],
      "metadata": {
        "colab": {
          "base_uri": "https://localhost:8080/"
        },
        "id": "Z_eICibKezvN",
        "outputId": "3a85fab6-a55a-45d9-a52b-83a19b74e206"
      },
      "execution_count": 2,
      "outputs": [
        {
          "output_type": "stream",
          "name": "stdout",
          "text": [
            "ZIP berhasil di-extract ke: /content/data/\n",
            "Jumlah file txt ditemukan: 9120\n",
            "Jumlah baris dan kolom: (1240, 450)\n",
            "Kolom dataset: Index(['6.5959', '0.51656', '3.4619', '-0.73927', '0.29616', '-0.16035',\n",
            "       '-0.44152', '0.42129', '-0.44875', '7.0547',\n",
            "       ...\n",
            "       '0.55752', '-10.365', '-1.2302', '-2.5866', '1.0599', '0.9999',\n",
            "       '-2.4063', '0.47814', '0.57264', '-0.14901'],\n",
            "      dtype='object', length=450)\n",
            "Beberapa baris pertama:\n",
            "   6.5959   0.51656  3.4619  -0.73927   0.29616  -0.16035  -0.44152  0.42129  \\\n",
            "0  6.6395  0.396700  3.7077  -0.70432  0.231520  -0.15454  -0.44014  0.43096   \n",
            "1  6.5565  0.337030  3.9753  -0.65683  0.136230  -0.15407  -0.43930  0.44011   \n",
            "2  7.0698  0.375510  4.4420  -0.58738 -0.089959  -0.16022  -0.44442  0.44836   \n",
            "3  7.6502  0.163390  4.4450  -0.46076 -0.108470  -0.14715  -0.44645  0.45555   \n",
            "4  7.6937  0.072778  4.7880  -0.32346 -0.137430  -0.10122  -0.44876  0.45890   \n",
            "\n",
            "   -0.44875  7.0547  ...  0.55752  -10.365  -1.2302  -2.5866  1.0599  0.9999  \\\n",
            "0  -0.44026  6.9664  ...      NaN      NaN      NaN      NaN     NaN     NaN   \n",
            "1  -0.43178  6.8851  ...      NaN      NaN      NaN      NaN     NaN     NaN   \n",
            "2  -0.42163  6.8872  ...      NaN      NaN      NaN      NaN     NaN     NaN   \n",
            "3  -0.41163  7.2348  ...      NaN      NaN      NaN      NaN     NaN     NaN   \n",
            "4  -0.40431  7.6906  ...      NaN      NaN      NaN      NaN     NaN     NaN   \n",
            "\n",
            "   -2.4063  0.47814  0.57264  -0.14901  \n",
            "0      NaN      NaN      NaN       NaN  \n",
            "1      NaN      NaN      NaN       NaN  \n",
            "2      NaN      NaN      NaN       NaN  \n",
            "3      NaN      NaN      NaN       NaN  \n",
            "4      NaN      NaN      NaN       NaN  \n",
            "\n",
            "[5 rows x 450 columns]\n",
            "Unique activities (target): ['p5']\n",
            "Tipe data setiap kolom:\n",
            "6.5959      float64\n",
            "0.51656     float64\n",
            "3.4619      float64\n",
            "-0.73927    float64\n",
            "0.29616     float64\n",
            "             ...   \n",
            "0.9999      float64\n",
            "-2.4063     float64\n",
            "0.47814     float64\n",
            "0.57264     float64\n",
            "-0.14901    float64\n",
            "Length: 450, dtype: object\n"
          ]
        }
      ]
    },
    {
      "cell_type": "code",
      "source": [
        "import pandas as pd\n",
        "import glob\n",
        "import os\n",
        "\n",
        "# Path folder dataset yang sudah di-extract\n",
        "extract_path = '/content/sample_data/daily+and+sports+activities.zip'\n",
        "\n",
        "# Cari semua file .txt\n",
        "all_files = glob.glob(os.path.join(extract_path, '**/*.txt'), recursive=True)\n",
        "\n",
        "# Hitung jumlah total baris\n",
        "total_rows = 0\n",
        "for file in all_files:\n",
        "    df = pd.read_csv(file, delimiter=',')  # ganti delimiter jika pakai '\\t' atau ' '\n",
        "    total_rows += len(df)\n",
        "\n",
        "print(f\"Jumlah total baris data (N) dari semua file: {total_rows}\")\n"
      ],
      "metadata": {
        "colab": {
          "base_uri": "https://localhost:8080/"
        },
        "id": "ElJdENlVf71J",
        "outputId": "4fce10e0-d98e-43ee-865c-7664d1c5bb27"
      },
      "execution_count": 3,
      "outputs": [
        {
          "output_type": "stream",
          "name": "stdout",
          "text": [
            "Jumlah total baris data (N) dari semua file: 0\n"
          ]
        }
      ]
    },
    {
      "cell_type": "code",
      "source": [
        "import pandas as pd\n",
        "import glob\n",
        "import os\n",
        "\n",
        "# Path folder dataset yang sudah di-extract\n",
        "extract_path = '/content/data/'\n",
        "\n",
        "# Cari semua file .txt\n",
        "all_files = glob.glob(os.path.join(extract_path, '**/*.txt'), recursive=True)\n",
        "\n",
        "# Baca beberapa file pertama saja untuk melihat nama kolom\n",
        "list_df = []\n",
        "for file in all_files[:5]:  # preview 5 file pertama\n",
        "    df = pd.read_csv(file, delimiter=',')  # ganti delimiter jika pakai '\\t' atau ' '\n",
        "\n",
        "    # Tambahkan kolom Activity dari nama folder\n",
        "    activity_label = os.path.basename(os.path.dirname(file))\n",
        "    df['Activity'] = activity_label\n",
        "\n",
        "    list_df.append(df)\n",
        "\n",
        "# Gabungkan menjadi satu DataFrame kecil\n",
        "data_preview = pd.concat(list_df, ignore_index=True)\n",
        "\n",
        "# Tampilkan semua fitur (nama kolom sensor) tanpa kolom target 'Activity'\n",
        "features = [col for col in data_preview.columns if col != 'Activity']\n",
        "print(f\"Jumlah fitur: {len(features)}\")\n",
        "print(\"Daftar fitur (sensor):\")\n",
        "print(features)\n"
      ],
      "metadata": {
        "colab": {
          "base_uri": "https://localhost:8080/"
        },
        "id": "7Kfzeemeh-U4",
        "outputId": "a5e5377b-dba2-4045-c366-cec9cab54622"
      },
      "execution_count": 4,
      "outputs": [
        {
          "output_type": "stream",
          "name": "stdout",
          "text": [
            "Jumlah fitur: 225\n",
            "Daftar fitur (sensor):\n",
            "['6.5959', '0.51656', '3.4619', '-0.73927', '0.29616', '-0.16035', '-0.44152', '0.42129', '-0.44875', '7.0547', '2.2979', '0.91864', '-1.0013', '0.18477', '-0.74652', '-0.40066', '-0.077686', '-0.59433', '6.5988', '-2.3951', '2.7206', '-1.1143', '0.29912', '-0.064305', '-0.49031', '0.55456', '0.032235', '-11.12', '1.1965', '-2.24', '-1.2582', '-0.045009', '2.9529', '0.3866', '-0.41368', '0.4646', '-8.9206', '-2.2898', '-2.5117', '-0.5439', '-0.34235', '1.2001', '0.57659', '0.42341', '-0.15808', '7.9821', '-0.3364', '5.3743', '0.020485', '-0.30737', '0.24453', '-0.5443', '0.61957', '-0.24837', '7.9931', '2.9225', '2.5694', '0.093766', '-0.60549', '0.77121', '-0.45673', '0.14646', '-0.71436', '8.8418', '-3.3507', '3.5052', '0.33909', '-0.4646', '-0.4859', '-0.65596', '0.44497', '0.31768', '-5.3864', '2.5169', '-0.36305', '-0.50348', '0.2181', '0.1304', '0.33644', '-0.59682', '0.5007', '-9.3721', '1.8895', '-1.3149', '-0.3325', '-0.16349', '0.16716', '0.81243', '0.18293', '-0.36218', '10.415', '0.93045', '2.5951', '-0.68623', '0.2455', '-0.45236', '-0.33673', '0.3831', '-0.38641', '10.841', '3.8708', '2.282', '-0.9897', '0.090575', '-1.0042', '-0.41971', '-0.061855', '-0.42784', '10.543', '-2.8268', '3.254', '-0.75509', '-0.40861', '-1.0358', '-0.30214', '0.46865', '-0.089183', '-10.304', '3.6286', '-2.1059', '0.045923', '-0.071146', '1.0703', '0.41952', '-0.002959', '0.37861', '-10.49', '-3.0299', '-3.3544', '-0.50459', '-0.4636', '1.4497', '0.37973', '0.43054', '-0.082319', '9.5384', '0.037582', '6.1233', '0.17056', '-0.57566', '0.31557', '-0.45141', '0.46802', '-0.39066', '10.083', '5.2815', '4.2289', '-0.15747', '-0.55923', '0.44271', '-0.43405', '-0.014289', '-0.56875', '10.245', '-2.7241', '3.7956', '0.52125', '-0.48449', '-0.38275', '-0.51741', '0.51203', '0.13285', '-7.0366', '12.597', '1.0643', '-0.44926', '0.31786', '-0.46289', '0.076794', '-0.66154', '0.31656', '-10.548', '5.0137', '-0.93009', '-0.52451', '-0.49725', '0.30545', '0.66478', '0.29218', '-0.089369', '14.436', '-2.3482', '4.589', '0.29775', '-0.10987', '0.676', '-0.48945', '0.65731', '-0.2749', '13.684', '3.5594', '3.5023', '0.062628', '-1.4246', '1.8919', '-0.50462', '0.19279', '-0.65444', '14.459', '-4.2953', '4.2124', '-0.11095', '-0.41733', '-0.7356', '-0.58914', '0.53815', '0.22579', '-12.586', '3.8381', '-2.3316', '0.99774', '0.40054', '-1.6139', '0.34421', '-0.55536', '0.51149', '-13.578', '-1.383', '-1.1319', '-1.3519', '-0.40752', '-0.32388', '0.80004', '0.24839', '-0.26504']\n"
          ]
        }
      ]
    },
    {
      "cell_type": "code",
      "source": [
        "import pandas as pd\n",
        "import glob\n",
        "import os\n",
        "\n",
        "# Path folder dataset\n",
        "extract_path = '/content/data/'\n",
        "\n",
        "# Cari semua file .txt\n",
        "all_files = glob.glob(os.path.join(extract_path, '**/*.txt'), recursive=True)\n",
        "\n",
        "# Baca beberapa file pertama\n",
        "list_df = []\n",
        "for file in all_files[:50]:  # preview 50 file pertama\n",
        "    df = pd.read_csv(file, delimiter=',')  # ganti delimiter jika pakai '\\t' atau ' '\n",
        "\n",
        "    # Tambahkan kolom Activity dari nama folder\n",
        "    df['Activity'] = os.path.basename(os.path.dirname(file))\n",
        "    list_df.append(df)\n",
        "\n",
        "# Gabungkan menjadi satu DataFrame kecil\n",
        "data_preview = pd.concat(list_df, ignore_index=True)\n",
        "\n",
        "# Tampilkan semua label unik\n",
        "labels = data_preview['Activity'].unique()\n",
        "print(f\"Ada {len(labels)} label unik (Activity):\")\n",
        "print(labels)\n"
      ],
      "metadata": {
        "colab": {
          "base_uri": "https://localhost:8080/"
        },
        "id": "pqvVFV_IiKfZ",
        "outputId": "5351c34e-bba6-4f4b-c736-2d129ebda1a4"
      },
      "execution_count": 5,
      "outputs": [
        {
          "output_type": "stream",
          "name": "stdout",
          "text": [
            "Ada 1 label unik (Activity):\n",
            "['p5']\n"
          ]
        }
      ]
    },
    {
      "cell_type": "code",
      "source": [
        "import pandas as pd\n",
        "import glob\n",
        "import os\n",
        "\n",
        "# Path folder dataset\n",
        "extract_path = '/content/data/'\n",
        "\n",
        "# Cari semua file .txt\n",
        "all_files = glob.glob(os.path.join(extract_path, '**/*.txt'), recursive=True)\n",
        "\n",
        "# Baca semua file dan tambahkan kolom Activity\n",
        "list_df = []\n",
        "for file in all_files:\n",
        "    df = pd.read_csv(file, delimiter=',')  # ganti delimiter jika perlu\n",
        "    df['Activity'] = os.path.basename(os.path.dirname(file))\n",
        "    list_df.append(df)\n",
        "\n",
        "# Gabungkan semua menjadi satu DataFrame\n",
        "data = pd.concat(list_df, ignore_index=True)\n",
        "\n",
        "# Hitung distribusi label\n",
        "label_counts = data['Activity'].value_counts()\n",
        "print(\"Distribusi label (jumlah baris per Activity):\")\n",
        "print(label_counts)\n",
        "\n",
        "# Optional: visualisasi distribusi label\n",
        "import matplotlib.pyplot as plt\n",
        "\n",
        "plt.figure(figsize=(10,5))\n",
        "label_counts.plot(kind='bar')\n",
        "plt.title(\"Distribusi Label Aktivitas\")\n",
        "plt.xlabel(\"Activity\")\n",
        "plt.ylabel(\"Jumlah Baris / Sampel\")\n",
        "plt.show()\n"
      ],
      "metadata": {
        "id": "vaTQTGgridgQ"
      },
      "execution_count": null,
      "outputs": []
    },
    {
      "cell_type": "code",
      "source": [
        "import pandas as pd\n",
        "import glob\n",
        "import os\n",
        "import matplotlib.pyplot as plt\n",
        "import seaborn as sns\n",
        "\n",
        "# Path folder dataset\n",
        "extract_path = '/content/data/'\n",
        "\n",
        "# Cari semua file .txt\n",
        "all_files = glob.glob(os.path.join(extract_path, '**/*.txt'), recursive=True)\n",
        "\n",
        "# Baca beberapa file pertama saja untuk EDA (misal 50 file)\n",
        "list_df = []\n",
        "for file in all_files[:50]:\n",
        "    df = pd.read_csv(file, delimiter=',')\n",
        "    df['Activity'] = os.path.basename(os.path.dirname(file))\n",
        "    list_df.append(df)\n",
        "\n",
        "data_preview = pd.concat(list_df, ignore_index=True)\n",
        "\n",
        "# ================================\n",
        "# 1. Lihat beberapa baris pertama\n",
        "# ================================\n",
        "print(data_preview.head())\n",
        "\n",
        "# ================================\n",
        "# 2. Statistik deskriptif\n",
        "# ================================\n",
        "print(data_preview.describe())\n",
        "\n",
        "# ================================\n",
        "# 3. Distribusi label\n",
        "# ================================\n",
        "label_counts = data_preview['Activity'].value_counts()\n",
        "print(label_counts)\n",
        "\n",
        "plt.figure(figsize=(8,5))\n",
        "sns.barplot(x=label_counts.index, y=label_counts.values)\n",
        "plt.title(\"Distribusi Label Aktivitas (Preview 50 file)\")\n",
        "plt.xlabel(\"Activity\")\n",
        "plt.ylabel(\"Jumlah Baris / Sampel\")\n",
        "plt.show()\n",
        "\n",
        "# ================================\n",
        "# 4. Visualisasi fitur contoh\n",
        "# ================================\n",
        "# Ambil beberapa fitur sensor pertama\n",
        "sample_features = data_preview.columns[:5]\n",
        "data_preview[sample_features].hist(figsize=(12,6), bins=20)\n",
        "plt.suptitle(\"Distribusi Beberapa Fitur Sensor\")\n",
        "plt.show()\n"
      ],
      "metadata": {
        "colab": {
          "base_uri": "https://localhost:8080/",
          "height": 1000
        },
        "id": "DYxBHSnIjoYw",
        "outputId": "056aae17-9d0d-418f-d7f7-2b0a6e65c7db"
      },
      "execution_count": 1,
      "outputs": [
        {
          "output_type": "stream",
          "name": "stdout",
          "text": [
            "   6.5959   0.51656  3.4619  -0.73927   0.29616  -0.16035  -0.44152  0.42129  \\\n",
            "0  6.6395  0.396700  3.7077  -0.70432  0.231520  -0.15454  -0.44014  0.43096   \n",
            "1  6.5565  0.337030  3.9753  -0.65683  0.136230  -0.15407  -0.43930  0.44011   \n",
            "2  7.0698  0.375510  4.4420  -0.58738 -0.089959  -0.16022  -0.44442  0.44836   \n",
            "3  7.6502  0.163390  4.4450  -0.46076 -0.108470  -0.14715  -0.44645  0.45555   \n",
            "4  7.6937  0.072778  4.7880  -0.32346 -0.137430  -0.10122  -0.44876  0.45890   \n",
            "\n",
            "   -0.44875  7.0547  ...  -0.32704  -9.0728  -0.50385  -3.2895  -0.47161  \\\n",
            "0  -0.44026  6.9664  ...       NaN      NaN       NaN      NaN       NaN   \n",
            "1  -0.43178  6.8851  ...       NaN      NaN       NaN      NaN       NaN   \n",
            "2  -0.42163  6.8872  ...       NaN      NaN       NaN      NaN       NaN   \n",
            "3  -0.41163  7.2348  ...       NaN      NaN       NaN      NaN       NaN   \n",
            "4  -0.40431  7.6906  ...       NaN      NaN       NaN      NaN       NaN   \n",
            "\n",
            "   -0.20237  1.2097  0.65532  0.3664  -0.1755  \n",
            "0       NaN     NaN      NaN     NaN      NaN  \n",
            "1       NaN     NaN      NaN     NaN      NaN  \n",
            "2       NaN     NaN      NaN     NaN      NaN  \n",
            "3       NaN     NaN      NaN     NaN      NaN  \n",
            "4       NaN     NaN      NaN     NaN      NaN  \n",
            "\n",
            "[5 rows x 2245 columns]\n",
            "           6.5959     0.51656      3.4619    -0.73927     0.29616    -0.16035  \\\n",
            "count  124.000000  124.000000  124.000000  124.000000  124.000000  124.000000   \n",
            "mean     9.020690   -0.375300    3.408504    0.048614   -0.013563    0.019473   \n",
            "std      1.968794    1.001033    1.537944    0.499212    0.280833    0.207675   \n",
            "min      5.873600   -3.037800   -1.183900   -0.896100   -0.489360   -0.320410   \n",
            "25%      7.645850   -0.903822    2.497900   -0.297735   -0.203110   -0.141657   \n",
            "50%      8.517100   -0.271675    3.960050    0.027558   -0.117690   -0.055125   \n",
            "75%      9.988925    0.166070    4.507625    0.454490    0.163410    0.157765   \n",
            "max     15.116000    1.756600    5.968100    1.146100    0.955700    0.528280   \n",
            "\n",
            "         -0.44152     0.42129    -0.44875      7.0547  ...    -0.32704  \\\n",
            "count  124.000000  124.000000  124.000000  124.000000  ...  124.000000   \n",
            "mean    -0.417142    0.450983   -0.432308    8.954113  ...   -0.292626   \n",
            "std      0.034184    0.055633    0.058492    1.868967  ...    0.219998   \n",
            "min     -0.472430    0.357180   -0.519600    6.028600  ...   -0.600330   \n",
            "25%     -0.444125    0.396790   -0.490715    7.555275  ...   -0.513088   \n",
            "50%     -0.415755    0.456035   -0.436415    8.535600  ...   -0.292780   \n",
            "75%     -0.397238    0.501010   -0.375827   10.028250  ...   -0.070007   \n",
            "max     -0.339800    0.543270   -0.343940   13.694000  ...    0.039984   \n",
            "\n",
            "          -9.0728    -0.50385     -3.2895    -0.47161    -0.20237      1.2097  \\\n",
            "count  124.000000  124.000000  124.000000  124.000000  124.000000  124.000000   \n",
            "mean    -9.559355   -1.541508   -1.902200   -0.045221    0.077777   -0.049973   \n",
            "std      2.074356    2.736017    0.993640    0.708310    0.464013    1.319342   \n",
            "min    -13.388000   -9.102900   -4.452700   -1.683000   -0.553090   -2.570000   \n",
            "25%    -10.920250   -3.074675   -2.479600   -0.576693   -0.266563   -1.307075   \n",
            "50%     -9.817400   -1.394700   -1.881950   -0.112325   -0.116105    0.308560   \n",
            "75%     -8.870425    0.176223   -1.376075    0.453995    0.397495    1.184700   \n",
            "max     -4.430600    4.190600    0.597340    2.182300    1.359400    1.524100   \n",
            "\n",
            "          0.65532      0.3664     -0.1755  \n",
            "count  124.000000  124.000000  124.000000  \n",
            "mean     0.530258    0.444996   -0.174815  \n",
            "std      0.158106    0.163340    0.031537  \n",
            "min      0.235800    0.217880   -0.262930  \n",
            "25%      0.379277    0.274452   -0.193483  \n",
            "50%      0.577400    0.453540   -0.174250  \n",
            "75%      0.676615    0.608592   -0.149633  \n",
            "max      0.717640    0.692410   -0.116600  \n",
            "\n",
            "[8 rows x 2244 columns]\n",
            "Activity\n",
            "p5    6200\n",
            "Name: count, dtype: int64\n"
          ]
        },
        {
          "output_type": "display_data",
          "data": {
            "text/plain": [
              "<Figure size 800x500 with 1 Axes>"
            ],
            "image/png": "[encoded data removed]"
          },
          "metadata": {}
        },
        {
          "output_type": "display_data",
          "data": {
            "text/plain": [
              "<Figure size 1200x600 with 6 Axes>"
            ],
            "image/png": "[encoded data removed]"
          },
          "metadata": {}
        }
      ]
    }
  ]
}